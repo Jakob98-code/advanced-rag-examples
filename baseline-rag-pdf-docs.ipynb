{
 "cells": [
  {
   "cell_type": "markdown",
   "id": "fcba9c38-ce3e-486a-8d3a-96e3a37b70ea",
   "metadata": {},
   "source": [
    "# Baseline RAG example\n",
    "\n",
    "This is a simple example of a baseline RAG application which purpose is to answer questions about the fantasy series [Malazan Universe](https://malazan.fandom.com/wiki/Malazan_Wiki) created by Steven Erikson and Ian C. Esslemont.\n",
    "\n",
    "First the example will show each step of a baseline RAG pipeline including **Indexing**, **Retrieval** and **Generation**. This is done in order to show the architecture without the abstraction provided by frameworks like LlamaIndex and LangChain.\n",
    "Then a more \"normal\" example will be shown using LlamaIndex.\n",
    "\n",
    "As a vector database, we will use [ChromaDB](https://docs.trychroma.com/), but this can easily be exchanged with other databases.\n",
    "\n",
    "In this example, we will use the following technologies\n",
    "\n",
    "- OpenAI API\n",
    "- ChromaDB\n",
    "- LlamaIndex\n"
   ]
  },
  {
   "cell_type": "markdown",
   "id": "ae217db9-221f-4811-9101-c87d3db2c821",
   "metadata": {},
   "source": [
    "### Setup libraries and environment\n"
   ]
  },
  {
   "cell_type": "code",
   "execution_count": 3,
   "id": "8edf740a",
   "metadata": {},
   "outputs": [
    {
     "name": "stdout",
     "output_type": "stream",
     "text": [
      "Requirement already satisfied: chromadb in /home/jaav/miniconda3/envs/advanced-rag-env/lib/python3.11/site-packages (0.5.3)\n",
      "Collecting llama-index-vector-stores-chroma\n",
      "  Downloading llama_index_vector_stores_chroma-0.1.10-py3-none-any.whl.metadata (705 bytes)\n",
      "Requirement already satisfied: build>=1.0.3 in /home/jaav/miniconda3/envs/advanced-rag-env/lib/python3.11/site-packages (from chromadb) (1.2.1)\n",
      "Requirement already satisfied: requests>=2.28 in /home/jaav/miniconda3/envs/advanced-rag-env/lib/python3.11/site-packages (from chromadb) (2.32.3)\n",
      "Requirement already satisfied: pydantic>=1.9 in /home/jaav/miniconda3/envs/advanced-rag-env/lib/python3.11/site-packages (from chromadb) (2.7.4)\n",
      "Requirement already satisfied: chroma-hnswlib==0.7.3 in /home/jaav/miniconda3/envs/advanced-rag-env/lib/python3.11/site-packages (from chromadb) (0.7.3)\n",
      "Requirement already satisfied: fastapi>=0.95.2 in /home/jaav/miniconda3/envs/advanced-rag-env/lib/python3.11/site-packages (from chromadb) (0.111.0)\n",
      "Requirement already satisfied: uvicorn>=0.18.3 in /home/jaav/miniconda3/envs/advanced-rag-env/lib/python3.11/site-packages (from uvicorn[standard]>=0.18.3->chromadb) (0.30.1)\n",
      "Requirement already satisfied: numpy<2.0.0,>=1.22.5 in /home/jaav/miniconda3/envs/advanced-rag-env/lib/python3.11/site-packages (from chromadb) (1.26.4)\n",
      "Requirement already satisfied: posthog>=2.4.0 in /home/jaav/miniconda3/envs/advanced-rag-env/lib/python3.11/site-packages (from chromadb) (3.5.0)\n",
      "Requirement already satisfied: typing-extensions>=4.5.0 in /home/jaav/miniconda3/envs/advanced-rag-env/lib/python3.11/site-packages (from chromadb) (4.12.2)\n",
      "Requirement already satisfied: onnxruntime>=1.14.1 in /home/jaav/miniconda3/envs/advanced-rag-env/lib/python3.11/site-packages (from chromadb) (1.18.0)\n",
      "Requirement already satisfied: opentelemetry-api>=1.2.0 in /home/jaav/miniconda3/envs/advanced-rag-env/lib/python3.11/site-packages (from chromadb) (1.25.0)\n",
      "Requirement already satisfied: opentelemetry-exporter-otlp-proto-grpc>=1.2.0 in /home/jaav/miniconda3/envs/advanced-rag-env/lib/python3.11/site-packages (from chromadb) (1.25.0)\n",
      "Requirement already satisfied: opentelemetry-instrumentation-fastapi>=0.41b0 in /home/jaav/miniconda3/envs/advanced-rag-env/lib/python3.11/site-packages (from chromadb) (0.46b0)\n",
      "Requirement already satisfied: opentelemetry-sdk>=1.2.0 in /home/jaav/miniconda3/envs/advanced-rag-env/lib/python3.11/site-packages (from chromadb) (1.25.0)\n",
      "Requirement already satisfied: tokenizers>=0.13.2 in /home/jaav/miniconda3/envs/advanced-rag-env/lib/python3.11/site-packages (from chromadb) (0.19.1)\n",
      "Requirement already satisfied: pypika>=0.48.9 in /home/jaav/miniconda3/envs/advanced-rag-env/lib/python3.11/site-packages (from chromadb) (0.48.9)\n",
      "Requirement already satisfied: tqdm>=4.65.0 in /home/jaav/miniconda3/envs/advanced-rag-env/lib/python3.11/site-packages (from chromadb) (4.66.4)\n",
      "Requirement already satisfied: overrides>=7.3.1 in /home/jaav/miniconda3/envs/advanced-rag-env/lib/python3.11/site-packages (from chromadb) (7.7.0)\n",
      "Requirement already satisfied: importlib-resources in /home/jaav/miniconda3/envs/advanced-rag-env/lib/python3.11/site-packages (from chromadb) (6.4.0)\n",
      "Requirement already satisfied: grpcio>=1.58.0 in /home/jaav/miniconda3/envs/advanced-rag-env/lib/python3.11/site-packages (from chromadb) (1.64.1)\n",
      "Requirement already satisfied: bcrypt>=4.0.1 in /home/jaav/miniconda3/envs/advanced-rag-env/lib/python3.11/site-packages (from chromadb) (4.1.3)\n",
      "Requirement already satisfied: typer>=0.9.0 in /home/jaav/miniconda3/envs/advanced-rag-env/lib/python3.11/site-packages (from chromadb) (0.12.3)\n",
      "Requirement already satisfied: kubernetes>=28.1.0 in /home/jaav/miniconda3/envs/advanced-rag-env/lib/python3.11/site-packages (from chromadb) (30.1.0)\n",
      "Requirement already satisfied: tenacity>=8.2.3 in /home/jaav/miniconda3/envs/advanced-rag-env/lib/python3.11/site-packages (from chromadb) (8.4.2)\n",
      "Requirement already satisfied: PyYAML>=6.0.0 in /home/jaav/miniconda3/envs/advanced-rag-env/lib/python3.11/site-packages (from chromadb) (6.0.1)\n",
      "Requirement already satisfied: mmh3>=4.0.1 in /home/jaav/miniconda3/envs/advanced-rag-env/lib/python3.11/site-packages (from chromadb) (4.1.0)\n",
      "Requirement already satisfied: orjson>=3.9.12 in /home/jaav/miniconda3/envs/advanced-rag-env/lib/python3.11/site-packages (from chromadb) (3.10.5)\n",
      "Requirement already satisfied: httpx>=0.27.0 in /home/jaav/miniconda3/envs/advanced-rag-env/lib/python3.11/site-packages (from chromadb) (0.27.0)\n",
      "Requirement already satisfied: llama-index-core<0.11.0,>=0.10.1 in /home/jaav/miniconda3/envs/advanced-rag-env/lib/python3.11/site-packages (from llama-index-vector-stores-chroma) (0.10.50)\n",
      "Requirement already satisfied: packaging>=19.1 in /home/jaav/miniconda3/envs/advanced-rag-env/lib/python3.11/site-packages (from build>=1.0.3->chromadb) (24.1)\n",
      "Requirement already satisfied: pyproject_hooks in /home/jaav/miniconda3/envs/advanced-rag-env/lib/python3.11/site-packages (from build>=1.0.3->chromadb) (1.1.0)\n",
      "Requirement already satisfied: starlette<0.38.0,>=0.37.2 in /home/jaav/miniconda3/envs/advanced-rag-env/lib/python3.11/site-packages (from fastapi>=0.95.2->chromadb) (0.37.2)\n",
      "Requirement already satisfied: fastapi-cli>=0.0.2 in /home/jaav/miniconda3/envs/advanced-rag-env/lib/python3.11/site-packages (from fastapi>=0.95.2->chromadb) (0.0.4)\n",
      "Requirement already satisfied: jinja2>=2.11.2 in /home/jaav/miniconda3/envs/advanced-rag-env/lib/python3.11/site-packages (from fastapi>=0.95.2->chromadb) (3.1.4)\n",
      "Requirement already satisfied: python-multipart>=0.0.7 in /home/jaav/miniconda3/envs/advanced-rag-env/lib/python3.11/site-packages (from fastapi>=0.95.2->chromadb) (0.0.9)\n",
      "Requirement already satisfied: ujson!=4.0.2,!=4.1.0,!=4.2.0,!=4.3.0,!=5.0.0,!=5.1.0,>=4.0.1 in /home/jaav/miniconda3/envs/advanced-rag-env/lib/python3.11/site-packages (from fastapi>=0.95.2->chromadb) (5.10.0)\n",
      "Requirement already satisfied: email_validator>=2.0.0 in /home/jaav/miniconda3/envs/advanced-rag-env/lib/python3.11/site-packages (from fastapi>=0.95.2->chromadb) (2.2.0)\n",
      "Requirement already satisfied: anyio in /home/jaav/miniconda3/envs/advanced-rag-env/lib/python3.11/site-packages (from httpx>=0.27.0->chromadb) (4.4.0)\n",
      "Requirement already satisfied: certifi in /home/jaav/miniconda3/envs/advanced-rag-env/lib/python3.11/site-packages (from httpx>=0.27.0->chromadb) (2024.6.2)\n",
      "Requirement already satisfied: httpcore==1.* in /home/jaav/miniconda3/envs/advanced-rag-env/lib/python3.11/site-packages (from httpx>=0.27.0->chromadb) (1.0.5)\n",
      "Requirement already satisfied: idna in /home/jaav/miniconda3/envs/advanced-rag-env/lib/python3.11/site-packages (from httpx>=0.27.0->chromadb) (3.7)\n",
      "Requirement already satisfied: sniffio in /home/jaav/miniconda3/envs/advanced-rag-env/lib/python3.11/site-packages (from httpx>=0.27.0->chromadb) (1.3.1)\n",
      "Requirement already satisfied: h11<0.15,>=0.13 in /home/jaav/miniconda3/envs/advanced-rag-env/lib/python3.11/site-packages (from httpcore==1.*->httpx>=0.27.0->chromadb) (0.14.0)\n",
      "Requirement already satisfied: six>=1.9.0 in /home/jaav/miniconda3/envs/advanced-rag-env/lib/python3.11/site-packages (from kubernetes>=28.1.0->chromadb) (1.16.0)\n",
      "Requirement already satisfied: python-dateutil>=2.5.3 in /home/jaav/miniconda3/envs/advanced-rag-env/lib/python3.11/site-packages (from kubernetes>=28.1.0->chromadb) (2.9.0)\n",
      "Requirement already satisfied: google-auth>=1.0.1 in /home/jaav/miniconda3/envs/advanced-rag-env/lib/python3.11/site-packages (from kubernetes>=28.1.0->chromadb) (2.30.0)\n",
      "Requirement already satisfied: websocket-client!=0.40.0,!=0.41.*,!=0.42.*,>=0.32.0 in /home/jaav/miniconda3/envs/advanced-rag-env/lib/python3.11/site-packages (from kubernetes>=28.1.0->chromadb) (1.8.0)\n",
      "Requirement already satisfied: requests-oauthlib in /home/jaav/miniconda3/envs/advanced-rag-env/lib/python3.11/site-packages (from kubernetes>=28.1.0->chromadb) (2.0.0)\n",
      "Requirement already satisfied: oauthlib>=3.2.2 in /home/jaav/miniconda3/envs/advanced-rag-env/lib/python3.11/site-packages (from kubernetes>=28.1.0->chromadb) (3.2.2)\n",
      "Requirement already satisfied: urllib3>=1.24.2 in /home/jaav/miniconda3/envs/advanced-rag-env/lib/python3.11/site-packages (from kubernetes>=28.1.0->chromadb) (2.2.2)\n",
      "Requirement already satisfied: SQLAlchemy>=1.4.49 in /home/jaav/miniconda3/envs/advanced-rag-env/lib/python3.11/site-packages (from SQLAlchemy[asyncio]>=1.4.49->llama-index-core<0.11.0,>=0.10.1->llama-index-vector-stores-chroma) (2.0.31)\n",
      "Requirement already satisfied: aiohttp<4.0.0,>=3.8.6 in /home/jaav/miniconda3/envs/advanced-rag-env/lib/python3.11/site-packages (from llama-index-core<0.11.0,>=0.10.1->llama-index-vector-stores-chroma) (3.9.5)\n",
      "Requirement already satisfied: dataclasses-json in /home/jaav/miniconda3/envs/advanced-rag-env/lib/python3.11/site-packages (from llama-index-core<0.11.0,>=0.10.1->llama-index-vector-stores-chroma) (0.6.7)\n",
      "Requirement already satisfied: deprecated>=1.2.9.3 in /home/jaav/miniconda3/envs/advanced-rag-env/lib/python3.11/site-packages (from llama-index-core<0.11.0,>=0.10.1->llama-index-vector-stores-chroma) (1.2.14)\n",
      "Requirement already satisfied: dirtyjson<2.0.0,>=1.0.8 in /home/jaav/miniconda3/envs/advanced-rag-env/lib/python3.11/site-packages (from llama-index-core<0.11.0,>=0.10.1->llama-index-vector-stores-chroma) (1.0.8)\n",
      "Requirement already satisfied: fsspec>=2023.5.0 in /home/jaav/miniconda3/envs/advanced-rag-env/lib/python3.11/site-packages (from llama-index-core<0.11.0,>=0.10.1->llama-index-vector-stores-chroma) (2024.6.0)\n",
      "Requirement already satisfied: llama-cloud<0.0.7,>=0.0.6 in /home/jaav/miniconda3/envs/advanced-rag-env/lib/python3.11/site-packages (from llama-index-core<0.11.0,>=0.10.1->llama-index-vector-stores-chroma) (0.0.6)\n",
      "Requirement already satisfied: nest-asyncio<2.0.0,>=1.5.8 in /home/jaav/miniconda3/envs/advanced-rag-env/lib/python3.11/site-packages (from llama-index-core<0.11.0,>=0.10.1->llama-index-vector-stores-chroma) (1.6.0)\n",
      "Requirement already satisfied: networkx>=3.0 in /home/jaav/miniconda3/envs/advanced-rag-env/lib/python3.11/site-packages (from llama-index-core<0.11.0,>=0.10.1->llama-index-vector-stores-chroma) (3.3)\n",
      "Requirement already satisfied: nltk<4.0.0,>=3.8.1 in /home/jaav/miniconda3/envs/advanced-rag-env/lib/python3.11/site-packages (from llama-index-core<0.11.0,>=0.10.1->llama-index-vector-stores-chroma) (3.8.1)\n",
      "Requirement already satisfied: openai>=1.1.0 in /home/jaav/miniconda3/envs/advanced-rag-env/lib/python3.11/site-packages (from llama-index-core<0.11.0,>=0.10.1->llama-index-vector-stores-chroma) (1.35.3)\n",
      "Requirement already satisfied: pandas in /home/jaav/miniconda3/envs/advanced-rag-env/lib/python3.11/site-packages (from llama-index-core<0.11.0,>=0.10.1->llama-index-vector-stores-chroma) (2.2.2)\n",
      "Requirement already satisfied: pillow>=9.0.0 in /home/jaav/miniconda3/envs/advanced-rag-env/lib/python3.11/site-packages (from llama-index-core<0.11.0,>=0.10.1->llama-index-vector-stores-chroma) (10.3.0)\n",
      "Requirement already satisfied: tiktoken>=0.3.3 in /home/jaav/miniconda3/envs/advanced-rag-env/lib/python3.11/site-packages (from llama-index-core<0.11.0,>=0.10.1->llama-index-vector-stores-chroma) (0.7.0)\n",
      "Requirement already satisfied: typing-inspect>=0.8.0 in /home/jaav/miniconda3/envs/advanced-rag-env/lib/python3.11/site-packages (from llama-index-core<0.11.0,>=0.10.1->llama-index-vector-stores-chroma) (0.9.0)\n",
      "Requirement already satisfied: wrapt in /home/jaav/miniconda3/envs/advanced-rag-env/lib/python3.11/site-packages (from llama-index-core<0.11.0,>=0.10.1->llama-index-vector-stores-chroma) (1.16.0)\n",
      "Requirement already satisfied: coloredlogs in /home/jaav/miniconda3/envs/advanced-rag-env/lib/python3.11/site-packages (from onnxruntime>=1.14.1->chromadb) (15.0.1)\n",
      "Requirement already satisfied: flatbuffers in /home/jaav/miniconda3/envs/advanced-rag-env/lib/python3.11/site-packages (from onnxruntime>=1.14.1->chromadb) (24.3.25)\n",
      "Requirement already satisfied: protobuf in /home/jaav/miniconda3/envs/advanced-rag-env/lib/python3.11/site-packages (from onnxruntime>=1.14.1->chromadb) (4.25.3)\n",
      "Requirement already satisfied: sympy in /home/jaav/miniconda3/envs/advanced-rag-env/lib/python3.11/site-packages (from onnxruntime>=1.14.1->chromadb) (1.12.1)\n",
      "Requirement already satisfied: importlib-metadata<=7.1,>=6.0 in /home/jaav/miniconda3/envs/advanced-rag-env/lib/python3.11/site-packages (from opentelemetry-api>=1.2.0->chromadb) (7.1.0)\n",
      "Requirement already satisfied: googleapis-common-protos~=1.52 in /home/jaav/miniconda3/envs/advanced-rag-env/lib/python3.11/site-packages (from opentelemetry-exporter-otlp-proto-grpc>=1.2.0->chromadb) (1.63.2)\n",
      "Requirement already satisfied: opentelemetry-exporter-otlp-proto-common==1.25.0 in /home/jaav/miniconda3/envs/advanced-rag-env/lib/python3.11/site-packages (from opentelemetry-exporter-otlp-proto-grpc>=1.2.0->chromadb) (1.25.0)\n",
      "Requirement already satisfied: opentelemetry-proto==1.25.0 in /home/jaav/miniconda3/envs/advanced-rag-env/lib/python3.11/site-packages (from opentelemetry-exporter-otlp-proto-grpc>=1.2.0->chromadb) (1.25.0)\n",
      "Requirement already satisfied: opentelemetry-instrumentation-asgi==0.46b0 in /home/jaav/miniconda3/envs/advanced-rag-env/lib/python3.11/site-packages (from opentelemetry-instrumentation-fastapi>=0.41b0->chromadb) (0.46b0)\n",
      "Requirement already satisfied: opentelemetry-instrumentation==0.46b0 in /home/jaav/miniconda3/envs/advanced-rag-env/lib/python3.11/site-packages (from opentelemetry-instrumentation-fastapi>=0.41b0->chromadb) (0.46b0)\n",
      "Requirement already satisfied: opentelemetry-semantic-conventions==0.46b0 in /home/jaav/miniconda3/envs/advanced-rag-env/lib/python3.11/site-packages (from opentelemetry-instrumentation-fastapi>=0.41b0->chromadb) (0.46b0)\n",
      "Requirement already satisfied: opentelemetry-util-http==0.46b0 in /home/jaav/miniconda3/envs/advanced-rag-env/lib/python3.11/site-packages (from opentelemetry-instrumentation-fastapi>=0.41b0->chromadb) (0.46b0)\n",
      "Requirement already satisfied: setuptools>=16.0 in /home/jaav/miniconda3/envs/advanced-rag-env/lib/python3.11/site-packages (from opentelemetry-instrumentation==0.46b0->opentelemetry-instrumentation-fastapi>=0.41b0->chromadb) (70.1.0)\n",
      "Requirement already satisfied: asgiref~=3.0 in /home/jaav/miniconda3/envs/advanced-rag-env/lib/python3.11/site-packages (from opentelemetry-instrumentation-asgi==0.46b0->opentelemetry-instrumentation-fastapi>=0.41b0->chromadb) (3.8.1)\n",
      "Requirement already satisfied: monotonic>=1.5 in /home/jaav/miniconda3/envs/advanced-rag-env/lib/python3.11/site-packages (from posthog>=2.4.0->chromadb) (1.6)\n",
      "Requirement already satisfied: backoff>=1.10.0 in /home/jaav/miniconda3/envs/advanced-rag-env/lib/python3.11/site-packages (from posthog>=2.4.0->chromadb) (2.2.1)\n",
      "Requirement already satisfied: annotated-types>=0.4.0 in /home/jaav/miniconda3/envs/advanced-rag-env/lib/python3.11/site-packages (from pydantic>=1.9->chromadb) (0.7.0)\n",
      "Requirement already satisfied: pydantic-core==2.18.4 in /home/jaav/miniconda3/envs/advanced-rag-env/lib/python3.11/site-packages (from pydantic>=1.9->chromadb) (2.18.4)\n",
      "Requirement already satisfied: charset-normalizer<4,>=2 in /home/jaav/miniconda3/envs/advanced-rag-env/lib/python3.11/site-packages (from requests>=2.28->chromadb) (3.3.2)\n",
      "Requirement already satisfied: huggingface-hub<1.0,>=0.16.4 in /home/jaav/miniconda3/envs/advanced-rag-env/lib/python3.11/site-packages (from tokenizers>=0.13.2->chromadb) (0.23.4)\n",
      "Requirement already satisfied: click>=8.0.0 in /home/jaav/miniconda3/envs/advanced-rag-env/lib/python3.11/site-packages (from typer>=0.9.0->chromadb) (8.1.7)\n",
      "Requirement already satisfied: shellingham>=1.3.0 in /home/jaav/miniconda3/envs/advanced-rag-env/lib/python3.11/site-packages (from typer>=0.9.0->chromadb) (1.5.4)\n",
      "Requirement already satisfied: rich>=10.11.0 in /home/jaav/miniconda3/envs/advanced-rag-env/lib/python3.11/site-packages (from typer>=0.9.0->chromadb) (13.7.1)\n",
      "Requirement already satisfied: httptools>=0.5.0 in /home/jaav/miniconda3/envs/advanced-rag-env/lib/python3.11/site-packages (from uvicorn[standard]>=0.18.3->chromadb) (0.6.1)\n",
      "Requirement already satisfied: python-dotenv>=0.13 in /home/jaav/miniconda3/envs/advanced-rag-env/lib/python3.11/site-packages (from uvicorn[standard]>=0.18.3->chromadb) (1.0.1)\n",
      "Requirement already satisfied: uvloop!=0.15.0,!=0.15.1,>=0.14.0 in /home/jaav/miniconda3/envs/advanced-rag-env/lib/python3.11/site-packages (from uvicorn[standard]>=0.18.3->chromadb) (0.19.0)\n",
      "Requirement already satisfied: watchfiles>=0.13 in /home/jaav/miniconda3/envs/advanced-rag-env/lib/python3.11/site-packages (from uvicorn[standard]>=0.18.3->chromadb) (0.22.0)\n",
      "Requirement already satisfied: websockets>=10.4 in /home/jaav/miniconda3/envs/advanced-rag-env/lib/python3.11/site-packages (from uvicorn[standard]>=0.18.3->chromadb) (12.0)\n",
      "Requirement already satisfied: aiosignal>=1.1.2 in /home/jaav/miniconda3/envs/advanced-rag-env/lib/python3.11/site-packages (from aiohttp<4.0.0,>=3.8.6->llama-index-core<0.11.0,>=0.10.1->llama-index-vector-stores-chroma) (1.3.1)\n",
      "Requirement already satisfied: attrs>=17.3.0 in /home/jaav/miniconda3/envs/advanced-rag-env/lib/python3.11/site-packages (from aiohttp<4.0.0,>=3.8.6->llama-index-core<0.11.0,>=0.10.1->llama-index-vector-stores-chroma) (23.2.0)\n",
      "Requirement already satisfied: frozenlist>=1.1.1 in /home/jaav/miniconda3/envs/advanced-rag-env/lib/python3.11/site-packages (from aiohttp<4.0.0,>=3.8.6->llama-index-core<0.11.0,>=0.10.1->llama-index-vector-stores-chroma) (1.4.1)\n",
      "Requirement already satisfied: multidict<7.0,>=4.5 in /home/jaav/miniconda3/envs/advanced-rag-env/lib/python3.11/site-packages (from aiohttp<4.0.0,>=3.8.6->llama-index-core<0.11.0,>=0.10.1->llama-index-vector-stores-chroma) (6.0.5)\n",
      "Requirement already satisfied: yarl<2.0,>=1.0 in /home/jaav/miniconda3/envs/advanced-rag-env/lib/python3.11/site-packages (from aiohttp<4.0.0,>=3.8.6->llama-index-core<0.11.0,>=0.10.1->llama-index-vector-stores-chroma) (1.9.4)\n",
      "Requirement already satisfied: dnspython>=2.0.0 in /home/jaav/miniconda3/envs/advanced-rag-env/lib/python3.11/site-packages (from email_validator>=2.0.0->fastapi>=0.95.2->chromadb) (2.6.1)\n",
      "Requirement already satisfied: cachetools<6.0,>=2.0.0 in /home/jaav/miniconda3/envs/advanced-rag-env/lib/python3.11/site-packages (from google-auth>=1.0.1->kubernetes>=28.1.0->chromadb) (5.3.3)\n",
      "Requirement already satisfied: pyasn1-modules>=0.2.1 in /home/jaav/miniconda3/envs/advanced-rag-env/lib/python3.11/site-packages (from google-auth>=1.0.1->kubernetes>=28.1.0->chromadb) (0.4.0)\n",
      "Requirement already satisfied: rsa<5,>=3.1.4 in /home/jaav/miniconda3/envs/advanced-rag-env/lib/python3.11/site-packages (from google-auth>=1.0.1->kubernetes>=28.1.0->chromadb) (4.9)\n",
      "Requirement already satisfied: filelock in /home/jaav/miniconda3/envs/advanced-rag-env/lib/python3.11/site-packages (from huggingface-hub<1.0,>=0.16.4->tokenizers>=0.13.2->chromadb) (3.15.4)\n",
      "Requirement already satisfied: zipp>=0.5 in /home/jaav/miniconda3/envs/advanced-rag-env/lib/python3.11/site-packages (from importlib-metadata<=7.1,>=6.0->opentelemetry-api>=1.2.0->chromadb) (3.19.2)\n",
      "Requirement already satisfied: MarkupSafe>=2.0 in /home/jaav/miniconda3/envs/advanced-rag-env/lib/python3.11/site-packages (from jinja2>=2.11.2->fastapi>=0.95.2->chromadb) (2.1.5)\n",
      "Requirement already satisfied: joblib in /home/jaav/miniconda3/envs/advanced-rag-env/lib/python3.11/site-packages (from nltk<4.0.0,>=3.8.1->llama-index-core<0.11.0,>=0.10.1->llama-index-vector-stores-chroma) (1.4.2)\n",
      "Requirement already satisfied: regex>=2021.8.3 in /home/jaav/miniconda3/envs/advanced-rag-env/lib/python3.11/site-packages (from nltk<4.0.0,>=3.8.1->llama-index-core<0.11.0,>=0.10.1->llama-index-vector-stores-chroma) (2024.5.15)\n",
      "Requirement already satisfied: distro<2,>=1.7.0 in /home/jaav/miniconda3/envs/advanced-rag-env/lib/python3.11/site-packages (from openai>=1.1.0->llama-index-core<0.11.0,>=0.10.1->llama-index-vector-stores-chroma) (1.9.0)\n",
      "Requirement already satisfied: markdown-it-py>=2.2.0 in /home/jaav/miniconda3/envs/advanced-rag-env/lib/python3.11/site-packages (from rich>=10.11.0->typer>=0.9.0->chromadb) (3.0.0)\n",
      "Requirement already satisfied: pygments<3.0.0,>=2.13.0 in /home/jaav/miniconda3/envs/advanced-rag-env/lib/python3.11/site-packages (from rich>=10.11.0->typer>=0.9.0->chromadb) (2.18.0)\n",
      "Requirement already satisfied: greenlet!=0.4.17 in /home/jaav/miniconda3/envs/advanced-rag-env/lib/python3.11/site-packages (from SQLAlchemy>=1.4.49->SQLAlchemy[asyncio]>=1.4.49->llama-index-core<0.11.0,>=0.10.1->llama-index-vector-stores-chroma) (3.0.3)\n",
      "Requirement already satisfied: mypy-extensions>=0.3.0 in /home/jaav/miniconda3/envs/advanced-rag-env/lib/python3.11/site-packages (from typing-inspect>=0.8.0->llama-index-core<0.11.0,>=0.10.1->llama-index-vector-stores-chroma) (1.0.0)\n",
      "Requirement already satisfied: humanfriendly>=9.1 in /home/jaav/miniconda3/envs/advanced-rag-env/lib/python3.11/site-packages (from coloredlogs->onnxruntime>=1.14.1->chromadb) (10.0)\n",
      "Requirement already satisfied: marshmallow<4.0.0,>=3.18.0 in /home/jaav/miniconda3/envs/advanced-rag-env/lib/python3.11/site-packages (from dataclasses-json->llama-index-core<0.11.0,>=0.10.1->llama-index-vector-stores-chroma) (3.21.3)\n",
      "Requirement already satisfied: pytz>=2020.1 in /home/jaav/miniconda3/envs/advanced-rag-env/lib/python3.11/site-packages (from pandas->llama-index-core<0.11.0,>=0.10.1->llama-index-vector-stores-chroma) (2024.1)\n",
      "Requirement already satisfied: tzdata>=2022.7 in /home/jaav/miniconda3/envs/advanced-rag-env/lib/python3.11/site-packages (from pandas->llama-index-core<0.11.0,>=0.10.1->llama-index-vector-stores-chroma) (2024.1)\n",
      "Requirement already satisfied: mpmath<1.4.0,>=1.1.0 in /home/jaav/miniconda3/envs/advanced-rag-env/lib/python3.11/site-packages (from sympy->onnxruntime>=1.14.1->chromadb) (1.3.0)\n",
      "Requirement already satisfied: mdurl~=0.1 in /home/jaav/miniconda3/envs/advanced-rag-env/lib/python3.11/site-packages (from markdown-it-py>=2.2.0->rich>=10.11.0->typer>=0.9.0->chromadb) (0.1.2)\n",
      "Requirement already satisfied: pyasn1<0.7.0,>=0.4.6 in /home/jaav/miniconda3/envs/advanced-rag-env/lib/python3.11/site-packages (from pyasn1-modules>=0.2.1->google-auth>=1.0.1->kubernetes>=28.1.0->chromadb) (0.6.0)\n",
      "Downloading llama_index_vector_stores_chroma-0.1.10-py3-none-any.whl (5.0 kB)\n",
      "Installing collected packages: llama-index-vector-stores-chroma\n",
      "Successfully installed llama-index-vector-stores-chroma-0.1.10\n",
      "Note: you may need to restart the kernel to use updated packages.\n"
     ]
    }
   ],
   "source": [
    "# %pip install chromadb llama-index-vector-stores-chroma"
   ]
  },
  {
   "cell_type": "code",
   "execution_count": 1,
   "id": "d7a26f5a-d799-4b80-93e5-60579a74852e",
   "metadata": {},
   "outputs": [],
   "source": [
    "import os\n",
    "\n",
    "import chromadb\n",
    "import chromadb.utils.embedding_functions as embedding_functions\n",
    "from chromadb import Settings\n",
    "from IPython.display import Markdown, display\n",
    "from llama_index.core import PromptTemplate, SimpleDirectoryReader\n",
    "from llama_index.core.node_parser import SentenceSplitter\n",
    "from openai import OpenAI, AzureOpenAI\n",
    "\n",
    "import importlib\n",
    "import util\n",
    "\n",
    "# Suppose you made some changes to util.py\n",
    "\n",
    "#importlib.reload(util.helpers)\n",
    "from util.helpers import create_and_save_md_files, get_malazan_pages, get_theoffice_pages"
   ]
  },
  {
   "cell_type": "markdown",
   "id": "772c0dca-fd51-4348-9ada-8ca12d0139bc",
   "metadata": {},
   "source": [
    "### Environment variables\n",
    "\n",
    "For this example you need to use an OpenAI API key. Go to [your API keys](https://platform.openai.com/api-keys) in the OpenAI console to generate one.\n",
    "\n",
    "Then add the following to a `.env` file in the root of the project.\n",
    "\n",
    "```\n",
    "OPENAI_API_KEY=<YOUR_KEY_HERE>\n",
    "```\n"
   ]
  },
  {
   "cell_type": "code",
   "execution_count": 2,
   "id": "79b5d76d-dae0-4cfe-b9f1-1de2477b465a",
   "metadata": {},
   "outputs": [],
   "source": [
    "from dotenv import load_dotenv\n",
    "\n",
    "load_dotenv(override=True)\n",
    "OPENAI_API_KEY = os.getenv(\"OPENAI_API_KEY\")\n",
    "OPENAI_API_VERSION = os.getenv(\"OPENAI_API_VERSION\")\n",
    "\n",
    "openai_client = AzureOpenAI(\n",
    "    api_key=OPENAI_API_KEY,  \n",
    "    api_version=\"2024-05-01-preview\", # https://learn.microsoft.com/en-us/azure/ai-services/openai/reference?WT.mc_id=AZ-MVP-5004796\n",
    "    azure_endpoint=os.getenv(\"AZURE_OPENAI_ENDPOINT\")\n",
    ")"
   ]
  },
  {
   "cell_type": "code",
   "execution_count": 3,
   "id": "1224aade",
   "metadata": {},
   "outputs": [],
   "source": [
    "\n",
    "#openai_client = AzureOpenAI(api_key=OPENAI_API_KEY)\n",
    "#openai_ef = embedding_functions.OpenAIEmbeddingFunction(\n",
    "#    api_key=OPENAI_API_KEY,\n",
    "#    model_name=\"text-embedding-3-small\"\n",
    "#)\n",
    "\n",
    "openai_ef = embedding_functions.OpenAIEmbeddingFunction(\n",
    "    api_key=OPENAI_API_KEY,\n",
    "    model_name=\"text-embedding-ada-002\",\n",
    "    api_type=\"azure\", \n",
    "    api_version=\"2024-05-01-preview\"\n",
    ")\n",
    "\n",
    "chroma_client = chromadb.PersistentClient(\n",
    "    path=\"./data/baseline-rag-pdf-docs/chromadb\", settings=Settings(allow_reset=True))"
   ]
  },
  {
   "cell_type": "markdown",
   "id": "5ae6f25f-66b0-4acb-8503-1b00c2868c20",
   "metadata": {},
   "source": [
    "## Indexing\n",
    "\n",
    "In this step, we will index the documents in our vector database. This will allow us to retrieve the most relevant documents when we ask a question.\n",
    "\n",
    "We will use ChromaDB as our vector database and 'text-embedding-3-small' from OpenAI as our embedding model.\n"
   ]
  },
  {
   "cell_type": "markdown",
   "id": "f8534742",
   "metadata": {},
   "source": [
    "#### Fetch and process saved documents\n",
    "\n",
    "First we need to fetch the documents we saved earlier.\n",
    "\n",
    "Then we will process the documents in order to add them to our vector database.\n",
    "The `SimpleDirectoryReader` fetches each section of the markdown file\n",
    "Then each section is split in to smaller chunks of text and each chunk is embedded using the OpenAI API.\n"
   ]
  },
  {
   "cell_type": "code",
   "execution_count": 4,
   "id": "add2504e",
   "metadata": {},
   "outputs": [],
   "source": [
    "documents = SimpleDirectoryReader('./data/docs').load_data()\n",
    "text_splitter = SentenceSplitter(chunk_size=512, chunk_overlap=20)\n",
    "\n",
    "document_data = []\n",
    "\n",
    "for document in documents:\n",
    "    chunks = text_splitter.split_text(document.text)\n",
    "    for idx, chunk in enumerate(chunks):\n",
    "        embedding = openai_client.embeddings.create(\n",
    "            input=chunk, model=\"text-embedding-ada-002\")\n",
    "        document_data.append({\n",
    "            \"id\": f\"{document.id_}-{idx}\",\n",
    "            \"text\": chunk,\n",
    "            \"metadata\": document.metadata,\n",
    "            \"embedding\": embedding.data[0].embedding\n",
    "        })"
   ]
  },
  {
   "cell_type": "code",
   "execution_count": 5,
   "id": "26077bdd",
   "metadata": {},
   "outputs": [
    {
     "name": "stdout",
     "output_type": "stream",
     "text": [
      "embeddings dim 1536\n",
      "{'id': '8dbefb37-643c-4ee5-a4ae-57a430027364-0', 'text': '15\\nMOD EL RISK\\nModels are the wonder and, on occasion, the curse of the modern financial\\nworld. They are used throughout the financial and corporate world for any\\nnumber of purposes, and especially to put a number against the value, or the\\nrisk, of investments and financial positions. They have become central to\\nmany key corporate activities, including market, credit, and asset/liability\\nrisk management.\\nUnfortunately , models can be wrong in the sense of containing some\\ninternal error , and they can also be misapplied, fed the wrong input\\ninformation, and their results misinterpreted. As our dependence on models\\nto understand a complex world has grown, model risks have grown too,\\nincluding within risk management. In this chapter , we explain the\\nimportance of model risk, using the example of market risk. In particular ,\\nwe examine:\\n•   How widespread the problem is\\n•   Model error\\n•   Implementing a model incorrectly\\n•   How model risk can be mitigated\\n•   A case history—L TCM and model risk\\nThroughout the chapter , short case studies highlight the key issues.52\\nWhy Model Risk Is Important: The Market Risk\\nExample\\nModel risk is relatively insignificant for simple instruments, such as stocks\\nand straight bonds. Market prices are normally the best indicator of the\\nCrouhy, Michel, et al. The Essentials of Risk Management, Third Edition, McGraw-Hill Education, 2023. ProQuest Ebook Central, http://ebookcentral.proquest.com/lib/asb/detail.action?docID=30610510.\\nCreated from asb on 2024-06-27 13:29:46.\\nCopyright © 2023. McGraw-Hill Education. All rights reserved.', 'metadata': {'page_label': '1', 'file_name': 'The_Essentials_of_Risk_Management_Third_Edition_----_(15_Model_Risk).pdf', 'file_path': '/home/jaav/proj/RAG/advanced-rag-examples/data/docs/The_Essentials_of_Risk_Management_Third_Edition_----_(15_Model_Risk).pdf', 'file_type': 'application/pdf', 'file_size': 235386, 'creation_date': '2024-06-27', 'last_modified_date': '2024-06-27'}, 'embedding': [-0.004855189938098192, -0.01195724867284298, 0.011690229177474976, -0.04207180067896843, -0.01767536625266075, 0.00467283558100462, -0.020006898790597916, 0.022898521274328232, -0.002829751931130886, -0.03722637891769409, -0.015526187606155872, 0.01820940524339676, -0.029671691358089447, 0.014288781210780144, -0.011273418553173542, 0.02331533282995224, 0.03550703451037407, -0.008114777505397797, 0.01628165692090988, -0.006642915774136782, -0.03503812476992607, 0.020501861348748207, -0.01530475728213787, -0.008987474255263805, 0.0017844695830717683, 0.023028774186968803, 0.03368349000811577, -0.018131252378225327, 0.021517837420105934, -0.009182854555547237, 0.00111529347486794, -0.007932422682642937, -0.033110376447439194, -0.00859020184725523, -0.01375474315136671, 0.02052791230380535, 0.020736318081617355, -0.005148259922862053, -0.00263274391181767, -0.02567291632294655, 0.019016975536942482, 0.01159253902733326, 0.0036340656224638224, -0.003077232977375388, -0.005223155487328768, 0.007131365593522787, 0.01832663267850876, -0.025269130244851112, -0.006551738362759352, 0.009879709221422672, 0.020540937781333923, 0.046161752194166183, -0.008264568634331226, -0.0006007931078784168, -0.011208292096853256, -0.008993986994028091, -0.009215417318046093, -0.00570834893733263, 0.01850898750126362, -0.018430834636092186, 0.002762997057288885, 0.0036926795728504658, -0.021700192242860794, -0.006955523509532213, -0.00043594135786406696, 0.002056373283267021, -0.0009834120282903314, 0.0003856717376038432, -0.010674254037439823, 0.019511936232447624, 0.029280930757522583, 0.034829720854759216, 0.006073057651519775, 0.011755355633795261, -0.009762480854988098, 0.0012162397615611553, -0.02440945990383625, -0.004435123410075903, -0.0046532973647117615, 0.004086695611476898, -0.003663372714072466, 0.006379153113812208, -0.016359807923436165, 0.0033865845762193203, 0.00650940602645278, -0.013976173475384712, 0.024969547986984253, 0.006053519900888205, -0.0005442143883556128, 0.0037415246479213238, 0.00804965104907751, 0.003630809485912323, 0.0005942804855294526, 0.005499943625181913, -0.01876949332654476, 0.002756484318524599, 0.00493334187194705, 0.019524961709976196, 0.0035168377216905355, -0.004496993497014046, 0.013090452179312706, -0.00588744692504406, -0.025112826377153397, -0.007066238671541214, -0.0399356484413147, -0.01186607126146555, 0.023653989657759666, -0.013363983482122421, 0.0006626634276472032, -0.03266751393675804, -0.02896832302212715, 0.03649695962667465, -0.011156191118061543, -0.007326745428144932, 0.023771218955516815, -0.0008376912446692586, 0.012302419170737267, 0.006004674825817347, 0.004949623718857765, -0.01784469559788704, -0.0027304338291287422, 0.013689616695046425, 0.03381374478340149, -0.009423823095858097, 0.01638585887849331, -0.02021530456840992, -0.02592039667069912, -0.00929356925189495, -0.018925797194242477, -0.029098575934767723, 0.015005174092948437, -0.007189979311078787, 0.0075221252627670765, 0.01411945279687643, -0.0158518198877573, 0.020658165216445923, -0.018000999465584755, 0.013741717673838139, -0.02797839790582657, -0.04426005482673645, 0.0037415246479213238, 0.0180270504206419, -0.021517837420105934, 0.013416084460914135, -0.0035233504604548216, -0.0035200940910726786, 0.03735663369297981, 0.020319506525993347, -0.00630100117996335, -0.0032774973660707474, 0.015552238561213017, -0.005522737745195627, 0.016542162746191025, 0.018261505290865898, 0.007789144292473793, 0.021140102297067642, -0.0169980488717556, 0.0067992196418344975, -0.014783743768930435, -0.014835845679044724, 0.014913997612893581, 0.012575951404869556, -0.00010191299224970862, 0.05397694557905197, 0.023054825142025948, 0.004334176890552044, 0.010732867754995823, 0.015435010194778442, 0.00431138277053833, -0.009300081990659237, 0.004523043986409903, 0.016138378530740738, -0.017896797508001328, 0.03519442677497864, -0.006994599476456642, 0.028916221112012863, -0.0019603113178163767, 0.011299469508230686, -0.02500862441956997, -0.03428265452384949, 0.004138797055929899, 0.005408766213804483, 0.011481824330985546, 0.01759721338748932, -0.01301881205290556, 0.029176728799939156, 0.021713217720389366, -0.015487111173570156, -0.003549401182681322, -0.0208795964717865, 0.010876146145164967, 0.015487111173570156, 0.0070727514103055, -0.02787419594824314, -0.624381959438324, -0.0016949204728007317, -0.022664066404104233, 0.029880095273256302, -0.01058958936482668, 0.006792706903070211, 0.03863311558961868, 0.008870246820151806, -0.005711604841053486, 0.023106927052140236, -0.015995100140571594, -0.003293778980150819, 0.011794432066380978, -0.0353507325053215, -0.008792094886302948, -0.029958248138427734, 0.014041300863027573, -0.02513887733221054, 0.004676091484725475, 0.007639353163540363, -0.01329234428703785, 0.024305256083607674, -0.01241964753717184, 0.004096464719623327, 0.009000499732792377, 0.021635064855217934, 0.009287056513130665, -0.03850286081433296, 0.026675865054130554, 0.00478355074301362, -0.0024194540455937386, 0.0084404107183218, -0.02082749456167221, 0.038581013679504395, 0.041368432343006134, -0.009892734698951244, -0.02621997892856598, 0.023028774186968803, 0.019707316532731056, 0.03290197253227234, -0.017453934997320175, -0.012256830930709839, 0.0008897925144992769, 0.0027060112915933132, -0.0014563942095264792, 0.019772443920373917, 0.02852546237409115, -0.0036861670669168234, -0.01453626248985529, 0.02476114220917225, 0.020176228135824203, -0.007704479619860649, -0.018417809158563614, -0.009996936656534672, -0.013318395242094994, -0.0099252974614501, 0.009840632788836956, -0.04384324327111244, 0.010999887250363827, -0.004457917530089617, -0.018352683633565903, -0.002636000281199813, -0.0013041606871411204, -0.013728692196309566, -0.012250318191945553, 0.0009011896909214556, 0.02823890559375286, 0.012341495603322983, 0.00036674432340078056, -0.0326414629817009, 0.0006724324193783104, 0.013819869607686996, -0.022963648661971092, -0.020606065168976784, 0.028369158506393433, 0.013136040419340134, 0.03417845442891121, -0.01852201297879219, -0.003539632074534893, 0.01335095800459385, 0.021752292290329933, -0.021205229684710503, -0.0038587525486946106, -0.03230280801653862, 0.010192316956818104, -0.017532087862491608, 0.005884190555661917, -0.00977550633251667, -0.012790868990123272, 0.016802668571472168, 0.019759418442845345, -0.0015540841268375516, -0.005835345480591059, -0.00853158812969923, 0.019277481362223625, 0.022937597706913948, 0.0036894234362989664, 0.005942804738879204, 0.02117917872965336, -0.0023380457423627377, -0.02094472199678421, -0.011703254655003548, 0.0039824931882321835, 0.03277171775698662, -0.0015980445314198732, 0.015539213083684444, 0.014288781210780144, -0.003581964410841465, 0.03990959748625755, -0.04449450969696045, -0.0014165041502565145, 3.414059756323695e-05, -0.003087002085521817, -0.007352795917540789, 0.024188028648495674, -0.03047926165163517, 0.013298857025802135, -0.010022987611591816, -0.0011527412571012974, 0.0001785894128261134, 0.02575106732547283, 0.009449873119592667, 0.005451098550111055, -0.019889671355485916, -0.0002307924733031541, -0.00036084221210330725, -0.002209420781582594, -0.001747021684423089, 0.017532087862491608, -0.0036080151330679655, 0.016294682398438454, -0.0224686861038208, 0.020111102610826492, -0.030687665566802025, 0.007893347181379795, -0.009287056513130665, 0.011586026288568974, -0.012354521080851555, 0.012172166258096695, 0.0016607289435341954, -0.014379958622157574, -0.018300581723451614, 0.006336820777505636, -0.013507261872291565, -0.026662839576601982, -0.030375057831406593, -0.008603227324783802, -0.008733480237424374, 0.03300617262721062, 0.007671916391700506, -0.010426772758364677, -0.012282881885766983, -0.01290158461779356, 0.012882046401500702, -0.00407041423022747, -0.008414359763264656, 0.011612077243626118, -0.029098575934767723, -0.009462898597121239, 0.0015133799752220511, -0.006213080137968063, 0.03774739056825638, -0.05595679581165314, 0.018652265891432762, -0.0033507649786770344, -0.019290506839752197, -0.024722067639231682, 0.01405432540923357, -0.03199020028114319, -0.03047926165163517, -0.002098705619573593, -0.02117917872965336, -0.0018886721227318048, 0.02823890559375286, -0.0027548563666641712, 0.035246528685092926, 0.011377621442079544, -0.01804007589817047, -0.0006675479235127568, -0.00834923330694437, -0.00011224166519241408, -0.01822243072092533, -0.013331419788300991, -0.030218753963708878, 0.004168103914707899, 0.017271580174565315, 0.024852320551872253, 0.0038978285156190395, 0.0035656827967613935, 0.020358582958579063, -0.0004428610554896295, 0.026063675060868263, -0.010237905196845531, 0.011644640937447548, 0.004952880088239908, 0.009391259402036667, 0.0016216529766097665, -0.007131365593522787, -0.025659890845417976, 0.034386858344078064, 0.004262537695467472, 0.01832663267850876, 0.025230053812265396, -0.030974222347140312, -0.00840784702450037, -0.007893347181379795, 0.00977550633251667, 1.2325722309469711e-05, 0.0319380983710289, 0.028395209461450577, 0.02883807010948658, 0.0085576381534338, -0.018730416893959045, -0.0208795964717865, -0.010394209064543247, 0.02737923339009285, 0.019225379452109337, 0.00010460964404046535, -0.018235454335808754, 0.0056757852435112, -0.02683216892182827, -0.021661115810275078, 0.05186684429645538, -0.011950735934078693, 0.0047021424397826195, 0.025177953764796257, -0.0007318604621104896, -0.013989198952913284, -0.017284605652093887, -0.023146003484725952, -0.015929972752928734, 0.020241355523467064, 0.012256830930709839, 0.0037578062620013952, 0.016164427623152733, 0.017141327261924744, 0.013064401224255562, -0.0066689662635326385, 0.027118727564811707, -0.013090452179312706, 0.003630809485912323, -0.0015850192867219448, -0.007216030266135931, 0.003611271269619465, 0.022690115496516228, -0.013676591217517853, 0.02585527114570141, 0.04183734580874443, -0.007229055278003216, 0.009241468273103237, -0.0198505949229002, 0.036392759531736374, -0.005311076529324055, 0.0076198154129087925, -0.0002938839024864137, -0.029906146228313446, 0.02641535922884941, 0.0003706112038344145, 0.015864845365285873, 0.0012536875437945127, 0.0061349282041192055, 0.005301307421177626, 0.005193848162889481, -0.0016371204983443022, 0.03120867908000946, -0.007932422682642937, 0.0008897925144992769, -0.03735663369297981, -0.007346283178776503, 0.00769796734675765, -0.004584914539009333, 0.005597633309662342, -0.0074765365570783615, -0.006164235062897205, 0.023601889610290527, 0.01820940524339676, 0.01912117749452591, 0.014940047636628151, 0.030870020389556885, 0.022507762536406517, -0.02678006887435913, -0.02162203937768936, 0.01681569404900074, 0.00529479468241334, 0.0017763286596164107, -0.01411945279687643, -0.022664066404104233, 0.012686667032539845, -0.016372833400964737, 0.022716166451573372, 0.0060502635315060616, 0.003653603605926037, -0.019863620400428772, -0.00021858123363927007, 0.004213692620396614, 0.01955101266503334, 0.028369158506393433, -0.01675056852400303, -0.020723292604088783, -0.0030414133798331022, 0.010303032584488392, -0.011853045783936977, -0.01645098626613617, -0.006747118197381496, 0.004799832124263048, 0.014692566357553005, -0.0042495122179389, 0.009156803600490093, -0.030453210696578026, 0.007144390605390072, 0.0008450179593637586, -0.037252429872751236, -0.006994599476456642, -0.010172778740525246, 0.019590089097619057, 0.002829751931130886, 0.009430335834622383, -0.002916044555604458, 0.024188028648495674, -0.0033328549470752478, 0.03042715974152088, -0.009039575234055519, -0.02325020544230938, 0.023119952529668808, 0.06611654907464981, 0.006968548987060785, -0.017349733039736748, 0.017623264342546463, -0.02483929507434368, -0.033970046788454056, -0.02409685216844082, -0.0169980488717556, 0.013363983482122421, 0.03420450538396835, 0.027118727564811707, 0.006916447542607784, 0.00965827889740467, 0.019264455884695053, 0.02064513973891735, -0.01724553108215332, 0.002780906856060028, 0.0019635676871985197, 0.007118340115994215, -0.010491899214684963, 0.02319810353219509, -0.006988086737692356, 0.020801443606615067, 0.041915494948625565, 0.00722254253923893, -0.012940660119056702, 0.034933920949697495, 0.04298357293009758, -0.01686779595911503, -0.008238517679274082, 0.013149065896868706, 0.019655216485261917, -0.01366356573998928, 0.020788418129086494, 0.010355133563280106, 0.0024113133549690247, -0.0005637523718178272, -0.01384592056274414, -0.023146003484725952, 0.00048193702241405845, 0.0252040047198534, 0.02252078801393509, 0.021661115810275078, 0.0038554961793124676, -0.03714822605252266, -0.03298012167215347, 0.007437460590153933, 0.004731449298560619, -0.00010247267346130684, -0.014562313444912434, 0.0014759321929886937, -0.007730530574917793, -0.05949968472123146, -0.023719117045402527, 0.03610620275139809, -0.020801443606615067, -0.004350458737462759, -0.013240243308246136, -0.019082101061940193, 0.0026832169387489557, -0.010003449395298958, -0.009234955534338951, 0.022442635148763657, 0.007417922839522362, 0.022872470319271088, -0.00731371995061636, -0.010921735316514969, 0.0067145549692213535, -0.042644914239645004, -0.006463817786425352, 0.027639739215373993, -0.02823890559375286, -0.025698967278003693, -0.00046036383719183505, 0.031130526214838028, 0.02069724164903164, 0.000808384211268276, -0.008544613607227802, 0.004236487206071615, 0.026754017919301987, -0.0029876839835196733, -0.011892122216522694, -0.018014024943113327, -0.056582011282444, -0.010856608860194683, 0.012882046401500702, -0.0168808214366436, -0.015487111173570156, -0.005666016601026058, 0.01706317625939846, -0.014210629276931286, 0.016789644956588745, 0.0031211934983730316, -0.006349845789372921, 0.002364096464589238, -0.006935985758900642, 0.002342930296435952, 0.0031456160359084606, 0.025946447625756264, -0.03162549063563347, 0.0076588913798332214, 0.005151516292244196, -0.019629165530204773, -0.014887946657836437, 0.014692566357553005, -0.0016314219683408737, -0.011032450012862682, -0.00502451928332448, 0.012413134798407555, -0.008218980394303799, -0.0126606160774827, -0.013950123451650143, 0.01936865784227848, -0.010863120667636395, -0.00620982376858592, -0.008329695090651512, 0.026206953451037407, 0.019498910754919052, 0.028030499815940857, -0.013624490238726139, 0.002577386097982526, -0.014145502820611, 0.014275756664574146, 0.013253267854452133, -0.014705591835081577, 0.010296519845724106, 0.007261618971824646, 0.003454967401921749, -0.01979849487543106, 0.0010827301302924752, 0.005604146048426628, 0.04454661160707474, -0.01852201297879219, -0.012803894467651844, -0.00965827889740467, -0.0032091145403683186, -0.005532506853342056, 0.00020962631970178336, -0.014184579253196716, -0.004291844554245472, -0.015083326026797295, 0.019472861662507057, -0.008909322321414948, -0.012028887867927551, 0.020918672904372215, -0.03199020028114319, -0.010583076626062393, 0.04433820769190788, 0.005613915156573057, 0.035975947976112366, -0.021465735509991646, 0.00879860669374466, -0.033058274537324905, -0.010986861772835255, 0.022611964493989944, -0.01453626248985529, -0.0022045362275093794, 0.004500249866396189, 0.009495462290942669, 0.015435010194778442, 0.03464736416935921, -0.01120177935808897, 0.030583463609218597, -0.013005787506699562, -0.029306981712579727, -0.004376509226858616, 0.01444508507847786, -0.007124852854758501, -0.016659390181303024, 0.007196492049843073, 0.005118952598422766, 0.01785772107541561, -0.015356858260929585, -0.01542198471724987, -0.005389228463172913, 0.009944835677742958, -0.013585413806140423, 0.0017437654314562678, -0.030974222347140312, 0.00540550984442234, -0.0085576381534338, 0.0310263242572546, -0.041863393038511276, 0.001528033404611051, -0.054602161049842834, 0.015317782759666443, 0.00505382614210248, 0.007502587046474218, 0.0053762029856443405, 0.0008588573546148837, 0.006004674825817347, -0.02233843319118023, 0.01566946692764759, -0.011768381111323833, 0.021569937467575073, -0.016255605965852737, -0.010941273532807827, -0.04306172579526901, -0.0025920397602021694, 0.005066851619631052, -0.023966597393155098, 0.012191704474389553, 0.02823890559375286, -0.016359807923436165, -0.0067666564136743546, -0.01214611530303955, 0.0017665596678853035, -0.009182854555547237, 0.010270468890666962, -0.01471861731261015, -0.014132477343082428, -0.005304563790559769, -0.007502587046474218, 0.0007554688490927219, 0.03253726288676262, 0.022664066404104233, 0.008127802982926369, 0.009410797618329525, -0.04855841025710106, -0.0169980488717556, 0.02737923339009285, -0.004467686638236046, 0.03537678346037865, 0.03277171775698662, 0.03553308546543121, -0.010276981629431248, -0.008733480237424374, -0.005861396435648203, -0.005773475393652916, 0.004269050434231758, 0.03641881048679352, 0.01852201297879219, -0.010700304992496967, -0.004376509226858616, -0.023302307352423668, -0.00362755311653018, -0.020918672904372215, -0.011397159658372402, -0.01016626600176096, 0.04126422852277756, 0.0003152535646222532, -0.004148566164076328, 0.0001436856109648943, -0.006167491432279348, -0.012185191735625267, 0.0013733577216044068, -0.01827453076839447, 0.016164427623152733, 0.01583879441022873, -0.03256331384181976, 0.01120177935808897, 0.010355133563280106, -0.0209968239068985, 0.03222465515136719, -0.005402253475040197, -0.03477761894464493, 0.00819944217801094, -0.014275756664574146, -0.0029127884190529585, 0.019954798743128777, 0.007235568016767502, 0.015382909215986729, 0.016229555010795593, 0.00901352521032095, 0.0126020023599267, -0.0054706367664039135, -0.01058958936482668, -0.016854770481586456, -0.01712830178439617, 0.027222929522395134, -0.0011104089207947254, -0.0018642497016116977, 0.017701417207717896, -0.015148453414440155, -0.009697354398667812, -0.0098666837438941, -0.004943110980093479, -0.006935985758900642, 0.0029209291096776724, 0.002859058789908886, 0.007268131244927645, 0.01850898750126362, -0.03592384606599808, 0.011599051766097546, -0.009632227942347527, -0.014106427319347858, 0.0017339964397251606, -0.004796575754880905, 0.001094127306714654, -0.014861895702779293, -0.020072026178240776, -0.0007078450289554894, 0.009397772140800953, 0.015812745317816734, -0.009690841659903526, -0.02336743287742138, -0.0016542163211852312, 0.0005197918508201838, -0.03751293569803238, 0.008453436195850372, -0.004145309794694185, 0.01325978059321642, 0.0013147437712177634, 0.012400109320878983, -0.007378846872597933, -0.017284605652093887, -0.009671303443610668, -0.004464430268853903, -0.05772824212908745, -0.018482936546206474, -0.014314832165837288, 0.0033572774846106768, -0.02336743287742138, -0.008088726550340652, 0.020606065168976784, 0.01071984227746725, -0.01192468497902155, 0.006411716341972351, -0.005633452907204628, 0.01942075975239277, 0.013129527680575848, 0.0083817970007658, -0.013598439283668995, -0.02719687856733799, 0.002416197909042239, 0.002121499739587307, 0.016724517568945885, -0.014041300863027573, -0.0033800718374550343, 0.01183350756764412, -0.0067992196418344975, 0.041759192943573, -0.018847646191716194, -0.009241468273103237, -0.012673641555011272, -0.011729305610060692, -0.020475810393691063, 0.012022375129163265, 0.01560433954000473, -0.002010784577578306, -0.003581964410841465, -0.02034555748105049, 0.006558251101523638, 0.00467283558100462, -0.011507874354720116, -0.00925449375063181, 0.004210436251014471, 0.019407734274864197, -0.0227031409740448, -0.0039987750351428986, -0.03550703451037407, 0.04001379758119583, 0.006688504479825497, -0.02089262194931507, -0.032276757061481476, -0.016841745004057884, -0.04571888968348503, -0.019329583272337914, -0.010797994211316109, 0.0024503893218934536, 0.025217030197381973, 0.02651956118643284, 0.013898021541535854, 0.038815468549728394, -0.010420260019600391, 0.0018675059545785189, -0.03699192404747009, 0.01608627662062645, 0.0017453936161473393, -0.014171553775668144, 0.02112707681953907, 0.03253726288676262, -0.041993647813797, -0.0018675059545785189, 0.016477035358548164, -0.009462898597121239, 0.00434068962931633, 0.014796769246459007, -0.005845114588737488, -0.010120677761733532, -0.00111529347486794, 0.01305137574672699, 0.015096351504325867, 0.02961958944797516, 0.020111102610826492, -0.032276757061481476, -0.024370383471250534, 0.013494236394762993, -0.007176954299211502, -0.004487224388867617, 8.227324724430218e-05, 0.0012805522419512272, 0.00549668725579977, -0.0017014330951496959, 0.000864555942825973, 0.022533811628818512, 0.011690229177474976, -0.0020693985279649496, 0.016437960788607597, -0.00012343531125225127, 0.021713217720389366, 0.03303222358226776, 0.016542162746191025, -0.019707316532731056, 0.011345057748258114, 0.00010374467819929123, 0.008616252802312374, -0.016542162746191025, 0.015956023707985878, -0.02009807713329792, -0.0029665178153663874, -0.012094014324247837, -0.0019635676871985197, -0.02220817841589451, -0.0035656827967613935, 0.006535456981509924, -0.024383408948779106, -0.011618589982390404, 0.033605337142944336, 0.004164847545325756, -0.014835845679044724, 0.03746083378791809, -0.0038620089180767536, 0.007333258166909218, 0.004151822533458471, -0.01948588714003563, 0.007789144292473793, -0.01542198471724987, -0.01646401174366474, -0.004591427277773619, -0.015369883738458157, -0.007932422682642937, 0.023406509310007095, -0.015526187606155872, -0.024578789249062538, -0.008668353781104088, 0.20600853860378265, -0.002163832075893879, 0.008284106850624084, 0.015096351504325867, 0.04360878840088844, 0.01183350756764412, 0.010068575851619244, 0.02081446908414364, -0.01628165692090988, 0.00792590994387865, 0.01675056852400303, 0.02659771405160427, -0.011397159658372402, 0.013507261872291565, -0.005819064099341631, -0.010921735316514969, -0.04097767174243927, -0.024995598942041397, -0.01759721338748932, 0.029775893315672874, 0.0046500409953296185, -0.009430335834622383, -0.02580316923558712, -0.03386584669351578, 0.031964149326086044, 0.006219592876732349, -0.01314255315810442, 0.02172624133527279, 0.03219860419631004, -0.0054641240276396275, -0.022117001935839653, -0.004024825524538755, 0.005128721706569195, 0.0023201359435915947, -0.033422984182834625, -0.001612698077224195, 0.010947785340249538, -0.014874921180307865, 0.008694404736161232, -0.027665790170431137, 0.02058001421391964, 0.007932422682642937, 0.016372833400964737, -0.00657127657905221, 0.03847680985927582, 0.00576696265488863, -0.013911047019064426, -0.030140602961182594, -0.0013562620151787996, -0.029176728799939156, -0.028291005641222, 0.02185649611055851, 0.0036731415893882513, 0.0083817970007658, 0.00570834893733263, 0.013012299314141273, -0.007867296226322651, -0.0055878646671772, -0.0008694404386915267, -0.008857221342623234, -0.02125732973217964, -0.017440909519791603, 0.014927022159099579, 0.002360840095207095, -0.04478106647729874, 0.016424935311079025, -0.028395209461450577, 9.443360613659024e-05, -0.021648090332746506, -0.023992648348212242, -0.016164427623152733, -0.0067666564136743546, -0.010713329538702965, 0.00888978410512209, -0.00650940602645278, -0.007417922839522362, 0.02190859615802765, -0.006278206594288349, -0.0009736430365592241, 0.003282381920143962, -0.0335271880030632, -0.011507874354720116, -0.02688427083194256, -0.019108152016997337, -0.014314832165837288, 0.003666629083454609, 0.0355851873755455, 0.0029453516472131014, -0.006115389987826347, 0.018248479813337326, 0.0027222929056733847, -0.007261618971824646, -0.006916447542607784, -0.014887946657836437, 0.0012764818966388702, -0.0013302112929522991, 0.010342108085751534, 0.006372640375047922, -0.015812745317816734, -0.02447458542883396, -0.02549056150019169, 0.08492512255907059, 0.0012203101068735123, 0.005105927586555481, 0.004676091484725475, -0.010999887250363827, 0.003953186329454184, 0.04178524389863014, -0.014861895702779293, -0.024135926738381386, -0.011019425466656685, -0.04363483935594559, -0.004194154869765043, -0.01530475728213787, 0.006265181582421064, -0.0022045362275093794, 0.011429722420871258, 0.02452668733894825, 0.01111060194671154, -0.009690841659903526, -0.005714861210435629, -0.001955426996573806, 0.01053097564727068, -0.003581964410841465, 0.0001026253157760948, -0.01833965815603733, -0.008427385240793228, -0.006870858836919069, -0.01978546939790249, -0.012445698492228985, 0.012211242690682411, -0.013468186371028423, 0.00478355074301362, 0.019264455884695053, 0.018808569759130478, -0.02374516800045967, 0.01423668023198843, -0.02220817841589451, 0.012198217213153839, 0.01772746816277504, -0.02852546237409115, 0.016828719526529312, 0.010426772758364677, 0.004545838572084904, 0.009169829078018665, 0.012126578018069267, 0.02530820667743683, 0.015539213083684444, -0.009228442795574665, 0.010596102103590965, -0.009059113450348377, 0.004083439242094755, -0.0004355343116912991, -0.037669241428375244, 0.016177453100681305, 0.0005596819100901484, -0.01857411302626133, -0.003510325215756893, 0.01718040369451046, 0.011761868372559547, -0.03248516097664833, 0.006613608915358782, 0.01460138987749815, 0.008707430213689804, 0.01301881205290556, 0.013272806070744991, -0.16234765946865082, 0.01572156697511673, 0.007704479619860649, -0.03532468155026436, 0.0018756467616185546, 0.002430851338431239, 0.038763366639614105, -0.00965827889740467, -0.03699192404747009, 0.010159753262996674, 0.02392752282321453, -0.040404558181762695, -0.020267406478524208, -0.018782518804073334, -0.009098189882934093, -0.011885609477758408, -0.008375284262001514, 0.017284605652093887, 0.023041799664497375, 0.03300617262721062, 0.02974984236061573, -0.01615140400826931, 0.010361646302044392, 0.012204729951918125, -0.004952880088239908, 0.001517450320534408, -0.009951348416507244, 0.025334257632493973, -0.016138378530740738, -0.03199020028114319, -0.006535456981509924, -0.015747617930173874, 0.03490786999464035, 0.02089262194931507, -0.0019896184094250202, 0.014588364399969578, 0.0075156125240027905, -0.023653989657759666, 0.002469927305355668, 0.006558251101523638, 0.022690115496516228, 0.045015525072813034, -0.00862276554107666, 0.029827995225787163, -0.006701529957354069, 0.03425660356879234, 0.02239053323864937, -0.014575338922441006, -0.01675056852400303, -0.014497186988592148, 0.01533080730587244, -0.004142053425312042, 0.010062064044177532, 0.0059981620870530605, 0.0008002434042282403, 0.019941773265600204, -0.012712717056274414, -0.012445698492228985, -0.0030690922867506742, -0.029775893315672874, -0.01960311457514763, -0.013637515716254711, 0.014028275385499, -0.0007432576385326684, -0.012914610095322132, -0.006405203603208065, -0.0029762866906821728, 0.018912771716713905, -0.04548443481326103, 0.019837569445371628, 0.01310998946428299, -0.0004379765596240759, -0.009996936656534672, -0.005731143057346344, -0.007815195247530937, 0.012686667032539845, 0.006584302056580782, 0.03295407071709633, -0.002916044555604458, -0.02737923339009285, 0.00013757999113295227, 0.027066625654697418, -0.014184579253196716, 0.007157416082918644, 0.009182854555547237, 0.0029762866906821728, 0.006528944242745638, 0.009554076008498669, 0.009046087972819805, 0.00725510623306036, 0.023172052577137947, -0.028551513329148293, -0.00657127657905221, -0.02326323091983795, -0.0112343430519104, 0.007001112215220928, -0.0009638740448281169, -0.008948398754000664, 0.005750680807977915, 0.011429722420871258, -0.014366933144629002, 0.009632227942347527, -0.011012912727892399, -0.00630100117996335, 0.02611577697098255, -0.00840784702450037, -0.013285831548273563, -0.013363983482122421, 0.018834620714187622, 0.0031912047415971756, -0.01357238832861185, -0.008726967498660088, 0.0022843163460493088, -0.011410185135900974, -0.0022680347319692373, 0.01262805238366127, 0.0013847548980265856, -0.009514999575912952, -0.017440909519791603, 0.002590411575511098, 0.047802943736314774, -0.010465848259627819, -0.007821707986295223, 0.01754511334002018, 0.012829945422708988, -0.031964149326086044, -0.0958142951130867, -0.020267406478524208, 0.0006020142463967204, 0.012263343669474125, -0.02252078801393509, 0.03626250475645065, -0.023458611220121384, 0.025412408635020256, 0.01165766641497612, 0.04183734580874443, -0.0588744692504406, -0.00847297441214323, -0.016190478578209877, 0.007040188182145357, -0.020137151703238487, -0.00443186704069376, 0.0198505949229002, -0.011117114685475826, -0.017701417207717896, 0.02974984236061573, -0.009000499732792377, -0.009221930056810379, -0.016985023394227028, -0.010283494368195534, 0.01590392179787159, -0.007750068325549364, -0.025894345715641975, -0.0024862089194357395, -0.0018609933322295547, 0.009130752645432949, 0.0030202472116798162, -0.021700192242860794, -0.003914110362529755, -0.032693564891815186, 0.011065013706684113, 0.01869134232401848, -0.004806344863027334, -0.03704402595758438, 0.009261006489396095, -0.00362755311653018, 0.014822820201516151, 0.025099800899624825, -0.006499637383967638, -0.018808569759130478, 0.022325407713651657, -0.019941773265600204, -0.03649695962667465, 0.02233843319118023, 0.0037122175563126802, -0.0009223558590747416, -0.007372334133833647, -0.018261505290865898, -0.022077925503253937, 0.005819064099341631, 0.02033253200352192, 0.027665790170431137, 0.017388809472322464, 0.02507374994456768, 0.014770718291401863, 0.004975674208253622, 0.019472861662507057, 0.01955101266503334, -0.01144274789839983, 0.016359807923436165, 0.01658123917877674, -0.03990959748625755, -0.020423710346221924, -0.020918672904372215, 0.019707316532731056, -0.038216304033994675, -0.02016320265829563, 0.014575338922441006, -0.007782631553709507, -0.02306785061955452, -0.03574149310588837, 0.01815730333328247, -0.011918172240257263, -0.016802668571472168, -0.011748842895030975, 0.01460138987749815, 0.010928248055279255, -0.022846419364213943, -0.008355746045708656, -0.022781293839216232, 0.0023282768670469522, 0.02494349703192711, 0.0033996098209172487, -0.03394399583339691, -0.004770525265485048, -0.02598552405834198, 0.007548175752162933, 0.04272306710481644, 0.025907371193170547, -0.01972034201025963, 0.022781293839216232, 0.01590392179787159, 0.016177453100681305, -0.02033253200352192, -0.001440112479031086, 0.01566946692764759, -0.004891009535640478, 0.010387696325778961, -0.031964149326086044, 0.03527257964015007, -0.01718040369451046, -0.004669579211622477, -0.002780906856060028, -0.007339770905673504, -0.011423209682106972, -0.015005174092948437, 0.019108152016997337, 0.024148952215909958, -0.029359083622694016, 0.0037643190007656813, -0.013520287349820137, 0.021296406164765358, -0.033110376447439194, -0.02483929507434368, 0.0010216739028692245, -0.003695935942232609, 0.009788531810045242, -0.001528033404611051, -0.01444508507847786, 0.0083817970007658, -0.000426986429374665, 0.00552599411457777, 0.011631615459918976, -0.010101139545440674, -0.01533080730587244, 0.019876645877957344, -0.015239630825817585, -0.021465735509991646, 0.017831670120358467, -0.020267406478524208, -0.007001112215220928, 0.01621652953326702, -0.014523237943649292, -0.01357238832861185, 0.01162510272115469, 0.028629664331674576, 0.016164427623152733, 0.032511211931705475, -0.025243079289793968, -0.033475086092948914, 0.012758306227624416, -0.02416197769343853, -0.006655941251665354, -0.022299356758594513, -0.03180784359574318, -0.020671190693974495, 0.004480711650103331, -0.010036013089120388, 0.028916221112012863, 0.020931696519255638, -0.017883772030472755, -0.0127778435125947, -0.019147228449583054, 0.02051488682627678, 0.007261618971824646, -0.010296519845724106, -0.021843470633029938, -0.007333258166909218, 0.03996169567108154, 0.028082601726055145, 0.0033475086092948914, -0.02021530456840992, 0.005900472402572632, -0.012823432683944702, -0.028577562421560287, 0.012927635572850704, 0.018261505290865898, -0.04188944399356842, -0.023276256397366524, 0.004978930577635765, 0.01357238832861185, -0.0028232391923666, 0.0047053988091647625, -0.010003449395298958, 0.0022322151344269514, -0.0023071106988936663, -0.0016460755141451955, 0.003914110362529755, 0.03391794487833977, 0.01931655779480934, -0.04162893816828728, 0.015343832783401012, -0.013377008959650993, 0.0067601436749100685, -0.009436847642064095, 0.00478355074301362, -6.685654807370156e-05, 0.0031879483722150326, 0.005392484366893768, 0.0378776453435421, -0.0271447766572237, 0.01019882969558239, 0.0054283044300973415, 0.011579513549804688, -0.005350152496248484, -0.0038229329511523247, -0.0036438347306102514, 0.017935872077941895, 0.013741717673838139, 0.002548079239204526, -0.0016265374142676592, -0.03753898665308952, -0.022677091881632805, 0.00692296028137207, -0.014666516333818436, -0.040951620787382126, 0.015487111173570156, 0.017024099826812744, 0.001313115586526692, -0.006382409483194351, 0.020775392651557922, -0.00350706884637475, -0.027118727564811707, 0.02155691385269165, 0.008876758627593517, -0.0196161400526762, -0.017870746552944183, 0.027092676609754562, 0.019212353974580765, -0.0007074379827827215, 0.016971997916698456, -0.007580738980323076, 0.01724553108215332, 0.019993873313069344, 0.003549401182681322, -0.03910202533006668, 0.0069034225307404995, -0.013806845061480999, 0.0035656827967613935, 0.009892734698951244, 0.0015622249338775873, -0.0018121483735740185, -0.01560433954000473, -0.02452668733894825, 0.00819944217801094, 0.021700192242860794, 0.024630889296531677, 0.06543923169374466, 0.012588976882398129, 0.0007241266430355608, 0.005359921138733625, 0.003875034162774682, 0.02678006887435913, 0.017948897555470467, 0.01366356573998928, 0.002569245407357812, -0.01809217594563961, -0.0014759321929886937, 0.007899859920144081, 3.902509342879057e-05, -0.022729191929101944, -0.00012923564645461738, 0.017870746552944183, -0.005392484366893768, 0.017349733039736748, -0.015760643407702446, -0.008368771523237228, 0.02834310755133629, -0.02180439420044422, 0.035064175724983215, 0.013220705091953278, -0.007626327686011791, -0.01796192303299904, 0.020801443606615067, 0.01608627662062645, -0.017987973988056183, -0.011449260637164116, -0.0052817692048847675, 0.0068122451193630695, -0.00862276554107666, -0.03295407071709633, 0.016607290133833885, -0.003793625859543681, 0.005112440325319767, -0.03016665205359459, 0.013533312827348709, -0.01542198471724987, 0.0029062756802886724, -0.007046700920909643, -0.012354521080851555, -0.04452056065201759, -0.03563728928565979, 0.025829220190644264, -0.014679541811347008, -0.02185649611055851, -0.021869521588087082]}\n"
     ]
    }
   ],
   "source": [
    "print(\"embeddings dim\", len(document_data[0]['embedding']))\n",
    "print(document_data[0])"
   ]
  },
  {
   "cell_type": "markdown",
   "id": "1f9e5fcc",
   "metadata": {},
   "source": [
    "#### Add documents to ChromaDB\n"
   ]
  },
  {
   "cell_type": "code",
   "execution_count": 6,
   "id": "69311d65",
   "metadata": {},
   "outputs": [],
   "source": [
    "documents = [doc[\"text\"] for doc in document_data]\n",
    "embeddings = [doc[\"embedding\"] for doc in document_data]\n",
    "metadatas = [doc[\"metadata\"] for doc in document_data]\n",
    "ids = [doc[\"id\"] for doc in document_data]"
   ]
  },
  {
   "cell_type": "code",
   "execution_count": 7,
   "id": "b9d947dc",
   "metadata": {},
   "outputs": [],
   "source": [
    "chroma_client.reset()\n",
    "collection = chroma_client.get_or_create_collection(\n",
    "    name=\"vtdat\", metadata={\"hnsw:space\": \"cosine\"}, embedding_function=openai_ef)"
   ]
  },
  {
   "cell_type": "code",
   "execution_count": 8,
   "id": "d806a863",
   "metadata": {},
   "outputs": [],
   "source": [
    "collection.add(\n",
    "    embeddings=embeddings,\n",
    "    documents=documents,\n",
    "    metadatas=metadatas,\n",
    "    ids=ids)"
   ]
  },
  {
   "cell_type": "code",
   "execution_count": 9,
   "id": "a9daf5eb",
   "metadata": {},
   "outputs": [],
   "source": [
    "import chromadb\n",
    "from chromadb.config import Settings\n",
    "\n",
    "# Initialize the PersistentClient again with the same path\n",
    "chroma_client_load = chromadb.PersistentClient(\n",
    "    path=\"./data/baseline-rag-pdf-docs/chromadb\",\n",
    "    settings=Settings(allow_reset=True)\n",
    ")\n",
    "\n",
    "# Get the existing collection by name\n",
    "collection_load = chroma_client_load.get_collection(name=\"vtdat\", embedding_function=openai_ef)"
   ]
  },
  {
   "cell_type": "markdown",
   "id": "026a9edc",
   "metadata": {},
   "source": [
    "## Retrieval\n",
    "\n",
    "In this step, we will retrieve the most relevant documents to a given question. We will use the vector database to retrieve the most similar documents to the question.\n",
    "\n",
    "In order to do this we will use the `text-embedding-3-small` model (**the same model used to index the documents**) from OpenAI to embed the question and then use the vector database to retrieve the most similar documents.\n",
    "\n",
    "We will retrieve the top 5 documents based on the _cosine similarity_ between the question and the documents. Other similarity metrics can be used as well like squared L2 or inner product.\n",
    "\n",
    "Change `cosine` to `l2` or `ip` when creating the collection above to try these out.\n"
   ]
  },
  {
   "cell_type": "code",
   "execution_count": 14,
   "id": "2223843a",
   "metadata": {},
   "outputs": [],
   "source": [
    "queries = [#\"Hvad står P, L, A, C og E for i PLACE-akronymet af John Ziman\",\n",
    "         \"explain some of the risk measures\"\n",
    "         ]\n",
    "\n",
    "query = queries[-1]"
   ]
  },
  {
   "cell_type": "code",
   "execution_count": 10,
   "id": "9fd8c8c5",
   "metadata": {},
   "outputs": [
    {
     "data": {
      "text/plain": [
       "<chromadb.api.models.Collection.Collection at 0x7f2a83665e10>"
      ]
     },
     "execution_count": 10,
     "metadata": {},
     "output_type": "execute_result"
    }
   ],
   "source": [
    "collection_load"
   ]
  },
  {
   "cell_type": "code",
   "execution_count": 16,
   "id": "156f5fbf",
   "metadata": {},
   "outputs": [
    {
     "data": {
      "text/markdown": [
       "1, Risk Rating 3, and so on), they can help us make more rational in-class\n",
       "comparative decisions. More ambitiously , if we can assign absolute\n",
       "numbers to some risk factor (a 0.02 percent chance of default versus a 0.002\n",
       "percent chance of default), then we can weigh one decision against another\n",
       "with some precision.\n",
       "If we can put an absolute cost or price on a risk (ideally using data from\n",
       "markets where risks are traded or from some internal “cost of risk”\n",
       "calculation based on economic capital), then we can make truly rational\n",
       "economic decisions about assuming, managing, and transferring risks. At\n",
       "this point, risk management decisions become fungible with many other\n",
       "kinds of management decision in the running of an enterprise.\n",
       "While assigning numbers to risk is incredibly useful for risk\n",
       "management and risk transfer , it’s also potentially dangerous. Only some\n",
       "kinds of numbers are truly comparable, but all kinds of numbers tempt us to\n",
       "make comparisons. For example, using the face value or “notional amount”\n",
       "of a bond to indicate the risk of a bond is a flawed approach. As we explain\n",
       "in Chapter 7 , a million-dollar position in a par value 10-year T reasury bond\n",
       "does not represent at all the same amount of risk as a million-dollar position\n",
       "in a 4-year par value T reasury bond.\n",
       "Introducing sophisticated models to describe risk is one way to defuse\n",
       "this problem, but this has its own dangers. Professionals in the financial\n",
       "markets invented the V aR framework as a way of measuring and comparing\n",
       "risk across many dif ferent markets. But the V aR measure works well as a\n",
       "risk measure only for markets operating under normal conditions and only\n",
       "over a short period, such as one trading day ( Chapter 7 ). Potentially , it’s a\n",
       "very poor and misleading measure of risk in abnormal markets, over longer\n",
       "time periods, or for illiquid portfolios.\n",
       "VaR, like all risk measures, depends on a robust control environment for\n",
       "its integrity . In recent rogue-trading cases, hundreds of millions of dollars of\n",
       "losses have been suf fered by trading desks that had orders not to assume\n",
       "VaR exposures of more than a few million dollars. The reason for the\n",
       "discrepancy is often that the trading desks have found some way of\n",
       "circumventing trading controls and suppressing risk measures.\n",
       "\n",
       "------------\n",
       "\n",
       "7\n",
       "MEASURING MARKET RISK\n",
       "Value-at-Risk, Expected Shortfall, and Similar Metrics\n",
       "The measurement of market risk has evolved from simple naïve indicators,\n",
       "such as the face value or “notional” amount of an individual security ,\n",
       "through more complex measures of price sensitivities such as the basis\n",
       "point value or duration approach of a bond ( Chapter 6 ) and various specific\n",
       "measures of risk for derivatives (“the Greeks”), to relatively sophisticated\n",
       "risk measures such as the latest value-at-risk (V aR) methodology for whole\n",
       "portfolios of securities, and new risk metrics such as stress V aR, expected\n",
       "shortfall, and scenario analysis. In this chapter we’ll chart this evolutionary\n",
       "trajectory and spend some time examining the principles that lie behind\n",
       "VaR and associated techniques to make clear the strengths and weaknesses\n",
       "of the approaches in nonmathematical language.\n",
       "The limitations of V aR as a risk metric have been understood for years,\n",
       "but they played a significant role in obfuscating the risks run by the banking\n",
       "industry in the build up to the 2007–2009 global financial crisis (GFC). The\n",
       "result has been a series of attempts by regulators and the industry to both\n",
       "improve V aR analysis and to reduce the financial industry’ s reliance on V aR\n",
       "numbers. The Fundamental Review of the T rading Book (FR TB; see\n",
       "Chapter 3 ) addresses the shortcomings of the previous measurement\n",
       "methodologies to determine market risk capital requirements. In this\n",
       "chapter we look at “expected shortfall” approach that attempts to look\n",
       "beyond the V aR number to summarize the risk in the tail of any loss\n",
       "distribution, and we discuss how V aR fits with the many other risk\n",
       "methodologies that make up a best practice approach to risk measurement,\n",
       "including stress testing and scenario analysis—approaches we deal with in\n",
       "depth in Chapter 16 .\n",
       "Crouhy, Michel, et al. The Essentials of Risk Management, Third Edition, McGraw-Hill Education, 2023. ProQuest Ebook Central, http://ebookcentral.proquest.com/lib/asb/detail.action?docID=30610510.\n",
       "Created from asb on 2024-06-27 13:09:24.\n",
       "Copyright © 2023. McGraw-Hill Education. All rights reserved.\n",
       "\n",
       "------------\n",
       "\n",
       "The VaR Controversy: A Quick Primer\n",
       "Since the late 1990s, V aR has become the standard way to measure and\n",
       "report market risk, and the methodology has also been extended to credit\n",
       "risk ( Chapter 1 1). VaR is a useful risk measure during normal market\n",
       "conditions and of fers a powerful way of assessing the overall market risk of\n",
       "trading positions over a short horizon, such as one day or a two-week (i.e.,\n",
       "10 trading days) period for regulatory purposes. In ef fect, the methodology\n",
       "allows us to capture in a single number the multiple components of market\n",
       "risk, such as curve risk, basis risk, and volatility risk.\n",
       "However , each time there is turmoil in the world’ s markets, V aR’s\n",
       "limitations and other sophisticated market risk measures are revealed. The\n",
       "reason is simple: V aR models are based on the assumption that key\n",
       "parameters such as volatilities and correlations are stationary—that is, that\n",
       "they do not change in value during the period in which the risk is measured.\n",
       "This assumption is often proven wrong during extreme market conditions,\n",
       "making V aR an unreliable measure of risk at exactly the moment that robust\n",
       "risk analytics are most required.\n",
       "Exceptional market shocks—such as the crisis in the world markets in\n",
       "1998 that capsized the giant U.S. hedge fund Long-T erm Capital\n",
       "Management (L TCM), or the GFC of 2007–2009 that led to several bank\n",
       "failures (such as Lehman Brothers in September 2008), and the 2020\n",
       "COVID-19 pandemic—are usually accompanied by a drying up of market\n",
       "liquidity and substantial trading losses.1 The risk these events pose can be\n",
       "captured only by means of supplemental methodologies, so each crisis\n",
       "reemphasizes the importance of using multiple risk-measurement tools,\n",
       "including stress tests and scenario analyses, and of achieving the right blend\n",
       "of quantitative rigor and qualitative assessment. Using a wide range of risk\n",
       "measures helps because each approach has particular limitations and\n",
       "strengths.\n",
       "Just as V aR cannot easily capture the impact of disruptions in liquidity ,\n",
       "prices, volatility , and correlations, it also struggles to capture strong non-\n",
       "linearities in risk of the kind seen in complex structured products—for\n",
       "example, subprime CDOs. Using dif ferent types of risk analysis is essential.\n",
       "\n",
       "------------\n",
       "\n",
       "interest rate risk by changing the product mix and pricing in their business\n",
       "strategy , in a way that is consistent with customer needs.\n",
       "We can see from our discussion so far that ALM involves answering\n",
       "three critical risk-related questions:\n",
       "•   How much risk do you want to take?  Answering this question is a\n",
       "function of the risk appetite of the firm.\n",
       "•   How much risk do we have now?  Answering this question means\n",
       "developing tools to measure the risks of the firm’ s assets and\n",
       "liabilities.\n",
       "•   How do we move fr om wher e we ar e now to wher e we want to be?\n",
       "Answering this question involves the execution of cost-ef fective risk\n",
       "management strategies of the kind we outlined earlier .\n",
       "In the next sections we describe some tools used by financial\n",
       "institutions to measure their balance-sheet sensitivity to interest rate\n",
       "changes. The first tools we’ll look at are simple approaches; they provide\n",
       "partial, not very accurate, though useful answers to complicated questions.\n",
       "Gap Analysis\n",
       "Gap analysis is the approach used by most banks to measure interest rate\n",
       "risk in their balance sheets. The gap is defined as the dif ference between the\n",
       "amounts of rate-sensitive assets and rate-sensitive liabilities maturing or\n",
       "repricing within a specific time period. In other words,\n",
       "Gap = rate-sensitive assets (RSA) − rate-sensitive liabilities (RSL)\n",
       "and the gap is measured for a specific time bucket.\n",
       "A firm is said to have a positive gap  within a specific time period when\n",
       "its rate-sensitive assets exceed its rate-sensitive liabilities—that is, “assets\n",
       "reprice before liabilities,” in the professional jar gon. It describes the case in\n",
       "which an institution’ s short-term assets are funded by long-term liabilities.\n",
       "An increase (decrease) in interest rates leads to an increase (decrease) in\n",
       "NII.\n",
       "Crouhy, Michel, et al. The Essentials of Risk Management, Third Edition, McGraw-Hill Education, 2023. ProQuest Ebook Central, http://ebookcentral.proquest.com/lib/asb/detail.action?docID=30610510.\n",
       "Created from asb on 2024-06-27 13:09:32.\n",
       "Copyright © 2023. McGraw-Hill Education. All rights reserved.\n",
       "\n",
       "------------\n",
       "\n",
       "modeling—varies considerably depending on both the problem and\n",
       "the sophistication of the approach. For example, in the recent past,\n",
       "bank risk analysts might have analyzed the risk of an interest rate\n",
       "position in terms of the ef fect of a single risk factor—for example, the\n",
       "yield to maturity of government bonds, assuming that the yields for all\n",
       "maturities are perfectly correlated. But this one-factor model approach\n",
       "ignored the risk that the dynamic of the term structure of interest rates\n",
       "is driven by more factors, for example, the forward rates. Now , leading\n",
       "banks analyze their interest rate exposures using at least two or three\n",
       "factors.\n",
       "Further , the risk manager must also measure the influence of the\n",
       "risk factors on each other , the statistical measure of which is the\n",
       "“covariance.” Disentangling the ef fects of multiple risk factors and\n",
       "quantifying the influence of each is a fairly complicated undertaking,\n",
       "especially when covariance alters over time (i.e., is stochastic, in the\n",
       "modeler ’s terminology). There is often a distinct dif ference in the\n",
       "behavior and relationship of risk factors during normal business\n",
       "conditions and during stressful situations such as financial crises.\n",
       "Under ordinary market conditions, the behavior of risk factors is\n",
       "relatively less dif ficult to predict because it does not change\n",
       "significantly in the short and medium term: future behavior can be\n",
       "extrapolated, to some extent, from past performance. However , during\n",
       "stressful conditions, the behavior of risk factors becomes far more\n",
       "unpredictable, and past behavior may of fer little help in predicting\n",
       "future behavior . It’s at this point that statistically measurable risk\n",
       "threatens to turn into the kind of unmeasurable uncertainty that we\n",
       "discuss in Box 1-2 .\n",
       "The distribution can also be related to the institution’ s stated “risk\n",
       "appetite” for its various activities."
      ],
      "text/plain": [
       "<IPython.core.display.Markdown object>"
      ]
     },
     "metadata": {},
     "output_type": "display_data"
    }
   ],
   "source": [
    "result = collection_load.query(query_texts=[query], n_results=5)\n",
    "context = result[\"documents\"][0]\n",
    "#display(Markdown(f\"------------\\n\\n{\"\\n\\n------------\\n\\n\".join(context)}\"))\n",
    "\n",
    "formatted_text = \"\\n\\n------------\\n\\n\".join(context)\n",
    "\n",
    "# Display the formatted markdown\n",
    "display(Markdown(f\"{formatted_text}\"))"
   ]
  },
  {
   "cell_type": "markdown",
   "id": "b3e7a6a0",
   "metadata": {},
   "source": [
    "## Generation\n",
    "\n",
    "In this step, we will generate an answer to the question using the retrieved documents as context. We will use the OpenAI API to generate the answer.\n"
   ]
  },
  {
   "cell_type": "code",
   "execution_count": 17,
   "id": "e5a1f320",
   "metadata": {},
   "outputs": [
    {
     "data": {
      "text/markdown": [
       "You are a helpful assistant that answers questions about the course material from \"Financial Risk Management\" using provided context.\n",
       "    Context information is below.\n",
       "    ---------------------\n",
       "    1, Risk Rating 3, and so on), they can help us make more rational in-class\n",
       "comparative decisions. More ambitiously , if we can assign absolute\n",
       "numbers to some risk factor (a 0.02 percent chance of default versus a 0.002\n",
       "percent chance of default), then we can weigh one decision against another\n",
       "with some precision.\n",
       "If we can put an absolute cost or price on a risk (ideally using data from\n",
       "markets where risks are traded or from some internal “cost of risk”\n",
       "calculation based on economic capital), then we can make truly rational\n",
       "economic decisions about assuming, managing, and transferring risks. At\n",
       "this point, risk management decisions become fungible with many other\n",
       "kinds of management decision in the running of an enterprise.\n",
       "While assigning numbers to risk is incredibly useful for risk\n",
       "management and risk transfer , it’s also potentially dangerous. Only some\n",
       "kinds of numbers are truly comparable, but all kinds of numbers tempt us to\n",
       "make comparisons. For example, using the face value or “notional amount”\n",
       "of a bond to indicate the risk of a bond is a flawed approach. As we explain\n",
       "in Chapter 7 , a million-dollar position in a par value 10-year T reasury bond\n",
       "does not represent at all the same amount of risk as a million-dollar position\n",
       "in a 4-year par value T reasury bond.\n",
       "Introducing sophisticated models to describe risk is one way to defuse\n",
       "this problem, but this has its own dangers. Professionals in the financial\n",
       "markets invented the V aR framework as a way of measuring and comparing\n",
       "risk across many dif ferent markets. But the V aR measure works well as a\n",
       "risk measure only for markets operating under normal conditions and only\n",
       "over a short period, such as one trading day ( Chapter 7 ). Potentially , it’s a\n",
       "very poor and misleading measure of risk in abnormal markets, over longer\n",
       "time periods, or for illiquid portfolios.\n",
       "VaR, like all risk measures, depends on a robust control environment for\n",
       "its integrity . In recent rogue-trading cases, hundreds of millions of dollars of\n",
       "losses have been suf fered by trading desks that had orders not to assume\n",
       "VaR exposures of more than a few million dollars. The reason for the\n",
       "discrepancy is often that the trading desks have found some way of\n",
       "circumventing trading controls and suppressing risk measures.\n",
       "\n",
       "7\n",
       "MEASURING MARKET RISK\n",
       "Value-at-Risk, Expected Shortfall, and Similar Metrics\n",
       "The measurement of market risk has evolved from simple naïve indicators,\n",
       "such as the face value or “notional” amount of an individual security ,\n",
       "through more complex measures of price sensitivities such as the basis\n",
       "point value or duration approach of a bond ( Chapter 6 ) and various specific\n",
       "measures of risk for derivatives (“the Greeks”), to relatively sophisticated\n",
       "risk measures such as the latest value-at-risk (V aR) methodology for whole\n",
       "portfolios of securities, and new risk metrics such as stress V aR, expected\n",
       "shortfall, and scenario analysis. In this chapter we’ll chart this evolutionary\n",
       "trajectory and spend some time examining the principles that lie behind\n",
       "VaR and associated techniques to make clear the strengths and weaknesses\n",
       "of the approaches in nonmathematical language.\n",
       "The limitations of V aR as a risk metric have been understood for years,\n",
       "but they played a significant role in obfuscating the risks run by the banking\n",
       "industry in the build up to the 2007–2009 global financial crisis (GFC). The\n",
       "result has been a series of attempts by regulators and the industry to both\n",
       "improve V aR analysis and to reduce the financial industry’ s reliance on V aR\n",
       "numbers. The Fundamental Review of the T rading Book (FR TB; see\n",
       "Chapter 3 ) addresses the shortcomings of the previous measurement\n",
       "methodologies to determine market risk capital requirements. In this\n",
       "chapter we look at “expected shortfall” approach that attempts to look\n",
       "beyond the V aR number to summarize the risk in the tail of any loss\n",
       "distribution, and we discuss how V aR fits with the many other risk\n",
       "methodologies that make up a best practice approach to risk measurement,\n",
       "including stress testing and scenario analysis—approaches we deal with in\n",
       "depth in Chapter 16 .\n",
       "Crouhy, Michel, et al. The Essentials of Risk Management, Third Edition, McGraw-Hill Education, 2023. ProQuest Ebook Central, http://ebookcentral.proquest.com/lib/asb/detail.action?docID=30610510.\n",
       "Created from asb on 2024-06-27 13:09:24.\n",
       "Copyright © 2023. McGraw-Hill Education. All rights reserved.\n",
       "\n",
       "The VaR Controversy: A Quick Primer\n",
       "Since the late 1990s, V aR has become the standard way to measure and\n",
       "report market risk, and the methodology has also been extended to credit\n",
       "risk ( Chapter 1 1). VaR is a useful risk measure during normal market\n",
       "conditions and of fers a powerful way of assessing the overall market risk of\n",
       "trading positions over a short horizon, such as one day or a two-week (i.e.,\n",
       "10 trading days) period for regulatory purposes. In ef fect, the methodology\n",
       "allows us to capture in a single number the multiple components of market\n",
       "risk, such as curve risk, basis risk, and volatility risk.\n",
       "However , each time there is turmoil in the world’ s markets, V aR’s\n",
       "limitations and other sophisticated market risk measures are revealed. The\n",
       "reason is simple: V aR models are based on the assumption that key\n",
       "parameters such as volatilities and correlations are stationary—that is, that\n",
       "they do not change in value during the period in which the risk is measured.\n",
       "This assumption is often proven wrong during extreme market conditions,\n",
       "making V aR an unreliable measure of risk at exactly the moment that robust\n",
       "risk analytics are most required.\n",
       "Exceptional market shocks—such as the crisis in the world markets in\n",
       "1998 that capsized the giant U.S. hedge fund Long-T erm Capital\n",
       "Management (L TCM), or the GFC of 2007–2009 that led to several bank\n",
       "failures (such as Lehman Brothers in September 2008), and the 2020\n",
       "COVID-19 pandemic—are usually accompanied by a drying up of market\n",
       "liquidity and substantial trading losses.1 The risk these events pose can be\n",
       "captured only by means of supplemental methodologies, so each crisis\n",
       "reemphasizes the importance of using multiple risk-measurement tools,\n",
       "including stress tests and scenario analyses, and of achieving the right blend\n",
       "of quantitative rigor and qualitative assessment. Using a wide range of risk\n",
       "measures helps because each approach has particular limitations and\n",
       "strengths.\n",
       "Just as V aR cannot easily capture the impact of disruptions in liquidity ,\n",
       "prices, volatility , and correlations, it also struggles to capture strong non-\n",
       "linearities in risk of the kind seen in complex structured products—for\n",
       "example, subprime CDOs. Using dif ferent types of risk analysis is essential.\n",
       "\n",
       "interest rate risk by changing the product mix and pricing in their business\n",
       "strategy , in a way that is consistent with customer needs.\n",
       "We can see from our discussion so far that ALM involves answering\n",
       "three critical risk-related questions:\n",
       "•   How much risk do you want to take?  Answering this question is a\n",
       "function of the risk appetite of the firm.\n",
       "•   How much risk do we have now?  Answering this question means\n",
       "developing tools to measure the risks of the firm’ s assets and\n",
       "liabilities.\n",
       "•   How do we move fr om wher e we ar e now to wher e we want to be?\n",
       "Answering this question involves the execution of cost-ef fective risk\n",
       "management strategies of the kind we outlined earlier .\n",
       "In the next sections we describe some tools used by financial\n",
       "institutions to measure their balance-sheet sensitivity to interest rate\n",
       "changes. The first tools we’ll look at are simple approaches; they provide\n",
       "partial, not very accurate, though useful answers to complicated questions.\n",
       "Gap Analysis\n",
       "Gap analysis is the approach used by most banks to measure interest rate\n",
       "risk in their balance sheets. The gap is defined as the dif ference between the\n",
       "amounts of rate-sensitive assets and rate-sensitive liabilities maturing or\n",
       "repricing within a specific time period. In other words,\n",
       "Gap = rate-sensitive assets (RSA) − rate-sensitive liabilities (RSL)\n",
       "and the gap is measured for a specific time bucket.\n",
       "A firm is said to have a positive gap  within a specific time period when\n",
       "its rate-sensitive assets exceed its rate-sensitive liabilities—that is, “assets\n",
       "reprice before liabilities,” in the professional jar gon. It describes the case in\n",
       "which an institution’ s short-term assets are funded by long-term liabilities.\n",
       "An increase (decrease) in interest rates leads to an increase (decrease) in\n",
       "NII.\n",
       "Crouhy, Michel, et al. The Essentials of Risk Management, Third Edition, McGraw-Hill Education, 2023. ProQuest Ebook Central, http://ebookcentral.proquest.com/lib/asb/detail.action?docID=30610510.\n",
       "Created from asb on 2024-06-27 13:09:32.\n",
       "Copyright © 2023. McGraw-Hill Education. All rights reserved.\n",
       "\n",
       "modeling—varies considerably depending on both the problem and\n",
       "the sophistication of the approach. For example, in the recent past,\n",
       "bank risk analysts might have analyzed the risk of an interest rate\n",
       "position in terms of the ef fect of a single risk factor—for example, the\n",
       "yield to maturity of government bonds, assuming that the yields for all\n",
       "maturities are perfectly correlated. But this one-factor model approach\n",
       "ignored the risk that the dynamic of the term structure of interest rates\n",
       "is driven by more factors, for example, the forward rates. Now , leading\n",
       "banks analyze their interest rate exposures using at least two or three\n",
       "factors.\n",
       "Further , the risk manager must also measure the influence of the\n",
       "risk factors on each other , the statistical measure of which is the\n",
       "“covariance.” Disentangling the ef fects of multiple risk factors and\n",
       "quantifying the influence of each is a fairly complicated undertaking,\n",
       "especially when covariance alters over time (i.e., is stochastic, in the\n",
       "modeler ’s terminology). There is often a distinct dif ference in the\n",
       "behavior and relationship of risk factors during normal business\n",
       "conditions and during stressful situations such as financial crises.\n",
       "Under ordinary market conditions, the behavior of risk factors is\n",
       "relatively less dif ficult to predict because it does not change\n",
       "significantly in the short and medium term: future behavior can be\n",
       "extrapolated, to some extent, from past performance. However , during\n",
       "stressful conditions, the behavior of risk factors becomes far more\n",
       "unpredictable, and past behavior may of fer little help in predicting\n",
       "future behavior . It’s at this point that statistically measurable risk\n",
       "threatens to turn into the kind of unmeasurable uncertainty that we\n",
       "discuss in Box 1-2 .\n",
       "The distribution can also be related to the institution’ s stated “risk\n",
       "appetite” for its various activities.\n",
       "    ---------------------\n",
       "    Given the context information and not prior knowledge, answer the query. Always provide an answer in the English language.\n",
       "    Query: explain some of the risk measures\n",
       "    Answer: \n",
       "    "
      ],
      "text/plain": [
       "<IPython.core.display.Markdown object>"
      ]
     },
     "metadata": {},
     "output_type": "display_data"
    }
   ],
   "source": [
    "prompt = PromptTemplate(\"\"\"You are a helpful assistant that answers questions about the US tv show known as \"The Office\" using provided context. \n",
    "\n",
    "Question: {query}\n",
    "\n",
    "Context: \n",
    "\n",
    "-----------------------------------\n",
    "{context}\n",
    "\n",
    "-----------------------------------\n",
    "\n",
    "\"\"\")\n",
    "\n",
    "prompt = PromptTemplate(\n",
    "    \"\"\"You are a helpful assistant that answers questions about the course material from \"Financial Risk Management\" using provided context.\n",
    "    Context information is below.\n",
    "    ---------------------\n",
    "    {context}\n",
    "    ---------------------\n",
    "    Given the context information and not prior knowledge, answer the query. Always provide an answer in the English language.\n",
    "    Query: {query}\n",
    "    Answer: \n",
    "    \"\"\",\n",
    ")\n",
    "\n",
    "\n",
    "message = prompt.format(query=query, context=\"\\n\\n\".join(context))\n",
    "display(Markdown(f\"{message}\"))"
   ]
  },
  {
   "cell_type": "code",
   "execution_count": 18,
   "id": "bc83ec5f",
   "metadata": {},
   "outputs": [
    {
     "data": {
      "text/markdown": [
       "1. Value at Risk (VaR): This is a risk metric that quantifies the level of financial risk within a firm, portfolio, or position over a specific time frame. It provides an estimate of the maximum loss that a portfolio of financial instruments is projected to endure over a selected period of time, given a set confidence level.\n",
       "\n",
       "2. Conditional Value at Risk (CVaR): This risk measure estimates the expected losses that could occur beyond the VaR cutoff point. In other words, it looks at the severe end of losses in the distribution of possible outcomes. It provides a clearer picture of the potential loss in extreme circumstances.\n",
       "\n",
       "3. Sharpe Ratio: Named after Nobel Laureate William F. Sharpe, this financial metric measures the performance of an investment compared to a risk-free asset, after adjusting for its risk. It is the measure of risk-adjusted return and is widely used by financial analysts and investors.\n",
       "\n",
       "4. Treynor Ratio: Similar to the Sharpe ratio, the Treynor ratio compares returns earned in excess of that which could have been earned on a riskless investment per each unit of market risk in a portfolio.\n",
       "\n",
       "5. Standard Deviation: This statistical measurement is used to measure the dispersion of a set of data from its average. In finance, standard deviation is applied to the annual rate of return of an investment, with a higher standard deviation projecting a significant degree of volatility.\n",
       "\n",
       "6. Beta: Beta measures the volatility of an individual security/portfolio, in comparison to the broader market. A beta of 1 indicates that the investment's price will move with the market, while a beta lower/higher than 1 indicates that the investment will be less/more volatile than the market.\n",
       "\n",
       "7. Sortino Ratio: This statistical tool differentiates harmful volatility from total overall volatility by taking the standard deviation of negative asset returns, and it helps investors to assess risk-adjusted return of their investment.\n",
       "\n",
       "8. R-Squared: R-squared is a statistical measure that represents the percentage of a portfolio or security's movements that can be explained by movements in the benchmark index. It shows the level of an investment's risk associated with a specific market index. \n",
       "\n",
       "9. Drawdown: It is a measure of the decline from a historical peak in some variable, especially in portfolio value or investment returns. \n",
       "\n",
       "10. Stress Testing: This is a risk-oriented financial analysis that gauges how extreme market conditions might impact an investment or a portfolio. It includes various methods that evaluate the resilience of a portfolio in adverse situations."
      ],
      "text/plain": [
       "<IPython.core.display.Markdown object>"
      ]
     },
     "metadata": {},
     "output_type": "display_data"
    }
   ],
   "source": [
    "stream = openai_client.chat.completions.create(\n",
    "    messages=[{\"role\": \"user\", \"content\": query}],\n",
    "    model=\"gpt4\",\n",
    "    stream=True)\n",
    "\n",
    "output = \"\"\n",
    "for chunk in stream:\n",
    "    if chunk.choices:  # Check if the list is not empty\n",
    "        output += chunk.choices[0].delta.content or \"\"\n",
    "    display(Markdown(f\"{output}\"), clear=True)"
   ]
  },
  {
   "cell_type": "code",
   "execution_count": 24,
   "id": "cffca2b1",
   "metadata": {},
   "outputs": [
    {
     "data": {
      "text/markdown": [
       "Risk refers to the potential for an unpredictable or unexpected event or action that would negatively impact the individual or entity involved. In a financial context, risk is associated with changes in market prices, rates, or any event that can reduce the value of a security or a portfolio. It involves the unpredictability of losses and costs. An important distinction exists between risk and uncertainty, with risk referring to variability that can be quantified in terms of probabilities, while uncertainty involves variability that cannot be quantified at all."
      ],
      "text/plain": [
       "<IPython.core.display.Markdown object>"
      ]
     },
     "metadata": {},
     "output_type": "display_data"
    }
   ],
   "source": [
    "stream = openai_client.chat.completions.create(\n",
    "    messages=[{\"role\": \"user\", \"content\": message}],\n",
    "    model=\"gpt4\",\n",
    "    stream=True)\n",
    "\n",
    "output = \"\"\n",
    "for chunk in stream:\n",
    "    if chunk.choices:  # Check if the list is not empty\n",
    "        output += chunk.choices[0].delta.content or \"\"\n",
    "    display(Markdown(f\"{output}\"), clear=True)"
   ]
  },
  {
   "cell_type": "markdown",
   "id": "51cb553b",
   "metadata": {},
   "source": [
    "## SlideGPT"
   ]
  },
  {
   "cell_type": "code",
   "execution_count": 9,
   "id": "58ef7b86",
   "metadata": {},
   "outputs": [
    {
     "data": {
      "text/markdown": [
       "Slide 1:\n",
       "Title: Compas-algoritmen og etnicitet: \n",
       "- Modellens konstruktør har et ansvar for at undgå bias i algoritmer, hvilket inkluderer at undgå faktorer, der er stærkt korrelerede med følsomme forhold som etnicitet.\n",
       "- Dette kan dog være en udfordring, da nogle faktorer, selvom de ikke direkte indbefatter etnicitet, stadig kan være tæt forbundet med det.\n",
       "\n",
       "Slide 2:\n",
       "Title: Udfordringer ved fjernelse af etnicitetskorrelerede faktorer:\n",
       "- Fjerne sådanne faktorer kan reducere algoritmens effektivitet: dens evne til præcis forudsigelse kan falde.\n",
       "- At ignorere disse faktorer kan også gøre algoritmen mindre pålidelig for forskellige etniske grupper.\n",
       "\n",
       "Slide 3:\n",
       "Title: Løsninger og Ansvar:\n",
       "- Transparens omkring, hvilke data der bruges til at træne algoritmen og hvordan de anvendes, er afgørende.\n",
       "- Det er vigtigt at overveje den samlede kontekst, hvori algoritmen skal bruges.\n",
       "- En fair og retfærdig brug af algoritmer kræver en balance mellem nøjagtighed og etiske hensyn."
      ],
      "text/plain": [
       "<IPython.core.display.Markdown object>"
      ]
     },
     "metadata": {},
     "output_type": "display_data"
    }
   ],
   "source": [
    "queries = [\n",
    "    #\"Hvad står P, L, A, C og E for i PLACE-akronymet af John Ziman\"\n",
    "    #\"Redegør for hovedtrækkene i sagen om COMPAS-algoritmen som den beskrives i Angwin et al. (2016).\"\n",
    "    #\"Hvad er verifikation og falsifikation?\"\n",
    "    #\"Redegør for hovedtrækkene i sagen om COMPAS-algoritmen som den beskrives i Angwin et al. (2016).\"\n",
    "    \"2. COMPAS-algoritmen inddrager ikke direkte etnicitet, men den inddrager faktorer, der kan være korreleret med etnicitet (Angwin et al., 2016, 3–4). Har man som modelkonstruktør et ansvar for at undlade at inddrage faktorer, der kan korreleres med etnicitet eller andre følsomme forhold? Kan man det?\"\n",
    "]\n",
    "\n",
    "query = queries[-1]\n",
    "\n",
    "result = collection.query(query_texts=[query], n_results=10)\n",
    "context = result[\"documents\"][0]\n",
    "#display(Markdown(f\"------------\\n\\n{\"\\n\\n------------\\n\\n\".join(context)}\"))\n",
    "\n",
    "formatted_text = \"\\n\\n------------\\n\\n\".join(context)\n",
    "\n",
    "# Display the formatted markdown\n",
    "display(Markdown(f\"{formatted_text}\"))\n",
    "\n",
    "prompt = PromptTemplate(\n",
    "    \"\"\"You are a helpful assistant that answers questions about the course material from \"Philosophy of Computer Science (VtDat)\" using provided context.\n",
    "    Context information is below.\n",
    "    ---------------------\n",
    "    {context}\n",
    "    ---------------------\n",
    "    Given the context information and not prior knowledge, answer the query. Always provide an answer in the Danish language.\n",
    "    Query: {query}\n",
    "    Answer: \n",
    "    \"\"\",\n",
    ")\n",
    "\n",
    "prompt = PromptTemplate(\n",
    "    \"\"\"You are a helpful assistant that answers questions about the course material from \"Philosophy of Computer Science (VtDat)\" using provided context.\n",
    "    Specifically, you will provide your answer such that it is generated as PowerPoint slide(s) content with a MAXIMUM of 3 PowerPoint slides. If helpful, please provide the answer using bullet points.\n",
    "    Context information is below.\n",
    "    ---------------------\n",
    "    {context}\n",
    "    ---------------------\n",
    "    Given the context information and not prior knowledge, answer the query. Always provide an answer in the Danish language.\n",
    "    Query: {query}\n",
    "    Answer: \n",
    "    \"\"\",\n",
    ")\n",
    "\n",
    "message = prompt.format(query=query, context=\"\\n\\n\".join(context))\n",
    "display(Markdown(f\"{message}\"))\n",
    "\n",
    "stream = openai_client.chat.completions.create(\n",
    "    messages=[{\"role\": \"user\", \"content\": message}],\n",
    "    model=\"gpt-4\",\n",
    "    stream=True)\n",
    "\n",
    "output = \"\"\n",
    "for chunk in stream:\n",
    "    if chunk.choices:  # Check if the list is not empty\n",
    "        output += chunk.choices[0].delta.content or \"\"\n",
    "    display(Markdown(f\"{output}\"), clear=True)"
   ]
  },
  {
   "cell_type": "code",
   "execution_count": 10,
   "id": "1abaace4",
   "metadata": {},
   "outputs": [
    {
     "data": {
      "text/markdown": [
       "- Etnicitet inddrages indirekte i COMPAS-algoritmen gennem variabler, der korrelerer med etnicitet.\n",
       "- Som modelkonstruktør har man ansvar for de faktorer, der inddrages i en algoritme.\n",
       "- Følsomme faktorer som etnicitet kræver særlig overvejelse. Mens nogle mener, at det at ignorere sådanne faktorer kan være mere retfærdigt, kan det også reducere algoritmens nøjagtighed.\n",
       "- Fra en nytteetisk perspektiv, ønsker man at gøre den største nytte. Hvis en algoritme bedre kan forudsige udfald ved at inddrage etniciteten, kan det argumenteres at det vil være mest gavnligt at inkludere det.\n",
       "- En pligtetisk tilgang ville lægge vægt på fairness og lige behandling, hvilket kan argumentere imod at inkludere etnicitet.\n",
       "- Nagels synsteseetik ville opfordre til at harmonisere disse to perspektiver og finde en balance.\n",
       "- I sidste ende er etiske overvejelser afgørende ved design af algoritmer for at sikre, at de ikke forstærker eksisterende skævheder eller unfairness."
      ],
      "text/plain": [
       "<IPython.core.display.Markdown object>"
      ]
     },
     "metadata": {},
     "output_type": "display_data"
    }
   ],
   "source": [
    "queries = [\n",
    "    #\"Hvad står P, L, A, C og E for i PLACE-akronymet af John Ziman\"\n",
    "    #\"Redegør for hovedtrækkene i sagen om COMPAS-algoritmen som den beskrives i Angwin et al. (2016).\"\n",
    "    #\"Hvad er verifikation og falsifikation?\"\n",
    "    #\"Redegør for hovedtrækkene i sagen om COMPAS-algoritmen som den beskrives i Angwin et al. (2016).\"\n",
    "    \"2. COMPAS-algoritmen inddrager ikke direkte etnicitet, men den inddrager faktorer, der kan være korreleret med etnicitet (Angwin et al., 2016, 3–4). Har man som modelkonstruktør et ansvar for at undlade at inddrage faktorer, der kan korreleres med etnicitet eller andre følsomme forhold? Kan man det? Hvilke etiske overvejelser bør man have. Inddrag gerne synspunkter fra nytte og pligtetik, og Nagels synsteseetik.\"\n",
    "]\n",
    "\n",
    "query = queries[-1]\n",
    "\n",
    "result = collection.query(query_texts=[query], n_results=10)\n",
    "context = result[\"documents\"][0]\n",
    "#display(Markdown(f\"------------\\n\\n{\"\\n\\n------------\\n\\n\".join(context)}\"))\n",
    "\n",
    "formatted_text = \"\\n\\n------------\\n\\n\".join(context)\n",
    "\n",
    "# Display the formatted markdown\n",
    "display(Markdown(f\"{formatted_text}\"))\n",
    "\n",
    "prompt = PromptTemplate(\n",
    "    \"\"\"You are a helpful assistant that answers questions about the course material from \"Philosophy of Computer Science (VtDat)\" using provided context.\n",
    "    Context information is below.\n",
    "    ---------------------\n",
    "    {context}\n",
    "    ---------------------\n",
    "    Given the context information and not prior knowledge, answer the query. Always provide an answer in the Danish language.\n",
    "    Query: {query}\n",
    "    Answer: \n",
    "    \"\"\",\n",
    ")\n",
    "\n",
    "prompt = PromptTemplate(\n",
    "    \"\"\"You are a helpful assistant that answers questions about the course material from \"Philosophy of Computer Science (VtDat)\" using provided context.\n",
    "    Specifically, you will provide your answer such that it is generated as PowerPoint slide(s) content with a MAXIMUM of 1 PowerPoint slides. If helpful, please provide the answer using bullet points.\n",
    "    Context information is below.\n",
    "    ---------------------\n",
    "    {context}\n",
    "    ---------------------\n",
    "    Given the context information and not prior knowledge, answer the query. Always provide an answer in the Danish language.\n",
    "    Query: {query}\n",
    "    Answer: \n",
    "    \"\"\",\n",
    ")\n",
    "\n",
    "message = prompt.format(query=query, context=\"\\n\\n\".join(context))\n",
    "display(Markdown(f\"{message}\"))\n",
    "\n",
    "stream = openai_client.chat.completions.create(\n",
    "    messages=[{\"role\": \"user\", \"content\": message}],\n",
    "    model=\"gpt-4\",\n",
    "    stream=True)\n",
    "\n",
    "output = \"\"\n",
    "for chunk in stream:\n",
    "    if chunk.choices:  # Check if the list is not empty\n",
    "        output += chunk.choices[0].delta.content or \"\"\n",
    "    display(Markdown(f\"{output}\"), clear=True)"
   ]
  },
  {
   "cell_type": "code",
   "execution_count": 24,
   "id": "9fa2861b",
   "metadata": {},
   "outputs": [
    {
     "data": {
      "text/markdown": [
       "Slide 1:\n",
       "Title: Analyse af Fairness i COMPAS-casen\n",
       "- Introduktion til COMPAS\n",
       "   - COMPAS-algoritmen bruges i USA's retssystem til bedømmelse af kriminelles risiko for recidivisme.\n",
       "   - Et review af denne algoritme viste en systematisk skævhed i dens fejl. \n",
       "   - Personer af farvet hud, der ikke begår ny kriminalitet, har langt højere chance for fejlagtigt at få en høj risikoscore end hvide. Omvendt gælder det for hvide for fejlagtigt at få en lav score.\n",
       "   \n",
       "Slide 2:\n",
       "Title: Gruppe Fairness og COMPAS\n",
       "- Gruppe Fairness involverer at behandle grupper af mennesker ligeligt. \n",
       "- I COMPAS-casen:\n",
       "   - Det forekommer at der er en skævhed mod farvede personer. \n",
       "   - Mulighed for gruppe-diskrimination, hvor folk med samme etniske baggrund behandles anderledes end andre grupper.\n",
       "   \n",
       "Slide 3:\n",
       "Title: Individuel Fairness og COMPAS\n",
       "- Individuel fairness handler om at behandle hver enkelt individ retfærdigt.\n",
       "- I COMPAS-casen:\n",
       "   - COMPAS-algoritmen kan potentielt behandle individuelle farvede personer uretfærdigt baseret på deres hudfarve. \n",
       "   - Potentialet for diskrimination på individuelt niveau selv hvis gruppefairness er opfyldt.\n",
       "- Afsluttende tanker: Vi skal være omhyggelige med de data, vi bruger til at træne algoritmer, og være opmærksomme på potentialerne for skjulte forudsætninger og diskriminationer."
      ],
      "text/plain": [
       "<IPython.core.display.Markdown object>"
      ]
     },
     "metadata": {},
     "output_type": "display_data"
    }
   ],
   "source": [
    "queries = [\n",
    "    #\"Hvad står P, L, A, C og E for i PLACE-akronymet af John Ziman\"\n",
    "    #\"Redegør for hovedtrækkene i sagen om COMPAS-algoritmen som den beskrives i Angwin et al. (2016).\"\n",
    "    #\"Hvad er verifikation og falsifikation?\"\n",
    "    #\"Redegør for hovedtrækkene i sagen om COMPAS-algoritmen som den beskrives i Angwin et al. (2016).\"\n",
    "    #\"2. COMPAS-algoritmen inddrager ikke direkte etnicitet, men den inddrager faktorer, der kan være korreleret med etnicitet (Angwin et al., 2016, 3–4). Har man som modelkonstruktør et ansvar for at undlade at inddrage faktorer, der kan korreleres med etnicitet eller andre følsomme forhold? Kan man det? Hvilke etiske overvejelser bør man have. Inddrag synspunkter fra nytte og pligtetik (kategoriske og praktiske imperativ), og Nagels synsteseetik. Hvorfor har modelkonstruktøren et etisk ansvar?\"\n",
    "    #\"Forklar begreberne group fairness og individuel fairness fra Friedler et al. (2021) og forklar hvorfor en algoritme (normalt) ikke kan udvise gruppe- og individuel fairness samtidig.\"\n",
    "    \"Analyser hvordan disse fairness-begreber (group fairness og individuel fairness) er på spil i COMPAS-casen\"\n",
    "]\n",
    "\n",
    "query = queries[-1]\n",
    "\n",
    "result = collection.query(query_texts=[query], n_results=10)\n",
    "context = result[\"documents\"][0]\n",
    "#display(Markdown(f\"------------\\n\\n{\"\\n\\n------------\\n\\n\".join(context)}\"))\n",
    "\n",
    "formatted_text = \"\\n\\n------------\\n\\n\".join(context)\n",
    "\n",
    "# Display the formatted markdown\n",
    "display(Markdown(f\"{formatted_text}\"))\n",
    "\n",
    "\n",
    "\n",
    "prompt = PromptTemplate(\n",
    "    \"\"\"You are a helpful assistant that answers questions about the course material from \"Philosophy of Computer Science (VtDat)\" using provided context.\n",
    "    Specifically, you will provide your answer such that it is generated as PowerPoint slide(s) content with 3 PowerPoint slides. If helpful, please provide the answer using bullet points.\n",
    "    Context information is below.\n",
    "    ---------------------\n",
    "    {context}\n",
    "    ---------------------\n",
    "    Given the context information and not prior knowledge, answer the query. Always provide an answer in the Danish language.\n",
    "    Query: {query}\n",
    "    Answer: \n",
    "    \"\"\",\n",
    ")\n",
    "\n",
    "message = prompt.format(query=query, context=\"\\n\\n\".join(context))\n",
    "display(Markdown(f\"{message}\"))\n",
    "\n",
    "stream = openai_client.chat.completions.create(\n",
    "    messages=[{\"role\": \"user\", \"content\": message}],\n",
    "    model=\"gpt-4\",\n",
    "    stream=True)\n",
    "\n",
    "output = \"\"\n",
    "for chunk in stream:\n",
    "    if chunk.choices:  # Check if the list is not empty\n",
    "        output += chunk.choices[0].delta.content or \"\"\n",
    "    display(Markdown(f\"{output}\"), clear=True)"
   ]
  },
  {
   "cell_type": "code",
   "execution_count": 23,
   "id": "1aaa0364",
   "metadata": {},
   "outputs": [
    {
     "data": {
      "text/markdown": [
       "You are a helpful assistant that answers questions about the course material from \"Philosophy of Computer Science (VtDat)\" using provided context.\n",
       "    Specifically, you will provide your answer such that it is generated as PowerPoint slide(s) content with 3 PowerPoint slides. If helpful, please provide the answer using bullet points.\n",
       "    Context information is below.\n",
       "    ---------------------\n",
       "    F or det første er de etiske argumenter\n",
       "for at bruge prædiktive algoritmer typisk utilitaristiske; den grundlæggende påstand er, at\n",
       "en algoritme som COMP AS på den eller anden måde øger den samlede nytte i samfundet og\n",
       "det er på den baggrund algoritmen skal vurderes (der kan selvfølgelig også være ikke-etiske\n",
       "begrundelser som kommercielle interesser eller andet). 620\n",
       "F or andet skal være klar over, at prædiktive algoritmer altid diskriminerer, i den forstand\n",
       "at din fremtidige adfærd estimeres på baggrund af den fortidige adfærd af den gruppe, som\n",
       "du anses for at tilhøre. Hvis man fx vil estimere hvor længe en 25 årig, ikke-rygende, køben-\n",
       "havnsk studerende lever, vil man se på, hvor længe folk i en referenceklasse af personer, der\n",
       "minder om vores 25-årige studerende i gennemsnit har levet. Det er ganske simpelt sådan, 625\n",
       "statistiske forudsigelser fungerer (i det mindste i den frekventistisk tolkning af sandsynlig-\n",
       "hed, som er mest naturlig i denne sammenhæng). Spørgsmålet er altså ikke om algoritmerne\n",
       "må diskriminere, men i højere grad hvilke faktorer, vi vil tillade, at der indgår i reference-\n",
       "klassen. Hvilke træk ved dig, kan man det etisk set forsvare at diskriminere på baggrund\n",
       "af, når du skal have en livsforsikring, ansøger om et job eller søger ind på en uddannelse? 630\n",
       "F or at svare på det spørgsmål bliver vi for det tredje nødt til at inddrage begrebet ret-\n",
       "færdighed.\n",
       "\n",
       "også et socialt gode, idet den grundlæggende autonomi og integritet, beskyttelse af privat-\n",
       "livet muliggør, ifølge Johnson er en afgørende forudsætning for at have et demokrati. Et\n",
       "demokrati kan kun fungere, hvis der er plads til at tænke anderledes og mulighed for at gøre 560\n",
       "og afprøve nye ting, som de siddende magthaverne måske ikke billiger. Uden en privatsfære,\n",
       "hvor man kan tage selvstændig stilling til og indgå med andre borgere i en kritisk dialog om\n",
       "magthavernes beslutninger kan man ikke have et demokrati. Hvis det argument er korrekt,\n",
       "er spørgsmålet om privatliv vs. sikkerhed ikke blot et spørgsmål om individuelle rettigheder\n",
       "mod almenvellets velfærd, men også et spørgsmål om forskellige former for generel velfærd. 565\n",
       "Sat på spidsen kan man sige, at valgte også står mellem den sikkerhed man kan få med\n",
       "totalitær overvågning og de fordele, et oplyst, inddragende demokratisk styre giver. Man\n",
       "kan i længden ikke have begge dele.\n",
       "10.7 Bias og algoritmisk transparens\n",
       "Brugen af algoritmer giver også en anden etisk konflikt, nemlig en konflikt mellem effek- 570\n",
       "tivitet og retfærdighed. Det har i århundrede været helt almindeligt at bruge datadrevne\n",
       "sandsynlighedsberegninger til at støtte beslutninger, der går ud på at vurdere en form for\n",
       "risiko. Hvis man fx tegner en ulykkesforsikring, vil forsikringsselskabet bruge deres viden\n",
       "om, hvor hyppigt folk, der på relevante træk ligner dig, kommer til skade, til at fastsætte\n",
       "forsikringspræmien.\n",
       "\n",
       "En\n",
       "algoritme som COMP AS, der har en større tilbøjelighed til at holde farvede i fængsel end\n",
       "ikke-farvede, vil bidrage til fastholde denne strukturelle ulighed. En datadreven algoritme\n",
       "afspejler virkeligheden, som den er, men hvis virkeligheden er racistisk, vil algoritmen også\n",
       "blive det, og hvis algoritmen bliver brugt uden forbehold, kan den bidrage til at fastholde 685\n",
       "historisk betingede diskriminerende strukturer. Der er derimod ikke noget, der tyder på, at\n",
       "mænds kortere levealder er et udtryk for strukturel diskrimination. Så med andre ord er\n",
       "det vigtigt, at se på den kontekst, en algoritme skal indgå i, når man overvejer, om den er\n",
       "retfærdig.\n",
       "Pandoras black box 690\n",
       "I en traditionel statistisk model vil man have nogenlunde styr på de variable, modellen\n",
       "inddrager. Det er dog værd at bemærke, at tingene selv med traditionelle algoritmer ik-\n",
       "ke altid er så klare; COMP AS-algoritmen inddrager således ikke direkte etnicitet som en\n",
       "variabel. Den inddrager til gengæld flere variable, der er tæt korrelerede med etnicitet, og\n",
       "dermed indgår etnicitet indirekte i algoritmen. Det gør naturligvis tingene mere besværlige, 695\n",
       "16Henrik Kragh Sørensen og Mikkel Willum Johansen (apr. 2022). „Invitation til de datalogiske fags\n",
       "videnskabsteori“ . Lærebog til brug for undervisning ved Institut for Naturfagenes Didaktik, Københavns\n",
       "Universitet. Under udarbejdelse.\n",
       "Kapitel 10, version 151 (2021-06-05).\n",
       "\n",
       "Algoritmen til forudsigelse af frafald inddrog således direkte elevernes etnicitet\n",
       "som en faktor i beregningen, men hvad nu hvis algoritmen havde en bias så den systematisk\n",
       "gav elever med en etnicitet en højre risikovurdering end elever med en anden?\n",
       "Spørgsmålet om diskrimination i algoritmer er navnligt blevet diskuteret i forbindelse 595\n",
       "med den såkaldte COMP AS-algoritme, der bruges i det amerikanske retsvæsen til vurdering\n",
       "af kriminelles tilbagefaldsrisiko. En gennemgang af algoritmen viste imidlertid en systema-\n",
       "tisk skævhed i de fejl, algoritmen lavede. Således havde farvede, der ikke senere begik ny\n",
       "kriminalitet, en langt højere chance for fejlagtigt at få en høj risikoscore end hvide, og hvide\n",
       "havde omvendt en højere chance for fejlagtigt at få en lav score end farvede (Angwin m.fl., 600\n",
       "2016 ).\n",
       "Hvis man imidlertid tager udgangspunkt i de to kategorier høj- og lav-risiko, og under-\n",
       "14Henrik Kragh Sørensen og Mikkel Willum Johansen (apr. 2022). „Invitation til de datalogiske fags\n",
       "videnskabsteori“ . Lærebog til brug for undervisning ved Institut for Naturfagenes Didaktik, Københavns\n",
       "Universitet. Under udarbejdelse.\n",
       "Kapitel 10, version 151 (2021-06-05).\n",
       "\n",
       "Algoritmisk bias er et nært forbun-\n",
       "det fænomen. Som vi så ovenfor havde Flu Trends svært ved at skel-ne in ﬂ uenza- og vintersæsonen, for-\n",
       "di de to fænomener forekom samti-digt i det oprindelige træningssæt. Det var et ret uskyldigt eksempel, men hvad nu hvis de to fænomener, der var blevet sammenblandet, var noget mere følsomt som etnicitet og kriminalitet? I navnlig det ameri-kanske retssystem støtter man sig i stigende grad til statistisk trænede algoritmer, når man skal afgøre, hvorvidt fanger skal prøveløslades. Fangerne skal udfylde et spørge-skema, og på baggrund af, hvordan det er gået fanger, der tidligere har udfyldt samme skema, kan man udregne en score for, hvor sandsyn-ligt det er, at en person vil begå ny kriminalitet. Metoden er imidlertid blevet beskyldt for konsekvent at give sorte en højre kriminalitets-score end folk af andre hudfarver. Man må ikke dømme folk alene ud fra deres hudfarve – det er racisme – men noget tyder altså på, at al-goritmen i dette tilfælde til dels har lært at gætte, om folk er sorte eller ej, præcis som Flu Trends til dels havde lært at gætte på, om vinteren nærmede sig. \n",
       "Vi risikerer naturligvis altid at \n",
       "blive mødt af fordomme, men når fordommene bygges ind i model-ler, der fremstår som neutrale og objektive, kan de være sværere at adressere. Når man bruger big data er der derfor ikke bare gode metodologiske grunde til at være opmærksom på sammenblandin-gen mellem over ﬂ adisk relaterede \n",
       "fænomener. Der kan også være gode etiske grunde til det.\n",
       "\n",
       "søger, hvor god algoritmen er til at komme med korrekte forudsigelser, er der paradoksalt\n",
       "nok ingen forskel på farvede og hvide; blandt de, der blev bedømt som højrisiko, var pro-\n",
       "centdelen af farvede, der var blevet fejlplaceret, nogenlunde lige så stor som procentdelen 605\n",
       "af hvide, og tilsvarende for de, der blev vurderet som højrisiko. Det betyder med andre\n",
       "ord, at risikoscoren er nogenlunde lige pålidelig, uanset hvilken etnicitet den person, den\n",
       "bliver lavet for, har. Y dermere har det vist sig, at man ikke kan have lighed for begge mål\n",
       "samtidig. Enten vil algoritmen som nu være lige pålidelig i sine forudsigelser uanset etnici-\n",
       "tet, men til gengæld have en systematisk skævhed i forhold til enkeltpersoners risiko for at 610\n",
       "blive fejlplaceret, eller også kan man gøre risikoen for at blive fejlplaceret lige stor uanset\n",
       "etnicitet, hvilket til gengæld betyder, at algoritmen vil være mindre pålidelig for den ene\n",
       "etniske gruppe end for den anden (for en stringent matematiske gennemgang, se Kleinberg,\n",
       "Mullainathan og Raghavan, 2017 ). Det er selvfølgelig en interessant etisk udfordring!\n",
       "Når man skal diskutere hvorvidt brugen af prædiktive algoritmer kan forsvares etisk er 615\n",
       "der er en række ting, det kan være godt at få på plads.\n",
       "\n",
       "Det er ret ukontroversielt. Det er straks mere kontroversielt, at man 575\n",
       "bl.a. i det amerikanske retsvæsen siden starten af den 20. århundrede har brugt lignende\n",
       "beregninger til at vurdere kriminelles risiko for at begå ny kriminalitet – og at den type\n",
       "beregninger er blevet brugt i vurderingen strafudmåling, prøveløsladelser mv. (Carlson, A.\n",
       "(2017). The Need for T ransparency in the Age of Predictive Sentencing Algorithms. Iowa\n",
       "Law Review, 103(1), 303–329.). I de sidste årtier har lettere adgang til store datamængder 580\n",
       "og fremkomsten af diverse machine learning teknikker gjort det lettere at udvikle den type\n",
       "systemer og diverse former for prædiktive algoritmer bruges i dag på en lang række områder\n",
       "fra reklamer til sortering af jobansøgninger.\n",
       "Det er dog ikke helt uproblematisk at bruge prædiktive algoritmer. Som vi så tidligere, er\n",
       "der en række epistemiske problemer forbundet med machine learning. Der er typisk en meget 585\n",
       "direkte sammenhæng mellem epistemiske og etiske overvejelser; hvis de etiske overvejelser\n",
       "inddrager utilititaristiske komponenter er det i høj grad væsentligt at forstå, hvor godt en\n",
       "given algoritme i praksis virker. Ville den etiske vurdering af algoritmen til forudsigelse af\n",
       "frafald i gymnasiet fx falde anderledes ud, hvis systemet kun havde en træfsikkerhed på\n",
       "67%? Der er imidlertid også et anden og vanskeligere etisk aspekt specielt hvis man bruger 590\n",
       "algoritmiske forudsigelser til at træffe afgørelser, der har betydning for enkeltindividers\n",
       "muligheder.\n",
       "\n",
       "at man på den måde kan komme til at bruge variable, man ikke direkte har indbygget i sin\n",
       "algoritme.\n",
       "Det problem bliver imidlertid kraftigt forstærket, hvis man træner en algoritme med\n",
       "machine learning. Her har vi styr på de data, algoritmen er trænet med, og vi kan opstille\n",
       "forskellige mål for, hvor godt den virker, men resten er en black box; vi aner reelt ikke 700\n",
       "hvorfor den virker, og som vi berørte ovenfor, kan machine learning algoritmer med lethed\n",
       "diskriminere langs variable, der er af en helt anden type den de data, vi har trænet algo-\n",
       "ritmen med. Hvis vi vil sikre, at de algoritmer, vi udvikler, ikke diskriminerer på en etisk\n",
       "kritisabel måde, bliver vi nødt til at gøre dem transparente. Det er imidlertid ikke altid let,\n",
       "at gøre en blackbox transparent! 705\n",
       "10.8 Systemisk etik\n",
       "Efter at have set på de normative teorier vil vi nu vende tilbage til den deskriptive etik og\n",
       "beskrive et interessant og i høj grad overset aspekt af etikken, nemlig det tilsyneladende\n",
       "empiriske faktum, at vores etiske beslutninger kan påvirkes af selv små ændringer i vores\n",
       "miljø. Som et enkelt eksempel testede John M. Darley (1938–2018) og Daniel Batson 710\n",
       "teologistuderende i et eksperimentelt paradigme, hvor en forsøgsperson (typisk en stude-\n",
       "rende) bliver bedt om at forberede et kort oplæg om den barmhjertige samaritaner, som\n",
       "er en lignelse fra Det Nye T estamente, der i korte træk går ud på, at man ubetinget skal\n",
       "hjælpe andre i nød, også selv om det er en vildt fremmet af et andet folk (Darley og Bat-\n",
       "son, 1973 ).\n",
       "\n",
       "Og hvad gør man så? Er\n",
       "det mest retfærdige at kønsdiskriminere i dette tilfælde (og lade de fornuftige mænd betale 665\n",
       "prisen) eller er det mest retfærdigt at undlade at kønsdiskriminere (og lade kvinderne betale\n",
       "prisen)?\n",
       "Det bringer os tilbage til COMP AS-algoritmen. I den population, hvor algoritmen er\n",
       "blevet testet, har farvede fanger reelt en større risiko for at begå ny kriminalitet. Når\n",
       "algoritmen diskriminerer på baggrund af etnicitet er det derfor blot et udtryk for, at den 670\n",
       "har identificeret en informationsbærende dimension i datasættet. Og lige som ovenfor vil vi\n",
       "have valget imellem at forhindre algoritmen i at bruge informationen, hvorved den vil blive\n",
       "mindre effektiv i den forstand at dens overordnede fejlrate vil stige, eller at tillade den at\n",
       "bruge informationen, hvorved den vil diskriminere enkeltindivider, således at farvede, der\n",
       "ikke vil begå ny kriminalitet har en meget større risiko for at få en høj kriminalitetsscore 675\n",
       "end ikke-farvede. Hvilket af de to scenarier forekommer dig mest retfærdigt, når du står\n",
       "bag uvidenhedens slør?\n",
       "Der er dog også væsentlige forskelle på de to cases. Specielt kan man argumentere for, at\n",
       "den gennensnitligt høje kriminalitetsrate blandt farvede til dels skyldes strukturelle forhold\n",
       "i det amerikanske samfund; pga. en generel diskrimination mod farvede har de sværere ved 680\n",
       "at få uddannelser og job end ikke-farvede, og derfor vil de hyppigere ende i kriminalitet.\n",
       "\n",
       "Begrebet retfærdighed befinder sig et sted imellem etik og politisk filosofi, idet\n",
       "det angår mere generelle egenskaber samfund, som fordeling af goder, adgang til politisk\n",
       "magt og det juridiske straffesystem. Præcis som det er tilfældet for etik findes der mange\n",
       "forskellige retninger indenfor politisk filosofi, og mange forskellige ideer om, hvad retfærdig- 635\n",
       "hed er. Det vil vi på ingen måde gå i dybden med her. Vi vil nøjes med at præsentere en\n",
       "enkelt og meget operationel forestilling om retfærdighed, til dels med udgangspunkt i den\n",
       "amerikanske filosof John Ra wls (1921–2002). Ra wls hævder (Rawls, 1972 ), at hvis sam-\n",
       "fundet skal være retfærdigt, skal vi tage alle grundlæggende beslutninger om det indretning\n",
       "og institutioner, mens vi befinder os bag et uvidenhedens slør , der skjuler, hvilken position 640\n",
       "vi selv vil få i samfundet. Så man skal altså forestille sig, at man ikke ved, hvilket køn man\n",
       "har, at man ikke ved, om man er rig eller fattig, at man ikke kender sin etnicitet mv., og\n",
       "ud fra den position kan man beslutte, hvordan samfundet skal indrettes. I dette tilfælde:\n",
       "Hvilke former for diskrimination vil vi tillade i prædiktive algoritmer? Det er let at forestille\n",
       "sig (men det kan selvfølgelig diskuteres) at man i den situation vil vælge et samfund der 645\n",
       "er uden kønsdiskrimination og ude diskrimination mode fx seksuelle og etniske minoriteter.\n",
       "Så simpelt er det.\n",
       "Og så alligevel ikke, for der kan være principielt forskellige former for diskrimination.\n",
       "    ---------------------\n",
       "    Given the context information and not prior knowledge, answer the query. Always provide an answer in the Danish language.\n",
       "    Query: Forklar begreberne group fairness og individuel fairness fra Friedler et al. (2021) og forklar hvorfor en algoritme (normalt) ikke kan udvise gruppe- og individuel fairness samtidig.\n",
       "    Answer: \n",
       "    "
      ],
      "text/plain": [
       "<IPython.core.display.Markdown object>"
      ]
     },
     "metadata": {},
     "output_type": "display_data"
    }
   ],
   "source": [
    "display(Markdown(f\"{message}\"))"
   ]
  },
  {
   "cell_type": "markdown",
   "id": "2e1fad80",
   "metadata": {},
   "source": [
    "## Normal example using LlamaIndex\n",
    "\n",
    "In this example, we will use LlamaIndex to abstract the indexing and retrieval steps. This shows how easily the same pipeline can be implemented using LlamaIndex.\n"
   ]
  },
  {
   "cell_type": "code",
   "execution_count": null,
   "id": "26ae94f3",
   "metadata": {},
   "outputs": [],
   "source": [
    "\n",
    "#%pip install llama-index-embeddings-azure-openai\n",
    "#%pip install llama-index-llms-azure-openai"
   ]
  },
  {
   "cell_type": "code",
   "execution_count": 15,
   "id": "356930ca",
   "metadata": {},
   "outputs": [],
   "source": [
    "import chromadb\n",
    "from chromadb import Settings\n",
    "from llama_index.llms.openai import OpenAI\n",
    "from llama_index.core import SimpleDirectoryReader, VectorStoreIndex\n",
    "from llama_index.core.node_parser import SentenceSplitter\n",
    "from llama_index.core.ingestion import IngestionPipeline\n",
    "from llama_index.embeddings.openai import OpenAIEmbedding\n",
    "from llama_index.vector_stores.chroma import ChromaVectorStore\n",
    "\n",
    "from llama_index.llms.azure_openai import AzureOpenAI\n",
    "from llama_index.embeddings.azure_openai import AzureOpenAIEmbedding\n",
    "\n",
    "# ChromaDB Vector Store\n",
    "chroma_client = chromadb.PersistentClient(\n",
    "    path=\"./data/baseline-rag-pdf-docs/chromadb\", settings=Settings(allow_reset=True))\n",
    "chroma_client.reset()\n",
    "collection = chroma_client.get_or_create_collection(\n",
    "    name=\"VtDat\", metadata={\"hnsw:space\": \"cosine\"})\n",
    "vector_store = ChromaVectorStore(chroma_collection=collection)\n",
    "\n",
    "\n",
    "llm = AzureOpenAI(\n",
    "    model=\"gpt-4\",\n",
    "    deployment_name=\"gpt4\",\n",
    "    api_key=os.getenv(\"OPENAI_API_KEY\"),  \n",
    "    # api_version=os.getenv(\"OPENAI_API_VERSION\"),\n",
    "    api_version = \"2024-05-01-preview\", # https://learn.microsoft.com/en-us/azure/ai-services/openai/reference?WT.mc_id=AZ-MVP-5004796\n",
    "    azure_endpoint=os.getenv(\"AZURE_OPENAI_ENDPOINT\")\n",
    ")\n",
    "\n",
    "# You need to deploy your own embedding model as well as your own chat completion model\n",
    "embed_model = AzureOpenAIEmbedding(\n",
    "    model=\"text-embedding-ada-002\",\n",
    "    deployment_name=\"text-embedding-ada-002\",\n",
    "    api_key=os.getenv(\"OPENAI_API_KEY\"),  \n",
    "    # api_version=os.getenv(\"OPENAI_API_VERSION\"),\n",
    "    api_version = \"2024-05-01-preview\", # https://learn.microsoft.com/en-us/azure/ai-services/openai/reference?WT.mc_id=AZ-MVP-5004796\n",
    "    azure_endpoint=os.getenv(\"AZURE_OPENAI_ENDPOINT\")\n",
    ")\n",
    "\n",
    "# Define the ingestion pipeline to add documents to vector store\n",
    "pipeline = IngestionPipeline(\n",
    "    transformations=[\n",
    "        SentenceSplitter(chunk_size=512, chunk_overlap=20),\n",
    "        embed_model,\n",
    "    ],\n",
    "    vector_store=vector_store,\n",
    ")\n",
    "\n",
    "# Create index with the vector store and using the embedding model\n",
    "index = VectorStoreIndex.from_vector_store(\n",
    "    vector_store=vector_store, embed_model=embed_model)"
   ]
  },
  {
   "cell_type": "code",
   "execution_count": 16,
   "id": "cdcb0e3f",
   "metadata": {},
   "outputs": [
    {
     "data": {
      "text/plain": [
       "AzureOpenAIEmbedding(model_name='text-embedding-ada-002', embed_batch_size=10, callback_manager=<llama_index.core.callbacks.base.CallbackManager object at 0x7f2a83526dd0>, num_workers=None, additional_kwargs={}, api_key='e611f630906c45b08f1042c53e896e3d', api_base='https://api.openai.com/v1', api_version='2024-05-01-preview', max_retries=10, timeout=60.0, default_headers=None, reuse_client=True, dimensions=None, azure_endpoint='https://rag-test1.openai.azure.com/', azure_deployment='text-embedding-ada-002', azure_ad_token_provider=None, use_azure_ad=False)"
      ]
     },
     "execution_count": 16,
     "metadata": {},
     "output_type": "execute_result"
    }
   ],
   "source": [
    "embed_model"
   ]
  },
  {
   "cell_type": "code",
   "execution_count": 17,
   "id": "58348922",
   "metadata": {},
   "outputs": [
    {
     "name": "stdout",
     "output_type": "stream",
     "text": [
      "Indexing complete\n"
     ]
    }
   ],
   "source": [
    "# Fetch documents\n",
    "documents = SimpleDirectoryReader('./data/docs').load_data()\n",
    "\n",
    "# Run pipeline\n",
    "pipeline.run(documents=documents)\n",
    "\n",
    "print(\"Indexing complete\")"
   ]
  },
  {
   "cell_type": "code",
   "execution_count": 18,
   "id": "6751921c",
   "metadata": {},
   "outputs": [
    {
     "data": {
      "text/plain": [
       "<llama_index.core.indices.vector_store.retrievers.retriever.VectorIndexRetriever at 0x7f2a7a867710>"
      ]
     },
     "execution_count": 18,
     "metadata": {},
     "output_type": "execute_result"
    }
   ],
   "source": [
    "index.as_retriever()"
   ]
  },
  {
   "cell_type": "markdown",
   "id": "1afa9720",
   "metadata": {},
   "source": [
    "#### Create base QueryEngine from LlamaIndex\n"
   ]
  },
  {
   "cell_type": "code",
   "execution_count": 19,
   "id": "933d7777",
   "metadata": {},
   "outputs": [],
   "source": [
    "import os\n",
    "\n",
    "from dotenv import load_dotenv\n",
    "from IPython.display import Markdown, display\n",
    "from llama_index.core import SimpleDirectoryReader, VectorStoreIndex\n",
    "from llama_index.core.prompts.default_prompt_selectors import \\\n",
    "    DEFAULT_TREE_SUMMARIZE_PROMPT_SEL\n",
    "from llama_index.core.query_engine import (RouterQueryEngine,\n",
    "                                           TransformQueryEngine)\n",
    "from llama_index.core.response_synthesizers import TreeSummarize\n",
    "from llama_index.core.selectors import LLMMultiSelector\n",
    "from llama_index.core.tools import QueryEngineTool\n",
    "from llama_index.llms.openai import OpenAI\n",
    "# from llama_index.postprocessor.cohere_rerank import CohereRerank\n",
    "\n",
    "from util.helpers import create_and_save_wiki_md_files, get_wiki_pages\n",
    "from util.query_engines import VerboseHyDEQueryTransform, WeatherQueryEngine"
   ]
  },
  {
   "cell_type": "code",
   "execution_count": 30,
   "id": "7df40c38",
   "metadata": {},
   "outputs": [],
   "source": [
    "from util.query_engines import VerboseHyDEQueryTransform\n",
    "\n",
    "hyde = VerboseHyDEQueryTransform(include_original=True, verbose=True)"
   ]
  },
  {
   "cell_type": "code",
   "execution_count": 31,
   "id": "8dc4650b",
   "metadata": {},
   "outputs": [
    {
     "data": {
      "text/plain": [
       "<util.query_engines.VerboseHyDEQueryTransform at 0x7f2a607e8a90>"
      ]
     },
     "execution_count": 31,
     "metadata": {},
     "output_type": "execute_result"
    }
   ],
   "source": [
    "hyde"
   ]
  },
  {
   "cell_type": "code",
   "execution_count": 22,
   "id": "79604a28",
   "metadata": {},
   "outputs": [],
   "source": [
    "query_engine = index.as_query_engine(llm=llm, verbose=True)"
   ]
  },
  {
   "cell_type": "code",
   "execution_count": 32,
   "id": "060e33f3",
   "metadata": {},
   "outputs": [],
   "source": [
    "transformed_query_engine = TransformQueryEngine(\n",
    "    query_engine=index.as_query_engine(llm=llm, verbose=True),\n",
    "    query_transform=hyde,\n",
    ")"
   ]
  },
  {
   "cell_type": "code",
   "execution_count": 33,
   "id": "183a73ee",
   "metadata": {},
   "outputs": [
    {
     "data": {
      "text/plain": [
       "<llama_index.core.query_engine.transform_query_engine.TransformQueryEngine at 0x7f2a7a94fc10>"
      ]
     },
     "execution_count": 33,
     "metadata": {},
     "output_type": "execute_result"
    }
   ],
   "source": [
    "transformed_query_engine"
   ]
  },
  {
   "cell_type": "markdown",
   "id": "a3f4a4ed",
   "metadata": {},
   "source": [
    "#### Or alternatively, create a CustomQueryEngine\n"
   ]
  },
  {
   "cell_type": "code",
   "execution_count": 57,
   "id": "f9f60384",
   "metadata": {},
   "outputs": [
    {
     "ename": "ValidationError",
     "evalue": "1 validation error for RAGQueryEngine\nretriever\n  instance of MyRetriever expected (type=type_error.arbitrary_type; expected_arbitrary_type=MyRetriever)",
     "output_type": "error",
     "traceback": [
      "\u001b[0;31m---------------------------------------------------------------------------\u001b[0m",
      "\u001b[0;31mValidationError\u001b[0m                           Traceback (most recent call last)",
      "Cell \u001b[0;32mIn[57], line 52\u001b[0m\n\u001b[1;32m     48\u001b[0m         \u001b[38;5;28;01mreturn\u001b[39;00m \u001b[38;5;28mstr\u001b[39m(response)\n\u001b[1;32m     51\u001b[0m synthesizer \u001b[38;5;241m=\u001b[39m get_response_synthesizer(response_mode\u001b[38;5;241m=\u001b[39m\u001b[38;5;124m\"\u001b[39m\u001b[38;5;124mcompact\u001b[39m\u001b[38;5;124m\"\u001b[39m)\n\u001b[0;32m---> 52\u001b[0m query_engine \u001b[38;5;241m=\u001b[39m \u001b[43mRAGQueryEngine\u001b[49m\u001b[43m(\u001b[49m\n\u001b[1;32m     53\u001b[0m \u001b[43m    \u001b[49m\u001b[43mretriever\u001b[49m\u001b[43m \u001b[49m\u001b[38;5;241;43m=\u001b[39;49m\u001b[43m \u001b[49m\u001b[43mindex\u001b[49m\u001b[38;5;241;43m.\u001b[39;49m\u001b[43mas_retriever\u001b[49m\u001b[43m(\u001b[49m\u001b[43m)\u001b[49m\u001b[43m,\u001b[49m\n\u001b[1;32m     54\u001b[0m \u001b[43m    \u001b[49m\u001b[43mresponse_synthesizer\u001b[49m\u001b[38;5;241;43m=\u001b[39;49m\u001b[43msynthesizer\u001b[49m\u001b[43m,\u001b[49m\n\u001b[1;32m     55\u001b[0m \u001b[43m    \u001b[49m\u001b[43mllm\u001b[49m\u001b[38;5;241;43m=\u001b[39;49m\u001b[43mllm\u001b[49m\u001b[43m,\u001b[49m\n\u001b[1;32m     56\u001b[0m \u001b[43m    \u001b[49m\u001b[43mqa_prompt\u001b[49m\u001b[38;5;241;43m=\u001b[39;49m\u001b[43mqa_prompt\u001b[49m\u001b[43m,\u001b[49m\n\u001b[1;32m     57\u001b[0m \u001b[43m)\u001b[49m\n",
      "File \u001b[0;32m~/miniconda3/envs/advanced-rag-env/lib/python3.11/site-packages/pydantic/v1/main.py:341\u001b[0m, in \u001b[0;36mBaseModel.__init__\u001b[0;34m(__pydantic_self__, **data)\u001b[0m\n\u001b[1;32m    339\u001b[0m values, fields_set, validation_error \u001b[38;5;241m=\u001b[39m validate_model(__pydantic_self__\u001b[38;5;241m.\u001b[39m\u001b[38;5;18m__class__\u001b[39m, data)\n\u001b[1;32m    340\u001b[0m \u001b[38;5;28;01mif\u001b[39;00m validation_error:\n\u001b[0;32m--> 341\u001b[0m     \u001b[38;5;28;01mraise\u001b[39;00m validation_error\n\u001b[1;32m    342\u001b[0m \u001b[38;5;28;01mtry\u001b[39;00m:\n\u001b[1;32m    343\u001b[0m     object_setattr(__pydantic_self__, \u001b[38;5;124m'\u001b[39m\u001b[38;5;124m__dict__\u001b[39m\u001b[38;5;124m'\u001b[39m, values)\n",
      "\u001b[0;31mValidationError\u001b[0m: 1 validation error for RAGQueryEngine\nretriever\n  instance of MyRetriever expected (type=type_error.arbitrary_type; expected_arbitrary_type=MyRetriever)"
     ]
    }
   ],
   "source": [
    "from llama_index.core import PromptTemplate\n",
    "from llama_index.core.query_engine import CustomQueryEngine\n",
    "from llama_index.core.retrievers import BaseRetriever\n",
    "from llama_index.core import get_response_synthesizer\n",
    "from llama_index.core.response_synthesizers import BaseSynthesizer\n",
    "\n",
    "\n",
    "class MyRetriever(BaseRetriever):\n",
    "    def retrieve(self, query_str: str, max_documents: int = 10):\n",
    "        # Get all documents relevant to the query\n",
    "        all_documents = super().retrieve(query_str)\n",
    "\n",
    "        # Return only the first `max_documents` documents\n",
    "        return all_documents[:max_documents]\n",
    "\n",
    "\n",
    "qa_prompt = PromptTemplate(\n",
    "    \"\"\"You are a helpful assistant that answers questions about the course material from \"Philosophy of Computer Science (VtDat)\" using provided context.\n",
    "    Context information is below.\n",
    "    ---------------------\n",
    "    {context_str}\n",
    "    ---------------------\n",
    "    Given the context information and not prior knowledge, answer the query. Always provide an answer in the Danish language.\n",
    "    Query: {query_str}\n",
    "    Answer: \n",
    "    \"\"\",\n",
    ")\n",
    "\n",
    "\n",
    "class RAGQueryEngine(CustomQueryEngine):\n",
    "    \"\"\"RAG String Query Engine.\"\"\"\n",
    "\n",
    "    retriever: MyRetriever #BaseRetriever\n",
    "    response_synthesizer: BaseSynthesizer\n",
    "    llm: OpenAI\n",
    "    qa_prompt: PromptTemplate\n",
    "\n",
    "    def custom_query(self, query_str: str):\n",
    "        #nodes = self.retriever.retrieve(query_str)#\n",
    "        nodes = self.retriever.retrieve(query_str, max_documents=5)\n",
    "        context_str = \"\\n\\n\".join([n.node.get_content() for n in nodes])\n",
    "        print(\"Prompt:\\n\\n\", qa_prompt.format(\n",
    "            context_str=context_str, query_str=query_str))\n",
    "        response = self.llm.complete(\n",
    "            qa_prompt.format(context_str=context_str, query_str=query_str)\n",
    "        )\n",
    "\n",
    "        return str(response)\n",
    "\n",
    "\n",
    "synthesizer = get_response_synthesizer(response_mode=\"compact\")\n",
    "query_engine = RAGQueryEngine(\n",
    "    retriever = index.as_retriever(),\n",
    "    response_synthesizer=synthesizer,\n",
    "    llm=llm,\n",
    "    qa_prompt=qa_prompt,\n",
    ")"
   ]
  },
  {
   "cell_type": "code",
   "execution_count": 45,
   "id": "ab9d8ae2",
   "metadata": {},
   "outputs": [
    {
     "ename": "InvalidCollectionException",
     "evalue": "Collection e3406e00-da5e-41a3-b052-410e1e72d3a9 does not exist.",
     "output_type": "error",
     "traceback": [
      "\u001b[1;31m---------------------------------------------------------------------------\u001b[0m",
      "\u001b[1;31mInvalidCollectionException\u001b[0m                Traceback (most recent call last)",
      "Cell \u001b[1;32mIn[45], line 15\u001b[0m\n\u001b[0;32m      1\u001b[0m queries \u001b[38;5;241m=\u001b[39m [\n\u001b[0;32m      2\u001b[0m     \u001b[38;5;66;03m#\"What are some of the made-up characters impersonated by Michael Scott? Give a oneliner description for each character.\",\u001b[39;00m\n\u001b[0;32m      3\u001b[0m     \u001b[38;5;66;03m#\"Who is the character that is known for his 'That's what she said' jokes in The Office?\",\u001b[39;00m\n\u001b[1;32m   (...)\u001b[0m\n\u001b[0;32m     10\u001b[0m     \u001b[38;5;124m\"\u001b[39m\u001b[38;5;124mHvad dækker P, L, A, C og E over i PLACE-akronymet af John Ziman over?\u001b[39m\u001b[38;5;124m\"\u001b[39m\n\u001b[0;32m     11\u001b[0m ]\n\u001b[0;32m     13\u001b[0m query \u001b[38;5;241m=\u001b[39m queries[\u001b[38;5;241m-\u001b[39m\u001b[38;5;241m1\u001b[39m]\n\u001b[1;32m---> 15\u001b[0m response \u001b[38;5;241m=\u001b[39m \u001b[43mquery_engine\u001b[49m\u001b[38;5;241;43m.\u001b[39;49m\u001b[43mquery\u001b[49m\u001b[43m(\u001b[49m\u001b[43mquery\u001b[49m\u001b[43m)\u001b[49m\n\u001b[0;32m     16\u001b[0m display(Markdown(\u001b[38;5;124mf\u001b[39m\u001b[38;5;124m\"\u001b[39m\u001b[38;5;132;01m{\u001b[39;00mresponse\u001b[38;5;132;01m}\u001b[39;00m\u001b[38;5;124m\"\u001b[39m))\n",
      "File \u001b[1;32mc:\\Users\\jach\\AppData\\Local\\miniconda3\\envs\\advanced-rag-env\\Lib\\site-packages\\llama_index\\core\\query_engine\\custom.py:45\u001b[0m, in \u001b[0;36mCustomQueryEngine.query\u001b[1;34m(self, str_or_query_bundle)\u001b[0m\n\u001b[0;32m     43\u001b[0m \u001b[38;5;28;01melse\u001b[39;00m:\n\u001b[0;32m     44\u001b[0m     query_str \u001b[38;5;241m=\u001b[39m str_or_query_bundle\n\u001b[1;32m---> 45\u001b[0m raw_response \u001b[38;5;241m=\u001b[39m \u001b[38;5;28;43mself\u001b[39;49m\u001b[38;5;241;43m.\u001b[39;49m\u001b[43mcustom_query\u001b[49m\u001b[43m(\u001b[49m\u001b[43mquery_str\u001b[49m\u001b[43m)\u001b[49m\n\u001b[0;32m     46\u001b[0m \u001b[38;5;28;01mreturn\u001b[39;00m (\n\u001b[0;32m     47\u001b[0m     Response(raw_response)\n\u001b[0;32m     48\u001b[0m     \u001b[38;5;28;01mif\u001b[39;00m \u001b[38;5;28misinstance\u001b[39m(raw_response, \u001b[38;5;28mstr\u001b[39m)\n\u001b[0;32m     49\u001b[0m     \u001b[38;5;28;01melse\u001b[39;00m raw_response\n\u001b[0;32m     50\u001b[0m )\n",
      "Cell \u001b[1;32mIn[14], line 29\u001b[0m, in \u001b[0;36mRAGQueryEngine.custom_query\u001b[1;34m(self, query_str)\u001b[0m\n\u001b[0;32m     28\u001b[0m \u001b[38;5;28;01mdef\u001b[39;00m \u001b[38;5;21mcustom_query\u001b[39m(\u001b[38;5;28mself\u001b[39m, query_str: \u001b[38;5;28mstr\u001b[39m):\n\u001b[1;32m---> 29\u001b[0m     nodes \u001b[38;5;241m=\u001b[39m \u001b[38;5;28;43mself\u001b[39;49m\u001b[38;5;241;43m.\u001b[39;49m\u001b[43mretriever\u001b[49m\u001b[38;5;241;43m.\u001b[39;49m\u001b[43mretrieve\u001b[49m\u001b[43m(\u001b[49m\u001b[43mquery_str\u001b[49m\u001b[43m)\u001b[49m\n\u001b[0;32m     30\u001b[0m     context_str \u001b[38;5;241m=\u001b[39m \u001b[38;5;124m\"\u001b[39m\u001b[38;5;130;01m\\n\u001b[39;00m\u001b[38;5;130;01m\\n\u001b[39;00m\u001b[38;5;124m\"\u001b[39m\u001b[38;5;241m.\u001b[39mjoin([n\u001b[38;5;241m.\u001b[39mnode\u001b[38;5;241m.\u001b[39mget_content() \u001b[38;5;28;01mfor\u001b[39;00m n \u001b[38;5;129;01min\u001b[39;00m nodes])\n\u001b[0;32m     31\u001b[0m     \u001b[38;5;28mprint\u001b[39m(\u001b[38;5;124m\"\u001b[39m\u001b[38;5;124mPrompt:\u001b[39m\u001b[38;5;130;01m\\n\u001b[39;00m\u001b[38;5;130;01m\\n\u001b[39;00m\u001b[38;5;124m\"\u001b[39m, qa_prompt\u001b[38;5;241m.\u001b[39mformat(\n\u001b[0;32m     32\u001b[0m         context_str\u001b[38;5;241m=\u001b[39mcontext_str, query_str\u001b[38;5;241m=\u001b[39mquery_str))\n",
      "File \u001b[1;32mc:\\Users\\jach\\AppData\\Local\\miniconda3\\envs\\advanced-rag-env\\Lib\\site-packages\\llama_index\\core\\instrumentation\\dispatcher.py:274\u001b[0m, in \u001b[0;36mDispatcher.span.<locals>.wrapper\u001b[1;34m(func, instance, args, kwargs)\u001b[0m\n\u001b[0;32m    270\u001b[0m \u001b[38;5;28mself\u001b[39m\u001b[38;5;241m.\u001b[39mspan_enter(\n\u001b[0;32m    271\u001b[0m     id_\u001b[38;5;241m=\u001b[39mid_, bound_args\u001b[38;5;241m=\u001b[39mbound_args, instance\u001b[38;5;241m=\u001b[39minstance, parent_id\u001b[38;5;241m=\u001b[39mparent_id\n\u001b[0;32m    272\u001b[0m )\n\u001b[0;32m    273\u001b[0m \u001b[38;5;28;01mtry\u001b[39;00m:\n\u001b[1;32m--> 274\u001b[0m     result \u001b[38;5;241m=\u001b[39m \u001b[43mfunc\u001b[49m\u001b[43m(\u001b[49m\u001b[38;5;241;43m*\u001b[39;49m\u001b[43margs\u001b[49m\u001b[43m,\u001b[49m\u001b[43m \u001b[49m\u001b[38;5;241;43m*\u001b[39;49m\u001b[38;5;241;43m*\u001b[39;49m\u001b[43mkwargs\u001b[49m\u001b[43m)\u001b[49m\n\u001b[0;32m    275\u001b[0m \u001b[38;5;28;01mexcept\u001b[39;00m \u001b[38;5;167;01mBaseException\u001b[39;00m \u001b[38;5;28;01mas\u001b[39;00m e:\n\u001b[0;32m    276\u001b[0m     \u001b[38;5;28mself\u001b[39m\u001b[38;5;241m.\u001b[39mevent(SpanDropEvent(span_id\u001b[38;5;241m=\u001b[39mid_, err_str\u001b[38;5;241m=\u001b[39m\u001b[38;5;28mstr\u001b[39m(e)))\n",
      "File \u001b[1;32mc:\\Users\\jach\\AppData\\Local\\miniconda3\\envs\\advanced-rag-env\\Lib\\site-packages\\llama_index\\core\\base\\base_retriever.py:244\u001b[0m, in \u001b[0;36mBaseRetriever.retrieve\u001b[1;34m(self, str_or_query_bundle)\u001b[0m\n\u001b[0;32m    239\u001b[0m \u001b[38;5;28;01mwith\u001b[39;00m \u001b[38;5;28mself\u001b[39m\u001b[38;5;241m.\u001b[39mcallback_manager\u001b[38;5;241m.\u001b[39mas_trace(\u001b[38;5;124m\"\u001b[39m\u001b[38;5;124mquery\u001b[39m\u001b[38;5;124m\"\u001b[39m):\n\u001b[0;32m    240\u001b[0m     \u001b[38;5;28;01mwith\u001b[39;00m \u001b[38;5;28mself\u001b[39m\u001b[38;5;241m.\u001b[39mcallback_manager\u001b[38;5;241m.\u001b[39mevent(\n\u001b[0;32m    241\u001b[0m         CBEventType\u001b[38;5;241m.\u001b[39mRETRIEVE,\n\u001b[0;32m    242\u001b[0m         payload\u001b[38;5;241m=\u001b[39m{EventPayload\u001b[38;5;241m.\u001b[39mQUERY_STR: query_bundle\u001b[38;5;241m.\u001b[39mquery_str},\n\u001b[0;32m    243\u001b[0m     ) \u001b[38;5;28;01mas\u001b[39;00m retrieve_event:\n\u001b[1;32m--> 244\u001b[0m         nodes \u001b[38;5;241m=\u001b[39m \u001b[38;5;28;43mself\u001b[39;49m\u001b[38;5;241;43m.\u001b[39;49m\u001b[43m_retrieve\u001b[49m\u001b[43m(\u001b[49m\u001b[43mquery_bundle\u001b[49m\u001b[43m)\u001b[49m\n\u001b[0;32m    245\u001b[0m         nodes \u001b[38;5;241m=\u001b[39m \u001b[38;5;28mself\u001b[39m\u001b[38;5;241m.\u001b[39m_handle_recursive_retrieval(query_bundle, nodes)\n\u001b[0;32m    246\u001b[0m         retrieve_event\u001b[38;5;241m.\u001b[39mon_end(\n\u001b[0;32m    247\u001b[0m             payload\u001b[38;5;241m=\u001b[39m{EventPayload\u001b[38;5;241m.\u001b[39mNODES: nodes},\n\u001b[0;32m    248\u001b[0m         )\n",
      "File \u001b[1;32mc:\\Users\\jach\\AppData\\Local\\miniconda3\\envs\\advanced-rag-env\\Lib\\site-packages\\llama_index\\core\\instrumentation\\dispatcher.py:274\u001b[0m, in \u001b[0;36mDispatcher.span.<locals>.wrapper\u001b[1;34m(func, instance, args, kwargs)\u001b[0m\n\u001b[0;32m    270\u001b[0m \u001b[38;5;28mself\u001b[39m\u001b[38;5;241m.\u001b[39mspan_enter(\n\u001b[0;32m    271\u001b[0m     id_\u001b[38;5;241m=\u001b[39mid_, bound_args\u001b[38;5;241m=\u001b[39mbound_args, instance\u001b[38;5;241m=\u001b[39minstance, parent_id\u001b[38;5;241m=\u001b[39mparent_id\n\u001b[0;32m    272\u001b[0m )\n\u001b[0;32m    273\u001b[0m \u001b[38;5;28;01mtry\u001b[39;00m:\n\u001b[1;32m--> 274\u001b[0m     result \u001b[38;5;241m=\u001b[39m \u001b[43mfunc\u001b[49m\u001b[43m(\u001b[49m\u001b[38;5;241;43m*\u001b[39;49m\u001b[43margs\u001b[49m\u001b[43m,\u001b[49m\u001b[43m \u001b[49m\u001b[38;5;241;43m*\u001b[39;49m\u001b[38;5;241;43m*\u001b[39;49m\u001b[43mkwargs\u001b[49m\u001b[43m)\u001b[49m\n\u001b[0;32m    275\u001b[0m \u001b[38;5;28;01mexcept\u001b[39;00m \u001b[38;5;167;01mBaseException\u001b[39;00m \u001b[38;5;28;01mas\u001b[39;00m e:\n\u001b[0;32m    276\u001b[0m     \u001b[38;5;28mself\u001b[39m\u001b[38;5;241m.\u001b[39mevent(SpanDropEvent(span_id\u001b[38;5;241m=\u001b[39mid_, err_str\u001b[38;5;241m=\u001b[39m\u001b[38;5;28mstr\u001b[39m(e)))\n",
      "File \u001b[1;32mc:\\Users\\jach\\AppData\\Local\\miniconda3\\envs\\advanced-rag-env\\Lib\\site-packages\\llama_index\\core\\indices\\vector_store\\retrievers\\retriever.py:101\u001b[0m, in \u001b[0;36mVectorIndexRetriever._retrieve\u001b[1;34m(self, query_bundle)\u001b[0m\n\u001b[0;32m     95\u001b[0m     \u001b[38;5;28;01mif\u001b[39;00m query_bundle\u001b[38;5;241m.\u001b[39membedding \u001b[38;5;129;01mis\u001b[39;00m \u001b[38;5;28;01mNone\u001b[39;00m \u001b[38;5;129;01mand\u001b[39;00m \u001b[38;5;28mlen\u001b[39m(query_bundle\u001b[38;5;241m.\u001b[39membedding_strs) \u001b[38;5;241m>\u001b[39m \u001b[38;5;241m0\u001b[39m:\n\u001b[0;32m     96\u001b[0m         query_bundle\u001b[38;5;241m.\u001b[39membedding \u001b[38;5;241m=\u001b[39m (\n\u001b[0;32m     97\u001b[0m             \u001b[38;5;28mself\u001b[39m\u001b[38;5;241m.\u001b[39m_embed_model\u001b[38;5;241m.\u001b[39mget_agg_embedding_from_queries(\n\u001b[0;32m     98\u001b[0m                 query_bundle\u001b[38;5;241m.\u001b[39membedding_strs\n\u001b[0;32m     99\u001b[0m             )\n\u001b[0;32m    100\u001b[0m         )\n\u001b[1;32m--> 101\u001b[0m \u001b[38;5;28;01mreturn\u001b[39;00m \u001b[38;5;28;43mself\u001b[39;49m\u001b[38;5;241;43m.\u001b[39;49m\u001b[43m_get_nodes_with_embeddings\u001b[49m\u001b[43m(\u001b[49m\u001b[43mquery_bundle\u001b[49m\u001b[43m)\u001b[49m\n",
      "File \u001b[1;32mc:\\Users\\jach\\AppData\\Local\\miniconda3\\envs\\advanced-rag-env\\Lib\\site-packages\\llama_index\\core\\indices\\vector_store\\retrievers\\retriever.py:177\u001b[0m, in \u001b[0;36mVectorIndexRetriever._get_nodes_with_embeddings\u001b[1;34m(self, query_bundle_with_embeddings)\u001b[0m\n\u001b[0;32m    173\u001b[0m \u001b[38;5;28;01mdef\u001b[39;00m \u001b[38;5;21m_get_nodes_with_embeddings\u001b[39m(\n\u001b[0;32m    174\u001b[0m     \u001b[38;5;28mself\u001b[39m, query_bundle_with_embeddings: QueryBundle\n\u001b[0;32m    175\u001b[0m ) \u001b[38;5;241m-\u001b[39m\u001b[38;5;241m>\u001b[39m List[NodeWithScore]:\n\u001b[0;32m    176\u001b[0m     query \u001b[38;5;241m=\u001b[39m \u001b[38;5;28mself\u001b[39m\u001b[38;5;241m.\u001b[39m_build_vector_store_query(query_bundle_with_embeddings)\n\u001b[1;32m--> 177\u001b[0m     query_result \u001b[38;5;241m=\u001b[39m \u001b[38;5;28;43mself\u001b[39;49m\u001b[38;5;241;43m.\u001b[39;49m\u001b[43m_vector_store\u001b[49m\u001b[38;5;241;43m.\u001b[39;49m\u001b[43mquery\u001b[49m\u001b[43m(\u001b[49m\u001b[43mquery\u001b[49m\u001b[43m,\u001b[49m\u001b[43m \u001b[49m\u001b[38;5;241;43m*\u001b[39;49m\u001b[38;5;241;43m*\u001b[39;49m\u001b[38;5;28;43mself\u001b[39;49m\u001b[38;5;241;43m.\u001b[39;49m\u001b[43m_kwargs\u001b[49m\u001b[43m)\u001b[49m\n\u001b[0;32m    178\u001b[0m     \u001b[38;5;28;01mreturn\u001b[39;00m \u001b[38;5;28mself\u001b[39m\u001b[38;5;241m.\u001b[39m_build_node_list_from_query_result(query_result)\n",
      "File \u001b[1;32mc:\\Users\\jach\\AppData\\Local\\miniconda3\\envs\\advanced-rag-env\\Lib\\site-packages\\llama_index\\vector_stores\\chroma\\base.py:312\u001b[0m, in \u001b[0;36mChromaVectorStore.query\u001b[1;34m(self, query, **kwargs)\u001b[0m\n\u001b[0;32m    309\u001b[0m \u001b[38;5;28;01mif\u001b[39;00m \u001b[38;5;129;01mnot\u001b[39;00m query\u001b[38;5;241m.\u001b[39mquery_embedding:\n\u001b[0;32m    310\u001b[0m     \u001b[38;5;28;01mreturn\u001b[39;00m \u001b[38;5;28mself\u001b[39m\u001b[38;5;241m.\u001b[39m_get(limit\u001b[38;5;241m=\u001b[39mquery\u001b[38;5;241m.\u001b[39msimilarity_top_k, where\u001b[38;5;241m=\u001b[39mwhere, \u001b[38;5;241m*\u001b[39m\u001b[38;5;241m*\u001b[39mkwargs)\n\u001b[1;32m--> 312\u001b[0m \u001b[38;5;28;01mreturn\u001b[39;00m \u001b[38;5;28;43mself\u001b[39;49m\u001b[38;5;241;43m.\u001b[39;49m\u001b[43m_query\u001b[49m\u001b[43m(\u001b[49m\n\u001b[0;32m    313\u001b[0m \u001b[43m    \u001b[49m\u001b[43mquery_embeddings\u001b[49m\u001b[38;5;241;43m=\u001b[39;49m\u001b[43mquery\u001b[49m\u001b[38;5;241;43m.\u001b[39;49m\u001b[43mquery_embedding\u001b[49m\u001b[43m,\u001b[49m\n\u001b[0;32m    314\u001b[0m \u001b[43m    \u001b[49m\u001b[43mn_results\u001b[49m\u001b[38;5;241;43m=\u001b[39;49m\u001b[43mquery\u001b[49m\u001b[38;5;241;43m.\u001b[39;49m\u001b[43msimilarity_top_k\u001b[49m\u001b[43m,\u001b[49m\n\u001b[0;32m    315\u001b[0m \u001b[43m    \u001b[49m\u001b[43mwhere\u001b[49m\u001b[38;5;241;43m=\u001b[39;49m\u001b[43mwhere\u001b[49m\u001b[43m,\u001b[49m\n\u001b[0;32m    316\u001b[0m \u001b[43m    \u001b[49m\u001b[38;5;241;43m*\u001b[39;49m\u001b[38;5;241;43m*\u001b[39;49m\u001b[43mkwargs\u001b[49m\u001b[43m,\u001b[49m\n\u001b[0;32m    317\u001b[0m \u001b[43m\u001b[49m\u001b[43m)\u001b[49m\n",
      "File \u001b[1;32mc:\\Users\\jach\\AppData\\Local\\miniconda3\\envs\\advanced-rag-env\\Lib\\site-packages\\llama_index\\vector_stores\\chroma\\base.py:322\u001b[0m, in \u001b[0;36mChromaVectorStore._query\u001b[1;34m(self, query_embeddings, n_results, where, **kwargs)\u001b[0m\n\u001b[0;32m    319\u001b[0m \u001b[38;5;28;01mdef\u001b[39;00m \u001b[38;5;21m_query\u001b[39m(\n\u001b[0;32m    320\u001b[0m     \u001b[38;5;28mself\u001b[39m, query_embeddings: List[\u001b[38;5;124m\"\u001b[39m\u001b[38;5;124mfloat\u001b[39m\u001b[38;5;124m\"\u001b[39m], n_results: \u001b[38;5;28mint\u001b[39m, where: \u001b[38;5;28mdict\u001b[39m, \u001b[38;5;241m*\u001b[39m\u001b[38;5;241m*\u001b[39mkwargs\n\u001b[0;32m    321\u001b[0m ) \u001b[38;5;241m-\u001b[39m\u001b[38;5;241m>\u001b[39m VectorStoreQueryResult:\n\u001b[1;32m--> 322\u001b[0m     results \u001b[38;5;241m=\u001b[39m \u001b[38;5;28;43mself\u001b[39;49m\u001b[38;5;241;43m.\u001b[39;49m\u001b[43m_collection\u001b[49m\u001b[38;5;241;43m.\u001b[39;49m\u001b[43mquery\u001b[49m\u001b[43m(\u001b[49m\n\u001b[0;32m    323\u001b[0m \u001b[43m        \u001b[49m\u001b[43mquery_embeddings\u001b[49m\u001b[38;5;241;43m=\u001b[39;49m\u001b[43mquery_embeddings\u001b[49m\u001b[43m,\u001b[49m\n\u001b[0;32m    324\u001b[0m \u001b[43m        \u001b[49m\u001b[43mn_results\u001b[49m\u001b[38;5;241;43m=\u001b[39;49m\u001b[43mn_results\u001b[49m\u001b[43m,\u001b[49m\n\u001b[0;32m    325\u001b[0m \u001b[43m        \u001b[49m\u001b[43mwhere\u001b[49m\u001b[38;5;241;43m=\u001b[39;49m\u001b[43mwhere\u001b[49m\u001b[43m,\u001b[49m\n\u001b[0;32m    326\u001b[0m \u001b[43m        \u001b[49m\u001b[38;5;241;43m*\u001b[39;49m\u001b[38;5;241;43m*\u001b[39;49m\u001b[43mkwargs\u001b[49m\u001b[43m,\u001b[49m\n\u001b[0;32m    327\u001b[0m \u001b[43m    \u001b[49m\u001b[43m)\u001b[49m\n\u001b[0;32m    329\u001b[0m     logger\u001b[38;5;241m.\u001b[39mdebug(\u001b[38;5;124mf\u001b[39m\u001b[38;5;124m\"\u001b[39m\u001b[38;5;124m> Top \u001b[39m\u001b[38;5;132;01m{\u001b[39;00m\u001b[38;5;28mlen\u001b[39m(results[\u001b[38;5;124m'\u001b[39m\u001b[38;5;124mdocuments\u001b[39m\u001b[38;5;124m'\u001b[39m][\u001b[38;5;241m0\u001b[39m])\u001b[38;5;132;01m}\u001b[39;00m\u001b[38;5;124m nodes:\u001b[39m\u001b[38;5;124m\"\u001b[39m)\n\u001b[0;32m    330\u001b[0m     nodes \u001b[38;5;241m=\u001b[39m []\n",
      "File \u001b[1;32mc:\\Users\\jach\\AppData\\Local\\miniconda3\\envs\\advanced-rag-env\\Lib\\site-packages\\chromadb\\api\\models\\Collection.py:345\u001b[0m, in \u001b[0;36mCollection.query\u001b[1;34m(self, query_embeddings, query_texts, query_images, query_uris, n_results, where, where_document, include)\u001b[0m\n\u001b[0;32m    343\u001b[0m \u001b[38;5;28;01mif\u001b[39;00m \u001b[38;5;124m\"\u001b[39m\u001b[38;5;124mdata\u001b[39m\u001b[38;5;124m\"\u001b[39m \u001b[38;5;129;01min\u001b[39;00m include \u001b[38;5;129;01mand\u001b[39;00m \u001b[38;5;124m\"\u001b[39m\u001b[38;5;124muris\u001b[39m\u001b[38;5;124m\"\u001b[39m \u001b[38;5;129;01mnot\u001b[39;00m \u001b[38;5;129;01min\u001b[39;00m include:\n\u001b[0;32m    344\u001b[0m     valid_include\u001b[38;5;241m.\u001b[39mappend(\u001b[38;5;124m\"\u001b[39m\u001b[38;5;124muris\u001b[39m\u001b[38;5;124m\"\u001b[39m)\n\u001b[1;32m--> 345\u001b[0m query_results \u001b[38;5;241m=\u001b[39m \u001b[38;5;28;43mself\u001b[39;49m\u001b[38;5;241;43m.\u001b[39;49m\u001b[43m_client\u001b[49m\u001b[38;5;241;43m.\u001b[39;49m\u001b[43m_query\u001b[49m\u001b[43m(\u001b[49m\n\u001b[0;32m    346\u001b[0m \u001b[43m    \u001b[49m\u001b[43mcollection_id\u001b[49m\u001b[38;5;241;43m=\u001b[39;49m\u001b[38;5;28;43mself\u001b[39;49m\u001b[38;5;241;43m.\u001b[39;49m\u001b[43mid\u001b[49m\u001b[43m,\u001b[49m\n\u001b[0;32m    347\u001b[0m \u001b[43m    \u001b[49m\u001b[43mquery_embeddings\u001b[49m\u001b[38;5;241;43m=\u001b[39;49m\u001b[43mvalid_query_embeddings\u001b[49m\u001b[43m,\u001b[49m\n\u001b[0;32m    348\u001b[0m \u001b[43m    \u001b[49m\u001b[43mn_results\u001b[49m\u001b[38;5;241;43m=\u001b[39;49m\u001b[43mvalid_n_results\u001b[49m\u001b[43m,\u001b[49m\n\u001b[0;32m    349\u001b[0m \u001b[43m    \u001b[49m\u001b[43mwhere\u001b[49m\u001b[38;5;241;43m=\u001b[39;49m\u001b[43mvalid_where\u001b[49m\u001b[43m,\u001b[49m\n\u001b[0;32m    350\u001b[0m \u001b[43m    \u001b[49m\u001b[43mwhere_document\u001b[49m\u001b[38;5;241;43m=\u001b[39;49m\u001b[43mvalid_where_document\u001b[49m\u001b[43m,\u001b[49m\n\u001b[0;32m    351\u001b[0m \u001b[43m    \u001b[49m\u001b[43minclude\u001b[49m\u001b[38;5;241;43m=\u001b[39;49m\u001b[43minclude\u001b[49m\u001b[43m,\u001b[49m\n\u001b[0;32m    352\u001b[0m \u001b[43m\u001b[49m\u001b[43m)\u001b[49m\n\u001b[0;32m    354\u001b[0m \u001b[38;5;28;01mif\u001b[39;00m (\n\u001b[0;32m    355\u001b[0m     \u001b[38;5;124m\"\u001b[39m\u001b[38;5;124mdata\u001b[39m\u001b[38;5;124m\"\u001b[39m \u001b[38;5;129;01min\u001b[39;00m include\n\u001b[0;32m    356\u001b[0m     \u001b[38;5;129;01mand\u001b[39;00m \u001b[38;5;28mself\u001b[39m\u001b[38;5;241m.\u001b[39m_data_loader \u001b[38;5;129;01mis\u001b[39;00m \u001b[38;5;129;01mnot\u001b[39;00m \u001b[38;5;28;01mNone\u001b[39;00m\n\u001b[0;32m    357\u001b[0m     \u001b[38;5;129;01mand\u001b[39;00m query_results[\u001b[38;5;124m\"\u001b[39m\u001b[38;5;124muris\u001b[39m\u001b[38;5;124m\"\u001b[39m] \u001b[38;5;129;01mis\u001b[39;00m \u001b[38;5;129;01mnot\u001b[39;00m \u001b[38;5;28;01mNone\u001b[39;00m\n\u001b[0;32m    358\u001b[0m ):\n\u001b[0;32m    359\u001b[0m     query_results[\u001b[38;5;124m\"\u001b[39m\u001b[38;5;124mdata\u001b[39m\u001b[38;5;124m\"\u001b[39m] \u001b[38;5;241m=\u001b[39m [\n\u001b[0;32m    360\u001b[0m         \u001b[38;5;28mself\u001b[39m\u001b[38;5;241m.\u001b[39m_data_loader(uris) \u001b[38;5;28;01mfor\u001b[39;00m uris \u001b[38;5;129;01min\u001b[39;00m query_results[\u001b[38;5;124m\"\u001b[39m\u001b[38;5;124muris\u001b[39m\u001b[38;5;124m\"\u001b[39m]\n\u001b[0;32m    361\u001b[0m     ]\n",
      "File \u001b[1;32mc:\\Users\\jach\\AppData\\Local\\miniconda3\\envs\\advanced-rag-env\\Lib\\site-packages\\chromadb\\telemetry\\opentelemetry\\__init__.py:143\u001b[0m, in \u001b[0;36mtrace_method.<locals>.decorator.<locals>.wrapper\u001b[1;34m(*args, **kwargs)\u001b[0m\n\u001b[0;32m    141\u001b[0m \u001b[38;5;28;01mglobal\u001b[39;00m tracer, granularity\n\u001b[0;32m    142\u001b[0m \u001b[38;5;28;01mif\u001b[39;00m trace_granularity \u001b[38;5;241m<\u001b[39m granularity:\n\u001b[1;32m--> 143\u001b[0m     \u001b[38;5;28;01mreturn\u001b[39;00m \u001b[43mf\u001b[49m\u001b[43m(\u001b[49m\u001b[38;5;241;43m*\u001b[39;49m\u001b[43margs\u001b[49m\u001b[43m,\u001b[49m\u001b[43m \u001b[49m\u001b[38;5;241;43m*\u001b[39;49m\u001b[38;5;241;43m*\u001b[39;49m\u001b[43mkwargs\u001b[49m\u001b[43m)\u001b[49m\n\u001b[0;32m    144\u001b[0m \u001b[38;5;28;01mif\u001b[39;00m \u001b[38;5;129;01mnot\u001b[39;00m tracer:\n\u001b[0;32m    145\u001b[0m     \u001b[38;5;28;01mreturn\u001b[39;00m f(\u001b[38;5;241m*\u001b[39margs, \u001b[38;5;241m*\u001b[39m\u001b[38;5;241m*\u001b[39mkwargs)\n",
      "File \u001b[1;32mc:\\Users\\jach\\AppData\\Local\\miniconda3\\envs\\advanced-rag-env\\Lib\\site-packages\\chromadb\\rate_limiting\\__init__.py:45\u001b[0m, in \u001b[0;36mrate_limit.<locals>.decorator.<locals>.wrapper\u001b[1;34m(self, *args, **kwargs)\u001b[0m\n\u001b[0;32m     40\u001b[0m \u001b[38;5;129m@wraps\u001b[39m(f)\n\u001b[0;32m     41\u001b[0m \u001b[38;5;28;01mdef\u001b[39;00m \u001b[38;5;21mwrapper\u001b[39m(\u001b[38;5;28mself\u001b[39m, \u001b[38;5;241m*\u001b[39margs: Any, \u001b[38;5;241m*\u001b[39m\u001b[38;5;241m*\u001b[39mkwargs: Dict[Any, Any]) \u001b[38;5;241m-\u001b[39m\u001b[38;5;241m>\u001b[39m Any:\n\u001b[0;32m     42\u001b[0m     \u001b[38;5;66;03m# If not rate limiting provider is present, just run and return the function.\u001b[39;00m\n\u001b[0;32m     44\u001b[0m     \u001b[38;5;28;01mif\u001b[39;00m \u001b[38;5;28mself\u001b[39m\u001b[38;5;241m.\u001b[39m_system\u001b[38;5;241m.\u001b[39msettings\u001b[38;5;241m.\u001b[39mchroma_rate_limiting_provider_impl \u001b[38;5;129;01mis\u001b[39;00m \u001b[38;5;28;01mNone\u001b[39;00m:\n\u001b[1;32m---> 45\u001b[0m         \u001b[38;5;28;01mreturn\u001b[39;00m \u001b[43mf\u001b[49m\u001b[43m(\u001b[49m\u001b[38;5;28;43mself\u001b[39;49m\u001b[43m,\u001b[49m\u001b[43m \u001b[49m\u001b[38;5;241;43m*\u001b[39;49m\u001b[43margs\u001b[49m\u001b[43m,\u001b[49m\u001b[43m \u001b[49m\u001b[38;5;241;43m*\u001b[39;49m\u001b[38;5;241;43m*\u001b[39;49m\u001b[43mkwargs\u001b[49m\u001b[43m)\u001b[49m\n\u001b[0;32m     47\u001b[0m     \u001b[38;5;28;01mif\u001b[39;00m subject \u001b[38;5;129;01min\u001b[39;00m kwargs:\n\u001b[0;32m     48\u001b[0m         subject_value \u001b[38;5;241m=\u001b[39m kwargs[subject]\n",
      "File \u001b[1;32mc:\\Users\\jach\\AppData\\Local\\miniconda3\\envs\\advanced-rag-env\\Lib\\site-packages\\chromadb\\api\\segment.py:683\u001b[0m, in \u001b[0;36mSegmentAPI._query\u001b[1;34m(self, collection_id, query_embeddings, n_results, where, where_document, include)\u001b[0m\n\u001b[0;32m    675\u001b[0m where_document \u001b[38;5;241m=\u001b[39m (\n\u001b[0;32m    676\u001b[0m     validate_where_document(where_document)\n\u001b[0;32m    677\u001b[0m     \u001b[38;5;28;01mif\u001b[39;00m where_document \u001b[38;5;129;01mis\u001b[39;00m \u001b[38;5;129;01mnot\u001b[39;00m \u001b[38;5;28;01mNone\u001b[39;00m \u001b[38;5;129;01mand\u001b[39;00m \u001b[38;5;28mlen\u001b[39m(where_document) \u001b[38;5;241m>\u001b[39m \u001b[38;5;241m0\u001b[39m\n\u001b[0;32m    678\u001b[0m     \u001b[38;5;28;01melse\u001b[39;00m where_document\n\u001b[0;32m    679\u001b[0m )\n\u001b[0;32m    681\u001b[0m allowed_ids \u001b[38;5;241m=\u001b[39m \u001b[38;5;28;01mNone\u001b[39;00m\n\u001b[1;32m--> 683\u001b[0m coll \u001b[38;5;241m=\u001b[39m \u001b[38;5;28;43mself\u001b[39;49m\u001b[38;5;241;43m.\u001b[39;49m\u001b[43m_get_collection\u001b[49m\u001b[43m(\u001b[49m\u001b[43mcollection_id\u001b[49m\u001b[43m)\u001b[49m\n\u001b[0;32m    684\u001b[0m \u001b[38;5;28;01mfor\u001b[39;00m embedding \u001b[38;5;129;01min\u001b[39;00m query_embeddings:\n\u001b[0;32m    685\u001b[0m     \u001b[38;5;28mself\u001b[39m\u001b[38;5;241m.\u001b[39m_validate_dimension(coll, \u001b[38;5;28mlen\u001b[39m(embedding), update\u001b[38;5;241m=\u001b[39m\u001b[38;5;28;01mFalse\u001b[39;00m)\n",
      "File \u001b[1;32mc:\\Users\\jach\\AppData\\Local\\miniconda3\\envs\\advanced-rag-env\\Lib\\site-packages\\chromadb\\telemetry\\opentelemetry\\__init__.py:143\u001b[0m, in \u001b[0;36mtrace_method.<locals>.decorator.<locals>.wrapper\u001b[1;34m(*args, **kwargs)\u001b[0m\n\u001b[0;32m    141\u001b[0m \u001b[38;5;28;01mglobal\u001b[39;00m tracer, granularity\n\u001b[0;32m    142\u001b[0m \u001b[38;5;28;01mif\u001b[39;00m trace_granularity \u001b[38;5;241m<\u001b[39m granularity:\n\u001b[1;32m--> 143\u001b[0m     \u001b[38;5;28;01mreturn\u001b[39;00m \u001b[43mf\u001b[49m\u001b[43m(\u001b[49m\u001b[38;5;241;43m*\u001b[39;49m\u001b[43margs\u001b[49m\u001b[43m,\u001b[49m\u001b[43m \u001b[49m\u001b[38;5;241;43m*\u001b[39;49m\u001b[38;5;241;43m*\u001b[39;49m\u001b[43mkwargs\u001b[49m\u001b[43m)\u001b[49m\n\u001b[0;32m    144\u001b[0m \u001b[38;5;28;01mif\u001b[39;00m \u001b[38;5;129;01mnot\u001b[39;00m tracer:\n\u001b[0;32m    145\u001b[0m     \u001b[38;5;28;01mreturn\u001b[39;00m f(\u001b[38;5;241m*\u001b[39margs, \u001b[38;5;241m*\u001b[39m\u001b[38;5;241m*\u001b[39mkwargs)\n",
      "File \u001b[1;32mc:\\Users\\jach\\AppData\\Local\\miniconda3\\envs\\advanced-rag-env\\Lib\\site-packages\\chromadb\\api\\segment.py:837\u001b[0m, in \u001b[0;36mSegmentAPI._get_collection\u001b[1;34m(self, collection_id)\u001b[0m\n\u001b[0;32m    835\u001b[0m     collections \u001b[38;5;241m=\u001b[39m \u001b[38;5;28mself\u001b[39m\u001b[38;5;241m.\u001b[39m_sysdb\u001b[38;5;241m.\u001b[39mget_collections(\u001b[38;5;28mid\u001b[39m\u001b[38;5;241m=\u001b[39mcollection_id)\n\u001b[0;32m    836\u001b[0m     \u001b[38;5;28;01mif\u001b[39;00m \u001b[38;5;129;01mnot\u001b[39;00m collections:\n\u001b[1;32m--> 837\u001b[0m         \u001b[38;5;28;01mraise\u001b[39;00m InvalidCollectionException(\n\u001b[0;32m    838\u001b[0m             \u001b[38;5;124mf\u001b[39m\u001b[38;5;124m\"\u001b[39m\u001b[38;5;124mCollection \u001b[39m\u001b[38;5;132;01m{\u001b[39;00mcollection_id\u001b[38;5;132;01m}\u001b[39;00m\u001b[38;5;124m does not exist.\u001b[39m\u001b[38;5;124m\"\u001b[39m\n\u001b[0;32m    839\u001b[0m         )\n\u001b[0;32m    840\u001b[0m     \u001b[38;5;28mself\u001b[39m\u001b[38;5;241m.\u001b[39m_collection_cache[collection_id] \u001b[38;5;241m=\u001b[39m collections[\u001b[38;5;241m0\u001b[39m]\n\u001b[0;32m    841\u001b[0m \u001b[38;5;28;01mreturn\u001b[39;00m \u001b[38;5;28mself\u001b[39m\u001b[38;5;241m.\u001b[39m_collection_cache[collection_id]\n",
      "\u001b[1;31mInvalidCollectionException\u001b[0m: Collection e3406e00-da5e-41a3-b052-410e1e72d3a9 does not exist."
     ]
    }
   ],
   "source": [
    "queries = [\n",
    "    #\"What are some of the made-up characters impersonated by Michael Scott? Give a oneliner description for each character.\",\n",
    "    #\"Who is the character that is known for his 'That's what she said' jokes in The Office?\",\n",
    "    #\"Which character loves cats?\",\n",
    "    #\"A character has a heart attack in an episode of the show. Who is it?\",\n",
    "    #\"What character lives proudly on a farm?\",\n",
    "    #\"What happens to Kevin's Famous Chili when he brings it to the office?\",\n",
    "    #\"Why did Michael Scott play the Savannah murder game?\",\n",
    "    #\"How many marriages are in the show?\",\n",
    "    \"Hvad dækker P, L, A, C og E over i PLACE-akronymet af John Ziman over?\"\n",
    "]\n",
    "\n",
    "query = queries[-1]\n",
    "\n",
    "response = query_engine.query(query)\n",
    "display(Markdown(f\"{response}\"))"
   ]
  },
  {
   "cell_type": "markdown",
   "id": "7ce99b7d",
   "metadata": {},
   "source": [
    "## Simplest RAG implementation using LlamaIndex\n"
   ]
  },
  {
   "cell_type": "code",
   "execution_count": 36,
   "id": "205624e6",
   "metadata": {},
   "outputs": [],
   "source": [
    "query = \"what is operational risk?\""
   ]
  },
  {
   "cell_type": "code",
   "execution_count": 26,
   "id": "cceb724b",
   "metadata": {},
   "outputs": [
    {
     "data": {
      "text/markdown": [
       "Risk refers to the potential for unexpected events or changes that could lead to negative outcomes. It is not synonymous with the size of a cost or loss. In everyday life, risk can be understood as the difference between a predictable or expected loss (a cost that has been budgeted for) and an unexpected cost (a catastrophic loss that is significantly beyond normal daily losses). The real risk lies in the variability of these costs, such as when they suddenly rise unexpectedly or when an unforeseen cost appears and disrupts planned expenditures."
      ],
      "text/plain": [
       "<IPython.core.display.Markdown object>"
      ]
     },
     "metadata": {},
     "output_type": "display_data"
    }
   ],
   "source": [
    "llm = AzureOpenAI(\n",
    "    model=\"gpt-4\",\n",
    "    deployment_name=\"gpt4\",\n",
    "    api_key=os.getenv(\"OPENAI_API_KEY\"),  \n",
    "    api_version=os.getenv(\"OPENAI_API_VERSION\"), # https://learn.microsoft.com/en-us/azure/ai-services/openai/reference?WT.mc_id=AZ-MVP-5004796\n",
    "    azure_endpoint=os.getenv(\"AZURE_OPENAI_ENDPOINT\")\n",
    ")\n",
    "\n",
    "# You need to deploy your own embedding model as well as your own chat completion model\n",
    "embed_model = AzureOpenAIEmbedding(\n",
    "    model=\"text-embedding-ada-002\",\n",
    "    deployment_name=\"text-embedding-ada-002\",\n",
    "    api_key=os.getenv(\"OPENAI_API_KEY\"),  \n",
    "    api_version=os.getenv(\"OPENAI_API_VERSION\"), # https://learn.microsoft.com/en-us/azure/ai-services/openai/reference?WT.mc_id=AZ-MVP-5004796\n",
    "    azure_endpoint=os.getenv(\"AZURE_OPENAI_ENDPOINT\")\n",
    ")\n",
    "\n",
    "# Fetch documents\n",
    "# documents = SimpleDirectoryReader('./data/baseline-rag-pdf-docs').load_data()\n",
    "documents = SimpleDirectoryReader('./data/docs').load_data()\n",
    "\n",
    "from llama_index.core import Settings\n",
    "\n",
    "Settings.llm = llm\n",
    "Settings.embed_model = embed_model\n",
    "\n",
    "# build VectorStoreIndex that takes care of chunking documents\n",
    "# and encoding chunks to embeddings for future retrieval\n",
    "index = VectorStoreIndex.from_documents(documents=documents)#, \n",
    "                                        #api_key=os.environ['OPENAI_API_KEY'],\n",
    "                                        #base_url=os.environ['AZURE_API_BASE'],\n",
    "                                        #app_url=os.environ['AZURE_OPENAI_ENDPOINT'])\n",
    "#index = VectorStoreIndex.from_documents(documents=documents, embed_model=embed_model, llm=llm, verbose=True)\n",
    "\n",
    "# The QueryEngine class is equipped with the generator\n",
    "# and facilitates the retrieval and generation steps\n",
    "query_engine = index.as_query_engine()\n",
    "# query_engine = transformed_query_engine\n",
    "\n",
    "# Use your Default RAG\n",
    "response = query_engine.query(query)\n",
    "display(Markdown(f\"{response}\"))"
   ]
  },
  {
   "cell_type": "code",
   "execution_count": 34,
   "id": "f509c423",
   "metadata": {},
   "outputs": [
    {
     "name": "stdout",
     "output_type": "stream",
     "text": [
      "Generating hypothetical doc\n"
     ]
    },
    {
     "data": {
      "text/markdown": [
       "<b>[VerboseHyDEQueryTransform]<b> Generated hypothetical document: Risk refers to the potential for loss or damage when a certain action or inaction is taken. It is a concept that denotes the probability of certain hazards causing harm. Risks are typically identified within a Risk Assessment, and can be anything that could potentially interfere with the achievement of objectives. The concept of risk is often categorized into different types such as financial risk, operational risk, strategic risk, and hazard risk. It is important to note that risk is inherent in all actions and decisions, as every action or decision carries some degree of uncertainty and potential for negative outcomes. Risk can be managed and mitigated, but not completely eliminated.\n",
       "\n",
       "-------------------\n",
       "\n"
      ],
      "text/plain": [
       "<IPython.core.display.Markdown object>"
      ]
     },
     "metadata": {},
     "output_type": "display_data"
    },
    {
     "data": {
      "text/markdown": [
       "Risk refers to the potential for unexpected events or changes that could lead to negative outcomes. It is not synonymous with the size of a cost or a loss. Some costs in daily life are large but are not considered a risk because they are predictable and are already accounted for in plans. The real risk lies in the possibility that these costs will suddenly increase unexpectedly, or that an unforeseen cost will emerge, affecting the resources set aside for expected expenses. The risk lies in the variability of these costs."
      ],
      "text/plain": [
       "<IPython.core.display.Markdown object>"
      ]
     },
     "metadata": {},
     "output_type": "display_data"
    }
   ],
   "source": [
    "response = transformed_query_engine.query(query)\n",
    "display(Markdown(f\"{response}\"))"
   ]
  },
  {
   "cell_type": "code",
   "execution_count": 37,
   "id": "0d2266aa",
   "metadata": {},
   "outputs": [
    {
     "name": "stdout",
     "output_type": "stream",
     "text": [
      "Generating hypothetical doc\n"
     ]
    },
    {
     "data": {
      "text/markdown": [
       "<b>[VerboseHyDEQueryTransform]<b> Generated hypothetical document: Operational risk is a type of risk that a company faces in its daily business operations. It is the risk of loss resulting from inadequate or failed internal processes, people and systems, or from external events. This can include a wide range of potential risks and losses, from minor incidents like accidental data entry errors, to major events like fraud or a natural disaster. Operational risk can also include legal risks, such as the risk of loss due to failure to comply with laws, regulations, or contractual obligations. It does not include strategic or reputational risk. Managing operational risk effectively is crucial for businesses to maintain profitability and reputation.\n",
       "\n",
       "-------------------\n",
       "\n"
      ],
      "text/plain": [
       "<IPython.core.display.Markdown object>"
      ]
     },
     "metadata": {},
     "output_type": "display_data"
    }
   ],
   "source": [
    "query_bundle = hyde(query)\n",
    "hyde_doc = query_bundle.embedding_strs[0]"
   ]
  },
  {
   "cell_type": "code",
   "execution_count": 68,
   "id": "9b269683",
   "metadata": {},
   "outputs": [
    {
     "data": {
      "text/plain": [
       "QueryBundle(query_str='what is risk', image_path=None, custom_embedding_strs=['Risk refers to the potential for loss or damage when a particular action or inaction is taken. It is essentially the level of uncertainty one is willing to take in order to achieve a particular outcome. Risk can be associated with various aspects of life, including financial investments, business decisions, health issues, and even personal choices. It is often measured in terms of the likelihood of an adverse event occurring and the potential severity of the consequences. Risk can be managed and mitigated, but not completely eliminated. It is an inherent part of decision-making and can often lead to either rewards or losses.', 'what is risk'], embedding=None)"
      ]
     },
     "execution_count": 68,
     "metadata": {},
     "output_type": "execute_result"
    }
   ],
   "source": [
    "query_bundle"
   ]
  },
  {
   "cell_type": "code",
   "execution_count": 62,
   "id": "8864fccc",
   "metadata": {},
   "outputs": [
    {
     "data": {
      "text/plain": [
       "<llama_index.core.query_engine.retriever_query_engine.RetrieverQueryEngine at 0x7fd2d6506fd0>"
      ]
     },
     "execution_count": 62,
     "metadata": {},
     "output_type": "execute_result"
    }
   ],
   "source": [
    "query_engine"
   ]
  },
  {
   "cell_type": "code",
   "execution_count": 61,
   "id": "eedbc975",
   "metadata": {},
   "outputs": [
    {
     "data": {
      "text/plain": [
       "<llama_index.core.query_engine.transform_query_engine.TransformQueryEngine at 0x7fd2f2779ed0>"
      ]
     },
     "execution_count": 61,
     "metadata": {},
     "output_type": "execute_result"
    }
   ],
   "source": [
    "transformed_query_engine"
   ]
  },
  {
   "cell_type": "code",
   "execution_count": 37,
   "id": "98df4bb8",
   "metadata": {},
   "outputs": [
    {
     "ename": "LicensingException",
     "evalue": "IronPDF must be licensed for development.\nPlease receive a free trial key instantly to your email by visiting:\nhttps://ironpdf.com/licensing/?utm_source=product\r\n   at IronPdf.License.kpbbda()\r\n   at IronPdf.PdfDocument.axjqme(IEnumerable`1 ralkye, TextExtractionOrder ralkyf)\r\n   at IronPdf.PdfDocument.ExtractTextFromPages(IEnumerable`1 PageIndices, TextExtractionOrder Order)\r\n   at IronPdf.PdfDocument.ExtractTextFromPage(Int32 PageIndex, TextExtractionOrder Order)\r\n   at IronPdf.PdfDocument.ExtractTextFromPage(Int32 PageIndex)\r\n   at System.RuntimeMethodHandle.InvokeMethod(Object target, Void** arguments, Signature sig, Boolean isConstructor)\r\n   at System.Reflection.MethodBaseInvoker.InvokeDirectByRefWithFewArgs(Object obj, Span`1 copyOfArgs, BindingFlags invokeAttr)",
     "output_type": "error",
     "traceback": [
      "\u001b[1;31m---------------------------------------------------------------------------\u001b[0m",
      "\u001b[1;31mLicensingException\u001b[0m                        Traceback (most recent call last)",
      "Cell \u001b[1;32mIn[37], line 7\u001b[0m\n\u001b[0;32m      4\u001b[0m pdf \u001b[38;5;241m=\u001b[39m PdfDocument\u001b[38;5;241m.\u001b[39mFromFile(\u001b[38;5;124m\"\u001b[39m\u001b[38;5;124mC:/Users/jach/Documents/JacobsDocs/KU/VtDat/Tekster/Uge3/Kuhn_objektivitet.pdf\u001b[39m\u001b[38;5;124m\"\u001b[39m)\n\u001b[0;32m      6\u001b[0m \u001b[38;5;66;03m# Extract text from specific page in the document\u001b[39;00m\n\u001b[1;32m----> 7\u001b[0m page_text \u001b[38;5;241m=\u001b[39m \u001b[43mpdf\u001b[49m\u001b[38;5;241;43m.\u001b[39;49m\u001b[43mExtractTextFromPage\u001b[49m\u001b[43m(\u001b[49m\u001b[38;5;241;43m1\u001b[39;49m\u001b[43m)\u001b[49m\n",
      "\u001b[1;31mLicensingException\u001b[0m: IronPDF must be licensed for development.\nPlease receive a free trial key instantly to your email by visiting:\nhttps://ironpdf.com/licensing/?utm_source=product\r\n   at IronPdf.License.kpbbda()\r\n   at IronPdf.PdfDocument.axjqme(IEnumerable`1 ralkye, TextExtractionOrder ralkyf)\r\n   at IronPdf.PdfDocument.ExtractTextFromPages(IEnumerable`1 PageIndices, TextExtractionOrder Order)\r\n   at IronPdf.PdfDocument.ExtractTextFromPage(Int32 PageIndex, TextExtractionOrder Order)\r\n   at IronPdf.PdfDocument.ExtractTextFromPage(Int32 PageIndex)\r\n   at System.RuntimeMethodHandle.InvokeMethod(Object target, Void** arguments, Signature sig, Boolean isConstructor)\r\n   at System.Reflection.MethodBaseInvoker.InvokeDirectByRefWithFewArgs(Object obj, Span`1 copyOfArgs, BindingFlags invokeAttr)"
     ]
    }
   ],
   "source": [
    "\n",
    "from ironpdf import *\n",
    "\n",
    "# Load existing PDF document\n",
    "pdf = PdfDocument.FromFile(\"C:/Users/jach/Documents/JacobsDocs/KU/VtDat/Tekster/Uge3/Kuhn_objektivitet.pdf\")\n",
    "\n",
    "# Extract text from specific page in the document\n",
    "page_text = pdf.ExtractTextFromPage(1)\n"
   ]
  }
 ],
 "metadata": {
  "kernelspec": {
   "display_name": "Python 3 (ipykernel)",
   "language": "python",
   "name": "python3"
  },
  "language_info": {
   "codemirror_mode": {
    "name": "ipython",
    "version": 3
   },
   "file_extension": ".py",
   "mimetype": "text/x-python",
   "name": "python",
   "nbconvert_exporter": "python",
   "pygments_lexer": "ipython3",
   "version": "3.11.6"
  }
 },
 "nbformat": 4,
 "nbformat_minor": 5
}
