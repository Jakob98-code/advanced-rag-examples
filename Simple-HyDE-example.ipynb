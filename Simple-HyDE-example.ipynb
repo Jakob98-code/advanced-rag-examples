{
 "cells": [
  {
   "cell_type": "markdown",
   "metadata": {},
   "source": [
    "# Simple HyDE example"
   ]
  },
  {
   "cell_type": "code",
   "execution_count": 2,
   "metadata": {},
   "outputs": [],
   "source": [
    "\n",
    "import os\n",
    "\n",
    "import chromadb\n",
    "import chromadb.utils.embedding_functions as embedding_functions\n",
    "from chromadb import Settings\n",
    "from IPython.display import Markdown, display\n",
    "from llama_index.core import PromptTemplate, SimpleDirectoryReader\n",
    "from llama_index.core.node_parser import SentenceSplitter\n",
    "from openai import OpenAI, AzureOpenAI\n",
    "\n",
    "import importlib\n",
    "import util\n",
    "\n",
    "# importlib.reload(util.helpers)"
   ]
  },
  {
   "cell_type": "code",
   "execution_count": 3,
   "metadata": {},
   "outputs": [],
   "source": [
    "from dotenv import load_dotenv\n",
    "\n",
    "load_dotenv(override=True)\n",
    "OPENAI_API_KEY = os.getenv(\"OPENAI_API_KEY\")\n",
    "OPENAI_API_VERSION = os.getenv(\"OPENAI_API_VERSION\")\n",
    "\n",
    "openai_client = AzureOpenAI(\n",
    "    api_key=OPENAI_API_KEY,  \n",
    "    api_version=\"2024-05-01-preview\", # https://learn.microsoft.com/en-us/azure/ai-services/openai/reference?WT.mc_id=AZ-MVP-5004796\n",
    "    azure_endpoint=os.getenv(\"AZURE_OPENAI_ENDPOINT\")\n",
    ")"
   ]
  },
  {
   "cell_type": "code",
   "execution_count": 4,
   "metadata": {},
   "outputs": [],
   "source": [
    "openai_ef = embedding_functions.OpenAIEmbeddingFunction(\n",
    "    api_key=OPENAI_API_KEY,\n",
    "    model_name=\"text-embedding-ada-002\",\n",
    "    api_type=\"azure\", \n",
    "    api_version=\"2024-05-01-preview\"\n",
    ")\n",
    "\n",
    "# chroma_client = chromadb.PersistentClient(\n",
    "#     path=\"./data/baseline-rag-pdf-docs/chromadb\", settings=Settings(allow_reset=True))"
   ]
  },
  {
   "cell_type": "code",
   "execution_count": 5,
   "metadata": {},
   "outputs": [],
   "source": [
    "import os\n",
    "\n",
    "from dotenv import load_dotenv\n",
    "from IPython.display import Markdown, display\n",
    "from llama_index.core import SimpleDirectoryReader, VectorStoreIndex\n",
    "from llama_index.core.prompts.default_prompt_selectors import \\\n",
    "    DEFAULT_TREE_SUMMARIZE_PROMPT_SEL\n",
    "from llama_index.core.query_engine import (RouterQueryEngine,\n",
    "                                           TransformQueryEngine)\n",
    "from llama_index.core.response_synthesizers import TreeSummarize\n",
    "from llama_index.core.selectors import LLMMultiSelector\n",
    "from llama_index.core.tools import QueryEngineTool\n",
    "from llama_index.llms.openai import OpenAI\n",
    "# from llama_index.postprocessor.cohere_rerank import CohereRerank\n",
    "\n",
    "from util.helpers import create_and_save_wiki_md_files, get_wiki_pages\n",
    "from util.query_engines import VerboseHyDEQueryTransform, WeatherQueryEngine"
   ]
  },
  {
   "cell_type": "code",
   "execution_count": 6,
   "metadata": {},
   "outputs": [],
   "source": [
    "import chromadb\n",
    "from chromadb import Settings\n",
    "from llama_index.llms.openai import OpenAI\n",
    "from llama_index.core import SimpleDirectoryReader, VectorStoreIndex\n",
    "from llama_index.core.node_parser import SentenceSplitter\n",
    "from llama_index.core.ingestion import IngestionPipeline\n",
    "from llama_index.embeddings.openai import OpenAIEmbedding\n",
    "from llama_index.vector_stores.chroma import ChromaVectorStore\n",
    "\n",
    "from llama_index.llms.azure_openai import AzureOpenAI\n",
    "from llama_index.embeddings.azure_openai import AzureOpenAIEmbedding\n",
    "\n",
    "# ChromaDB Vector Store\n",
    "chroma_client = chromadb.PersistentClient(\n",
    "    path=\"./data/baseline-rag-pdf-docs/chromadb\", settings=Settings(allow_reset=True))\n",
    "chroma_client.reset()\n",
    "collection = chroma_client.get_or_create_collection(\n",
    "    name=\"landsforsoeg\", metadata={\"hnsw:space\": \"cosine\"})\n",
    "vector_store = ChromaVectorStore(chroma_collection=collection)\n",
    "\n",
    "\n",
    "llm = AzureOpenAI(\n",
    "    model=\"gpt-4\",\n",
    "    deployment_name=\"gpt4\",\n",
    "    api_key=os.getenv(\"OPENAI_API_KEY\"),  \n",
    "    # api_version=os.getenv(\"OPENAI_API_VERSION\"),\n",
    "    api_version = \"2024-05-01-preview\", # https://learn.microsoft.com/en-us/azure/ai-services/openai/reference?WT.mc_id=AZ-MVP-5004796\n",
    "    azure_endpoint=os.getenv(\"AZURE_OPENAI_ENDPOINT\")\n",
    ")\n",
    "\n",
    "# You need to deploy your own embedding model as well as your own chat completion model\n",
    "embed_model = AzureOpenAIEmbedding(\n",
    "    model=\"text-embedding-ada-002\",\n",
    "    deployment_name=\"text-embedding-ada-002\",\n",
    "    api_key=os.getenv(\"OPENAI_API_KEY\"),  \n",
    "    # api_version=os.getenv(\"OPENAI_API_VERSION\"),\n",
    "    api_version = \"2024-05-01-preview\", # https://learn.microsoft.com/en-us/azure/ai-services/openai/reference?WT.mc_id=AZ-MVP-5004796\n",
    "    azure_endpoint=os.getenv(\"AZURE_OPENAI_ENDPOINT\")\n",
    ")\n",
    "\n",
    "# Define the ingestion pipeline to add documents to vector store\n",
    "pipeline = IngestionPipeline(\n",
    "    transformations=[\n",
    "        SentenceSplitter(chunk_size=512, chunk_overlap=20),\n",
    "        embed_model,\n",
    "    ],\n",
    "    vector_store=vector_store,\n",
    ")\n",
    "\n",
    "# Create index with the vector store and using the embedding model\n",
    "# index = VectorStoreIndex.from_vector_store(\n",
    "#     vector_store=vector_store, embed_model=embed_model)"
   ]
  },
  {
   "cell_type": "code",
   "execution_count": 6,
   "metadata": {},
   "outputs": [
    {
     "name": "stdout",
     "output_type": "stream",
     "text": [
      "Indexing complete\n"
     ]
    }
   ],
   "source": [
    "# Fetch documents\n",
    "documents = SimpleDirectoryReader('./data/docs').load_data()\n",
    "\n",
    "# Run pipeline\n",
    "pipeline.run(documents=documents)\n",
    "\n",
    "print(\"Indexing complete\")"
   ]
  },
  {
   "cell_type": "code",
   "execution_count": 7,
   "metadata": {},
   "outputs": [
    {
     "data": {
      "text/plain": [
       "<llama_index.core.indices.vector_store.retrievers.retriever.VectorIndexRetriever at 0x7f114f5a7d50>"
      ]
     },
     "execution_count": 7,
     "metadata": {},
     "output_type": "execute_result"
    }
   ],
   "source": [
    "index.as_retriever()"
   ]
  },
  {
   "cell_type": "code",
   "execution_count": 14,
   "metadata": {},
   "outputs": [
    {
     "data": {
      "text/plain": [
       "<util.query_engines.VerboseHyDEQueryTransform at 0x7f114070a0d0>"
      ]
     },
     "execution_count": 14,
     "metadata": {},
     "output_type": "execute_result"
    }
   ],
   "source": [
    "hyde = VerboseHyDEQueryTransform(include_original=True, verbose=True)\n",
    "hyde"
   ]
  },
  {
   "cell_type": "code",
   "execution_count": 15,
   "metadata": {},
   "outputs": [],
   "source": [
    "transformed_query_engine = TransformQueryEngine(\n",
    "    query_engine=index.as_query_engine(llm=llm, verbose=True),\n",
    "    query_transform=hyde,\n",
    ")"
   ]
  },
  {
   "cell_type": "code",
   "execution_count": 16,
   "metadata": {},
   "outputs": [
    {
     "data": {
      "text/plain": [
       "<llama_index.core.query_engine.transform_query_engine.TransformQueryEngine at 0x7f1140760ad0>"
      ]
     },
     "execution_count": 16,
     "metadata": {},
     "output_type": "execute_result"
    }
   ],
   "source": [
    "transformed_query_engine"
   ]
  },
  {
   "cell_type": "code",
   "execution_count": 165,
   "metadata": {},
   "outputs": [
    {
     "data": {
      "text/markdown": [
       "Væselhale kan bekæmpes ved at anvende forskellige herbicider. For eksempel kan Mateno Duo 600 SC anvendes i forskellige mængder, som 0,7 liter pr. hektar. Det er også blevet observeret, at en tidlig sprøjtning, for eksempel den 20. august, kan være effektiv. Tilsætning af Boxer kan også reducere mængden af væselhale i frøet, men det kan ikke anvendes i praksis på de behandlingstidspunkter, der er blevet anvendt i forsøget, på grund af fordampning af prosulfocarb."
      ],
      "text/plain": [
       "<IPython.core.display.Markdown object>"
      ]
     },
     "metadata": {},
     "output_type": "display_data"
    }
   ],
   "source": [
    "simple_query_engine = index.as_query_engine(similarity_top_k=5)\n",
    "simple_response = simple_query_engine.query('hvordan bekæmpes væselhale?')\n",
    "display(Markdown(simple_response.response))"
   ]
  },
  {
   "cell_type": "code",
   "execution_count": 145,
   "metadata": {},
   "outputs": [
    {
     "name": "stdout",
     "output_type": "stream",
     "text": [
      "Chunk 1: 0.8261254989814707\n",
      "Chunk 2: 0.8118815719307365\n",
      "Chunk 3: 0.8082726919197029\n",
      "Chunk 4: 0.8074034576788202\n",
      "Chunk 5: 0.8048558014178372\n"
     ]
    }
   ],
   "source": [
    "chunks = simple_response.source_nodes\n",
    "for i, chunk in enumerate(chunks):\n",
    "    print(f\"Chunk {i+1}: {chunk.score}\")\n",
    "    # print(dir(chunk))"
   ]
  },
  {
   "cell_type": "markdown",
   "metadata": {},
   "source": [
    "# RAG implementation using HyDE"
   ]
  },
  {
   "cell_type": "code",
   "execution_count": 7,
   "metadata": {},
   "outputs": [],
   "source": [
    "query = \"hvordan bekæmper jeg væselhale?\""
   ]
  },
  {
   "cell_type": "code",
   "execution_count": 18,
   "metadata": {},
   "outputs": [],
   "source": [
    "llm = AzureOpenAI(\n",
    "    model=\"gpt-4\",\n",
    "    deployment_name=\"gpt4\",\n",
    "    api_key=os.getenv(\"OPENAI_API_KEY\"),  \n",
    "    api_version=os.getenv(\"OPENAI_API_VERSION\"), # https://learn.microsoft.com/en-us/azure/ai-services/openai/reference?WT.mc_id=AZ-MVP-5004796\n",
    "    azure_endpoint=os.getenv(\"AZURE_OPENAI_ENDPOINT\")\n",
    ")\n",
    "\n",
    "# You need to deploy your own embedding model as well as your own chat completion model\n",
    "embed_model = AzureOpenAIEmbedding(\n",
    "    model=\"text-embedding-ada-002\",\n",
    "    deployment_name=\"text-embedding-ada-002\",\n",
    "    api_key=os.getenv(\"OPENAI_API_KEY\"),  \n",
    "    api_version=os.getenv(\"OPENAI_API_VERSION\"), # https://learn.microsoft.com/en-us/azure/ai-services/openai/reference?WT.mc_id=AZ-MVP-5004796\n",
    "    azure_endpoint=os.getenv(\"AZURE_OPENAI_ENDPOINT\")\n",
    ")"
   ]
  },
  {
   "cell_type": "code",
   "execution_count": 8,
   "metadata": {},
   "outputs": [
    {
     "data": {
      "text/markdown": [
       "<b>[VerboseHyDEQueryTransform]<b> Generated hypothetical document: Væselhale er en ukrudtsplante, der kan være svær at bekæmpe, men det er ikke umuligt. Først og fremmest er det vigtigt at forstå, at væselhale er en årlig plante, der formerer sig gennem frø. Derfor er det vigtigt at bekæmpe planten, før den når at sætte frø.\n",
       "\n",
       "En effektiv metode til at bekæmpe væselhale er at bruge en ukrudtsbrænder. Denne metode er mest effektiv, hvis du bruger den i det tidlige forår, når væselhale begynder at vokse. Ukrudtsbrænderen vil dræbe planten og forhindre den i at sætte frø.\n",
       "\n",
       "En anden metode er at bruge en ukrudtsmiddel, der er specifikt designet til at bekæmpe væselhale. Disse produkter kan købes i de fleste havecentre og online. Følg altid instruktionerne på produktet nøje for at sikre, at det er effektivt.\n",
       "\n",
       "Endelig kan du også bekæmpe væselhale ved at luge den ud manuelt. Dette kan være en tidskrævende proces, men det er en effektiv metode, hvis du kun har et lille område med væselhale. Sørg for at få hele planten med, inklusive rødderne, for at forhindre den i at vokse tilbage.\n",
       "\n",
       "Husk, at det er vigtigt at bekæmpe væselhale så tidligt som muligt for at forhindre den i at sprede sig. Med tålmodighed og vedholdenhed kan du effektivt bekæmpe denne ukrudtsplante.\n",
       "\n",
       "-------------------\n",
       "\n"
      ],
      "text/plain": [
       "<IPython.core.display.Markdown object>"
      ]
     },
     "metadata": {},
     "output_type": "display_data"
    },
    {
     "data": {
      "text/markdown": [
       "Den bedste bekæmpelse af væselhale er opnået ved at anvende 0,7 l. Mateno Duo 600 SC pr. ha den 20. august, hvilket betyder en tidlig sprøjtning. Tilsætning af Boxer har i et forsøg resulteret i færre væselhaler i frøet, men kan ikke anvendes i praksis på de behandlingstidspunkter, der har været anvendt i dette forsøg, på grund af fordampning af prosulfocarb."
      ],
      "text/plain": [
       "<IPython.core.display.Markdown object>"
      ]
     },
     "metadata": {},
     "output_type": "display_data"
    }
   ],
   "source": [
    "documents = SimpleDirectoryReader('./data/docs').load_data()\n",
    "\n",
    "from llama_index.core import Settings\n",
    "\n",
    "Settings.llm = llm\n",
    "Settings.embed_model = embed_model\n",
    "\n",
    "# build VectorStoreIndex that takes care of chunking documents\n",
    "# and encoding chunks to embeddings for future retrieval\n",
    "# index = VectorStoreIndex.from_documents(documents=documents)#, \n",
    "                                        #api_key=os.environ['OPENAI_API_KEY'],\n",
    "                                        #base_url=os.environ['AZURE_API_BASE'],\n",
    "                                        #app_url=os.environ['AZURE_OPENAI_ENDPOINT'])\n",
    "index = VectorStoreIndex.from_documents(documents=documents, embed_model=embed_model, llm=llm, verbose=True)\n",
    "\n",
    "hyde = VerboseHyDEQueryTransform(include_original=True, verbose=True)\n",
    "\n",
    "hyde_query_engine = TransformQueryEngine(\n",
    "    query_engine=index.as_query_engine(llm=llm, verbose=True, streaming=True, similarity_top_k=5),\n",
    "    query_transform=hyde,\n",
    ")\n",
    "\n",
    "\n",
    "hyde_response = hyde_query_engine.query(query)\n",
    "display(Markdown(f\"{hyde_response}\"))"
   ]
  },
  {
   "cell_type": "code",
   "execution_count": 146,
   "metadata": {},
   "outputs": [
    {
     "data": {
      "text/markdown": [
       "<b>[VerboseHyDEQueryTransform]<b> Generated hypothetical document: Væselhale er en ukrudtsplante, der kan være svær at bekæmpe. Her er nogle trin, du kan tage for at bekæmpe væselhale:\n",
       "\n",
       "1. Fjernelse: Det første skridt er at fjerne så mange planter som muligt. Dette kan gøres manuelt ved at trække dem op med rødderne. Det er vigtigt at gøre dette, før planten har haft mulighed for at sprede sine frø.\n",
       "\n",
       "2. Brug af herbicider: Hvis manuel fjernelse ikke er nok, kan du overveje at bruge et herbicid. Det er vigtigt at vælge et herbicid, der er specifikt designet til at bekæmpe væselhale, da nogle almindelige herbicider ikke er effektive mod denne plante.\n",
       "\n",
       "3. Forebyggelse: Efter at have fjernet de eksisterende planter, er det vigtigt at tage skridt til at forhindre, at de vender tilbage. Dette kan omfatte regelmæssig klipning af græsset for at forhindre, at væselhale får mulighed for at vokse, og brug af en præ-emergent herbicid for at forhindre, at nye frø spirer.\n",
       "\n",
       "4. Overvågning: Endelig er det vigtigt at overvåge området regelmæssigt for tegn på ny vækst. Hvis du ser nye planter, skal du fjerne dem så hurtigt som muligt for at forhindre, at de spreder sig.\n",
       "\n",
       "Ved at følge disse trin kan du effektivt bekæmpe væselhale i din have eller på dit græsareal.\n",
       "\n",
       "-------------------\n",
       "\n"
      ],
      "text/plain": [
       "<IPython.core.display.Markdown object>"
      ]
     },
     "metadata": {},
     "output_type": "display_data"
    },
    {
     "data": {
      "text/markdown": [
       "Den bedste bekæmpelse af væselhale er opnået ved at anvende 0,7 l. Mateno Duo 600 SC pr. ha den 20. august, hvilket betyder en tidlig sprøjtning. Tilsætning af Boxer kan også reducere mængden af væselhale i frøet, men det kan ikke anvendes i praksis på de behandlingstidspunkter, der er blevet anvendt i forsøget, på grund af fordampning af prosulfocarb."
      ],
      "text/plain": [
       "<IPython.core.display.Markdown object>"
      ]
     },
     "metadata": {},
     "output_type": "display_data"
    }
   ],
   "source": [
    "hyde_response = hyde_query_engine.query(query)\n",
    "display(Markdown(f\"{hyde_response}\"))"
   ]
  },
  {
   "cell_type": "code",
   "execution_count": 20,
   "metadata": {},
   "outputs": [
    {
     "name": "stdout",
     "output_type": "stream",
     "text": [
      "Chunk 1: 0.8566892893911661\n",
      "Chunk 2: 0.843333123914906\n",
      "Chunk 3: 0.8429606370235365\n",
      "Chunk 4: 0.842242481445407\n",
      "Chunk 5: 0.8416756075072966\n"
     ]
    }
   ],
   "source": [
    "# response = transformed_query_engine.query(query)\n",
    "chunks = hyde_response.source_nodes\n",
    "for i, chunk in enumerate(chunks):\n",
    "    print(f\"Chunk {i+1}: {chunk.score}\")\n",
    "    # print(dir(chunk))"
   ]
  },
  {
   "cell_type": "code",
   "execution_count": 147,
   "metadata": {},
   "outputs": [],
   "source": [
    "prompt = \"\"\"You are a helpful assistant that answers questions for farmers and consultants for farmers using provided context.\n",
    "    Context information is below.\n",
    "    ---------------------\n",
    "    {context}\n",
    "    ---------------------\n",
    "    Given the context information and not prior knowledge, answer the query. Always provide an answer in the danish language.\n",
    "    Below the answer, the source of the answer should be provided including file_name, chapter and which section the source is found.\n",
    "    Query: {query}\n",
    "    Answer: \n",
    "    \"\"\"\n",
    "\n",
    "transformed_prompt_query_engine = TransformQueryEngine(\n",
    "    query_engine=index.as_query_engine(llm=llm, verbose=True, streaming=True, similarity_top_k=5, PromptTemplate=prompt),\n",
    "    query_transform=hyde,\n",
    ")"
   ]
  },
  {
   "cell_type": "code",
   "execution_count": 148,
   "metadata": {},
   "outputs": [
    {
     "data": {
      "text/markdown": [
       "<b>[VerboseHyDEQueryTransform]<b> Generated hypothetical document: Væselhale er en ukrudtsplante, der kan være svær at bekæmpe, men det er ikke umuligt. Her er nogle trin, du kan tage for at bekæmpe væselhale:\n",
       "\n",
       "1. Fysisk fjernelse: Den mest direkte metode til at bekæmpe væselhale er at fjerne den fysisk. Dette kan gøres ved at grave planten op med rødderne. Det er vigtigt at få hele roden, da planten kan vokse tilbage, hvis nogen del af roden forbliver i jorden.\n",
       "\n",
       "2. Brug af herbicider: Der er flere herbicider på markedet, der er effektive til at bekæmpe væselhale. Det er vigtigt at følge instruktionerne nøje for at sikre, at du bruger produktet sikkert og effektivt.\n",
       "\n",
       "3. Forebyggelse: En af de bedste måder at bekæmpe væselhale på er at forhindre, at det vokser i første omgang. Dette kan gøres ved at holde din have eller græsplæne sund og velplejet. En stærk, sund græsplæne kan hjælpe med at forhindre vækst af ukrudt som væselhale.\n",
       "\n",
       "4. Professionel hjælp: Hvis du har en stor infestation af væselhale, kan det være nødvendigt at søge professionel hjælp. En professionel gartner eller landskabsplejer vil have adgang til mere kraftfulde værktøjer og teknikker til at bekæmpe væselhale.\n",
       "\n",
       "Husk, at bekæmpelse af væselhale kan tage tid, og det kan være nødvendigt at gentage disse trin flere gange for at fuldstændigt fjerne planten fra din have eller græsplæne.\n",
       "\n",
       "-------------------\n",
       "\n"
      ],
      "text/plain": [
       "<IPython.core.display.Markdown object>"
      ]
     },
     "metadata": {},
     "output_type": "display_data"
    },
    {
     "data": {
      "text/markdown": [
       "Den mest effektive bekæmpelse af væselhale er opnået ved at anvende 0,7 l. Mateno Duo 600 SC pr. ha den 20. august, hvilket betyder en tidlig sprøjtning. Tilføjelse af Boxer i denne proces har resulteret i færre væselhaler i frøet, men kan ikke anvendes i praksis på de behandlingstidspunkter, der er blevet brugt i dette forsøg på grund af fordampning af prosulfocarb. Det er vigtigt at bemærke, at selvom denne metode har reduceret mængden af væselhale i frøet betydeligt sammenlignet med ubehandlet, er indholdet stadig for højt i forhold til certificering."
      ],
      "text/plain": [
       "<IPython.core.display.Markdown object>"
      ]
     },
     "metadata": {},
     "output_type": "display_data"
    }
   ],
   "source": [
    "# response = transformed_query_engine.query('hvordan vælger jeg den bedste vårbygsort?')\n",
    "transformed_prompt_response = transformed_prompt_query_engine.query('hvordan bekæmper jeg væselhale?')\n",
    "display(Markdown(f\"{transformed_prompt_response}\"))"
   ]
  },
  {
   "cell_type": "code",
   "execution_count": 23,
   "metadata": {},
   "outputs": [
    {
     "name": "stdout",
     "output_type": "stream",
     "text": [
      "Chunk 1: 0.8534335892857363\n",
      "Chunk 2: 0.839870752577824\n",
      "Chunk 3: 0.839793748239762\n",
      "Chunk 4: 0.8376136905314411\n",
      "Chunk 5: 0.8375681202299005\n"
     ]
    }
   ],
   "source": [
    "# response = transformed_query_engine.query(query)\n",
    "chunks = transformed_prompt_response.source_nodes\n",
    "for i, chunk in enumerate(chunks):\n",
    "    print(f\"Chunk {i+1}: {chunk.score}\")\n",
    "    # print(dir(chunk))"
   ]
  },
  {
   "cell_type": "markdown",
   "metadata": {},
   "source": [
    "# Reranking"
   ]
  },
  {
   "cell_type": "code",
   "execution_count": 158,
   "metadata": {},
   "outputs": [],
   "source": [
    "from llama_index.core.retrievers import VectorIndexRetriever\n",
    "from llama_index.core import QueryBundle\n",
    "from llama_index.postprocessor.rankgpt_rerank import RankGPTRerank\n",
    "\n",
    "import pandas as pd\n",
    "from IPython.display import display, HTML\n",
    "\n",
    "def get_retrieved_nodes(query_str, vector_top_k=10, reranker_top_n=3, with_reranker=False): \n",
    "    query_bundle = QueryBundle(query_str)\n",
    "    # configure retriever\n",
    "    retriever = VectorIndexRetriever(\n",
    "        index=index,\n",
    "        similarity_top_k=vector_top_k\n",
    "    )\n",
    "    retrieved_nodes = retriever.retrieve(query_bundle)\n",
    "\n",
    "    if with_reranker:\n",
    "        # configure reranker\n",
    "        reranker = RankGPTRerank(\n",
    "            llm=llm,\n",
    "            top_n=reranker_top_n,\n",
    "            verbose=True\n",
    "        )\n",
    "        retrieved_nodes = reranker.postprocess_nodes(\n",
    "            retrieved_nodes, query_bundle\n",
    "        )\n",
    "    return retrieved_nodes\n",
    "\n",
    "def pretty_print(df):\n",
    "    return display(HTML(df.to_html().replace(\"\\\\n\", \"<br>\")))\n",
    "\n",
    "\n",
    "def visualize_retrieved_nodes(nodes) -> None:\n",
    "    result_dicts = []\n",
    "    for node in nodes:\n",
    "        result_dict = {\"Score\": node.score, \"Text\": node.node.get_text()}\n",
    "        result_dicts.append(result_dict)\n",
    "\n",
    "    pretty_print(pd.DataFrame(result_dicts))"
   ]
  },
  {
   "cell_type": "code",
   "execution_count": 162,
   "metadata": {},
   "outputs": [
    {
     "name": "stdout",
     "output_type": "stream",
     "text": [
      "After Reranking, new rank list for nodes: [0, 1, 5, 9, 3, 2, 8, 7, 6, 4]"
     ]
    }
   ],
   "source": [
    "new_nodes = get_retrieved_nodes(\n",
    "    \"Hvordan bekæmper jeg væselhale\",\n",
    "    vector_top_k=10,\n",
    "    reranker_top_n=3,\n",
    "    with_reranker=True\n",
    ")"
   ]
  },
  {
   "cell_type": "code",
   "execution_count": 163,
   "metadata": {},
   "outputs": [
    {
     "data": {
      "text/plain": [
       "[NodeWithScore(node=TextNode(id_='bdc801d8-b325-48a0-af29-0eed1fe55000', embedding=None, metadata={'page_label': '128', 'file_name': 'planter_landsforsogene_2022.pdf', 'file_path': '/home/jaav/proj/RAG/advanced-rag-examples/data/docs/planter_landsforsogene_2022.pdf', 'file_type': 'application/pdf', 'file_size': 53911931, 'creation_date': '2024-08-05', 'last_modified_date': '2024-07-30'}, excluded_embed_metadata_keys=['file_name', 'file_type', 'file_size', 'creation_date', 'last_modified_date', 'last_accessed_date'], excluded_llm_metadata_keys=['file_name', 'file_type', 'file_size', 'creation_date', 'last_modified_date', 'last_accessed_date'], relationships={<NodeRelationship.SOURCE: '1'>: RelatedNodeInfo(node_id='60a6243b-ba90-4cf0-b09e-f5b8fa1b1e0f', node_type=<ObjectType.DOCUMENT: '4'>, metadata={'page_label': '128', 'file_name': 'planter_landsforsogene_2022.pdf', 'file_path': '/home/jaav/proj/RAG/advanced-rag-examples/data/docs/planter_landsforsogene_2022.pdf', 'file_type': 'application/pdf', 'file_size': 53911931, 'creation_date': '2024-08-05', 'last_modified_date': '2024-07-30'}, hash='774dc37167e6a07dd01e4209829f86cccc5572599bae096c396706d24a25fa1c'), <NodeRelationship.PREVIOUS: '2'>: RelatedNodeInfo(node_id='c0bb777a-3cf4-43b2-bf73-68777e09a0c7', node_type=<ObjectType.TEXT: '1'>, metadata={'page_label': '128', 'file_name': 'planter_landsforsogene_2022.pdf', 'file_path': '/home/jaav/proj/RAG/advanced-rag-examples/data/docs/planter_landsforsogene_2022.pdf', 'file_type': 'application/pdf', 'file_size': 53911931, 'creation_date': '2024-08-05', 'last_modified_date': '2024-07-30'}, hash='cb690a8645a4d7bdba1fa0760945efb365aaed93af15f17f053c5752cee72e6f')}, text='Den bed -\\nste bekæmpelse af væselhale er opnået i led 3, hvor der \\nhar været anvendt 0,7 l. Mateno Duo 600 SC pr. ha den \\n20. august – altså en tidlig sprøjtning. Indholdet af væ -\\nselhale i frøet i led 3 er dog stadig for højt i forhold til \\ncertificering, men er nedbragt væsentligt sammenlignet \\nmed ubehandlet. Tilsætning af Boxer giver i dette forsøg \\nfærre væselhaler i frøet, men kan grundet fordampning \\naf prosulfocarb ikke anvendes i praksis på de behand -\\nlingstidspunkter, der har været anvendt i dette forsøg. \\nDer har været en god bekæmpelse af alm. rapgræs i \\nSlemning efter kraftig nedbør umiddelbart efter såning giver \\nudfordringer med fremspiringen.FOTO: KRISTIAN JURANICH, SEGES INNOVATION', mimetype='text/plain', start_char_idx=4089, end_char_idx=4798, text_template='{metadata_str}\\n\\n{content}', metadata_template='{key}: {value}', metadata_seperator='\\n'), score=0.8201862773059688),\n",
       " NodeWithScore(node=TextNode(id_='682a028a-c227-47bc-9834-b038601d1abd', embedding=None, metadata={'page_label': '64', 'file_name': 'planter_landsforsogene_2022.pdf', 'file_path': '/home/jaav/proj/RAG/advanced-rag-examples/data/docs/planter_landsforsogene_2022.pdf', 'file_type': 'application/pdf', 'file_size': 53911931, 'creation_date': '2024-08-05', 'last_modified_date': '2024-07-30'}, excluded_embed_metadata_keys=['file_name', 'file_type', 'file_size', 'creation_date', 'last_modified_date', 'last_accessed_date'], excluded_llm_metadata_keys=['file_name', 'file_type', 'file_size', 'creation_date', 'last_modified_date', 'last_accessed_date'], relationships={<NodeRelationship.SOURCE: '1'>: RelatedNodeInfo(node_id='97a4ff9b-522a-4aed-92b3-a43bcab2b95a', node_type=<ObjectType.DOCUMENT: '4'>, metadata={'page_label': '64', 'file_name': 'planter_landsforsogene_2022.pdf', 'file_path': '/home/jaav/proj/RAG/advanced-rag-examples/data/docs/planter_landsforsogene_2022.pdf', 'file_type': 'application/pdf', 'file_size': 53911931, 'creation_date': '2024-08-05', 'last_modified_date': '2024-07-30'}, hash='496e7946bc34134ca77e6315713a0ff13c48c48e5ff5740c100a6397123b9811'), <NodeRelationship.PREVIOUS: '2'>: RelatedNodeInfo(node_id='d5351650-7511-449c-b434-889b8a0893da', node_type=<ObjectType.TEXT: '1'>, metadata={'page_label': '64', 'file_name': 'planter_landsforsogene_2022.pdf', 'file_path': '/home/jaav/proj/RAG/advanced-rag-examples/data/docs/planter_landsforsogene_2022.pdf', 'file_type': 'application/pdf', 'file_size': 53911931, 'creation_date': '2024-08-05', 'last_modified_date': '2024-07-30'}, hash='839506505d8d213d1a77bee05bb64239983ddd57d26b676619256dab49159cee')}, text='Angrebene ligger i 2022 på niveau med 2020, hvor \\nder også var en tør periode i foråret (medio marts-ultimo \\napril).\\nMeldug er kommet relativt sent, og angrebene har over -\\nvejende været svage til moderate. I enkeltmarker har \\ndog været mere udbredte angreb .TABEL 18.  Bekæmpelse af væselhale i vinterhvede om efter -\\nåret. (E16)\\nVinterhvede StadieVæselhale\\nKemi og \\nudbring-\\nning,\\nkr. pr. \\nhaOktober November\\nAntal \\nplanter \\npr. m2Antal \\nplanter \\npr. m2Procent \\neffekt\\n2021-22, 3 forsøg\\n1.Ubehandlet - 602 a 632 a  0 a  \\n2.1,5 l Boxer + 0,05 \\nl DFF 10-11 57 bc 41 b 92 b 360\\n3.0,7 l Mateno Duo + \\n1 l Boxer 10-11 9 de 4 c 99 de 542\\n4.0,5 l Mateno Duo + \\n1 l Boxer 10-11 6 de 2 cd 99 de 459\\n5.0,35 l Mateno Duo + \\n1,5 l Boxer 10-11 10 de 5 c 98 bcd 486\\n6.0,7 l Mateno Duo 10-11 69 bc 61 b 92 bc 362\\n7.0,5 l Mateno Duo + \\n1 l Boxer og\\n0,75 l Atlantis OD10-11\\n12 - 0 d 99 e 775\\n8.0,75 l Atlantis OD 12 - 174 ab 58 a 317\\n9.0,7 l Mateno Duo + \\n1 l Boxer 12 - 6 c 98 cd 542\\nResultater med forskellige bogstaver er signifikant forskellige.\\nOptimalt tidspunkt for bekæmpelse af væselhale med Boxer \\nog Mateno Duo.FOTO: SOFIE HÆSTRUP OLESEN, LANDBONORD', mimetype='text/plain', start_char_idx=1667, end_char_idx=2812, text_template='{metadata_str}\\n\\n{content}', metadata_template='{key}: {value}', metadata_seperator='\\n'), score=0.8121868074224309),\n",
       " NodeWithScore(node=TextNode(id_='8104664e-9565-4533-a3a5-94cf22f35d30', embedding=None, metadata={'page_label': '135', 'file_name': 'planter_landsforsogene_2022.pdf', 'file_path': '/home/jaav/proj/RAG/advanced-rag-examples/data/docs/planter_landsforsogene_2022.pdf', 'file_type': 'application/pdf', 'file_size': 53911931, 'creation_date': '2024-08-05', 'last_modified_date': '2024-07-30'}, excluded_embed_metadata_keys=['file_name', 'file_type', 'file_size', 'creation_date', 'last_modified_date', 'last_accessed_date'], excluded_llm_metadata_keys=['file_name', 'file_type', 'file_size', 'creation_date', 'last_modified_date', 'last_accessed_date'], relationships={<NodeRelationship.SOURCE: '1'>: RelatedNodeInfo(node_id='e70e3bb4-069c-4c7a-96fb-288313dc4b0d', node_type=<ObjectType.DOCUMENT: '4'>, metadata={'page_label': '135', 'file_name': 'planter_landsforsogene_2022.pdf', 'file_path': '/home/jaav/proj/RAG/advanced-rag-examples/data/docs/planter_landsforsogene_2022.pdf', 'file_type': 'application/pdf', 'file_size': 53911931, 'creation_date': '2024-08-05', 'last_modified_date': '2024-07-30'}, hash='bd38f5650fed352215114185ed2ce069dca9a8ce0c472e18404ccbf6096b9b3d'), <NodeRelationship.PREVIOUS: '2'>: RelatedNodeInfo(node_id='b37eadfb-1ee3-43e6-964f-e34524ac0036', node_type=<ObjectType.TEXT: '1'>, metadata={'page_label': '135', 'file_name': 'planter_landsforsogene_2022.pdf', 'file_path': '/home/jaav/proj/RAG/advanced-rag-examples/data/docs/planter_landsforsogene_2022.pdf', 'file_type': 'application/pdf', 'file_size': 53911931, 'creation_date': '2024-08-05', 'last_modified_date': '2024-07-30'}, hash='6202d7db0a3386e81a4512e9232e2c5bff8c6b34d1f7d99ab3116e41a39addb9')}, text='Forsøget er anlagt i et design, der gør at alle behand -\\nlinger, udover etableringen, er de samme som den om -TABEL 10.  Bekæmpelse af væselhale i rødsvingel (J10)\\nRødsvingelBehandlings-\\ntidspunktHerbicid-\\nskade1)\\n3/4Væselhale \\npct. dækning \\naf jord 3/4Væselhale \\npct. i frø ved \\nhøstUdb. og \\nmerudb., \\nkg frø pr. haNettomer-\\nudbytte, \\nkg pr. ha\\n2022. 2 forsøg\\n1.1. Ubehandlet, 0,0 3,4 0,15 1467 -\\n2.0,35 l Mateno Duo 600 SC 20/8 2021 0,0 1,9 0,10 49 29\\n3.0,7 l Mateno Duo 600 SC 20/8 2021 0,3 2,4 0,00 72 39\\n4.0,35 l Mateno Duo 600 SC 15/9 2021 0,0 1,9 0,10 5 -14\\n5.0,7 l Mateno Duo 600 SC 15/9 2021 0,3 2,4 0,10 -17 -50\\n6.0,35 l Mateno Duo 600 SC\\n0,35 l Mateno Duo 600 SC20/8 2021\\n15/9 2021 0,4 3,4 0,05 24 -16\\n7.0,35 l Mateno Duo 600 SC + 1 l Boxer 20/8 2021 0,1 3,8 0,05 -22 -58\\n8.0,35 l Mateno Duo 600 SC + 1 l Boxer 15/9 2021 0,0 2,4 0,10 65 29\\n9.0,35 l Mateno Duo 600 SC + 0,5 l Boxer\\n0,35 l Mateno Duo 600 SC + 0,5 l Boxer20/8 2021\\n15/9 2021 1,1 2,7 0,05 -18 -74\\n10. 0,35 l Mateno Duo 600 SC + 1 l Boxer\\n0,35 l Mateno Duo 600 SC + 1 l Boxer20/8 2021\\n15/9 2021 1,1 2,6 0,05 -4 -76\\nLSD ns\\n1) Karakter for herbicidskade, 0 = ingen skade og 10 = mest skade\\nFIGUR 3.  Fordeling af frø set på tværs af såmaskinerne.40100160\\n135791113151719212325Indekstal, 100 er gennemsnit\\nUdløbsnummer, set bagfra såmaskinenFordeling af græsfrøudsæd \\npå såudløbene\\n Såmaskine 1\\n Såmaskine 2\\n Såmaskine 3Variationskoefficient \\n(relativ spredning af et datasæt 0- 100%): \\n8%          \\n15%  \\n24%\\nEtablering af forsøg med test af såmaskiner til frø på en flot dag \\ni marts.FOTO: KRISTIAN JURANICH, SEGES INNOVATION', mimetype='text/plain', start_char_idx=1427, end_char_idx=3024, text_template='{metadata_str}\\n\\n{content}', metadata_template='{key}: {value}', metadata_seperator='\\n'), score=0.8036906983042295)]"
      ]
     },
     "execution_count": 163,
     "metadata": {},
     "output_type": "execute_result"
    }
   ],
   "source": [
    "new_nodes"
   ]
  },
  {
   "cell_type": "code",
   "execution_count": 164,
   "metadata": {},
   "outputs": [
    {
     "data": {
      "text/html": [
       "<table border=\"1\" class=\"dataframe\">\n",
       "  <thead>\n",
       "    <tr style=\"text-align: right;\">\n",
       "      <th></th>\n",
       "      <th>Score</th>\n",
       "      <th>Text</th>\n",
       "    </tr>\n",
       "  </thead>\n",
       "  <tbody>\n",
       "    <tr>\n",
       "      <th>0</th>\n",
       "      <td>0.820186</td>\n",
       "      <td>Den bed -<br>ste bekæmpelse af væselhale er opnået i led 3, hvor der <br>har været anvendt 0,7 l. Mateno Duo 600 SC pr. ha den <br>20. august – altså en tidlig sprøjtning. Indholdet af væ -<br>selhale i frøet i led 3 er dog stadig for højt i forhold til <br>certificering, men er nedbragt væsentligt sammenlignet <br>med ubehandlet. Tilsætning af Boxer giver i dette forsøg <br>færre væselhaler i frøet, men kan grundet fordampning <br>af prosulfocarb ikke anvendes i praksis på de behand -<br>lingstidspunkter, der har været anvendt i dette forsøg. <br>Der har været en god bekæmpelse af alm. rapgræs i <br>Slemning efter kraftig nedbør umiddelbart efter såning giver <br>udfordringer med fremspiringen.FOTO: KRISTIAN JURANICH, SEGES INNOVATION</td>\n",
       "    </tr>\n",
       "    <tr>\n",
       "      <th>1</th>\n",
       "      <td>0.812187</td>\n",
       "      <td>Angrebene ligger i 2022 på niveau med 2020, hvor <br>der også var en tør periode i foråret (medio marts-ultimo <br>april).<br>Meldug er kommet relativt sent, og angrebene har over -<br>vejende været svage til moderate. I enkeltmarker har <br>dog været mere udbredte angreb .TABEL 18.  Bekæmpelse af væselhale i vinterhvede om efter -<br>året. (E16)<br>Vinterhvede StadieVæselhale<br>Kemi og <br>udbring-<br>ning,<br>kr. pr. <br>haOktober November<br>Antal <br>planter <br>pr. m2Antal <br>planter <br>pr. m2Procent <br>effekt<br>2021-22, 3 forsøg<br>1.Ubehandlet - 602 a 632 a  0 a  <br>2.1,5 l Boxer + 0,05 <br>l DFF 10-11 57 bc 41 b 92 b 360<br>3.0,7 l Mateno Duo + <br>1 l Boxer 10-11 9 de 4 c 99 de 542<br>4.0,5 l Mateno Duo + <br>1 l Boxer 10-11 6 de 2 cd 99 de 459<br>5.0,35 l Mateno Duo + <br>1,5 l Boxer 10-11 10 de 5 c 98 bcd 486<br>6.0,7 l Mateno Duo 10-11 69 bc 61 b 92 bc 362<br>7.0,5 l Mateno Duo + <br>1 l Boxer og<br>0,75 l Atlantis OD10-11<br>12 - 0 d 99 e 775<br>8.0,75 l Atlantis OD 12 - 174 ab 58 a 317<br>9.0,7 l Mateno Duo + <br>1 l Boxer 12 - 6 c 98 cd 542<br>Resultater med forskellige bogstaver er signifikant forskellige.<br>Optimalt tidspunkt for bekæmpelse af væselhale med Boxer <br>og Mateno Duo.FOTO: SOFIE HÆSTRUP OLESEN, LANDBONORD</td>\n",
       "    </tr>\n",
       "    <tr>\n",
       "      <th>2</th>\n",
       "      <td>0.803691</td>\n",
       "      <td>Forsøget er anlagt i et design, der gør at alle behand -<br>linger, udover etableringen, er de samme som den om -TABEL 10.  Bekæmpelse af væselhale i rødsvingel (J10)<br>RødsvingelBehandlings-<br>tidspunktHerbicid-<br>skade1)<br>3/4Væselhale <br>pct. dækning <br>af jord 3/4Væselhale <br>pct. i frø ved <br>høstUdb. og <br>merudb., <br>kg frø pr. haNettomer-<br>udbytte, <br>kg pr. ha<br>2022. 2 forsøg<br>1.1. Ubehandlet, 0,0 3,4 0,15 1467 -<br>2.0,35 l Mateno Duo 600 SC 20/8 2021 0,0 1,9 0,10 49 29<br>3.0,7 l Mateno Duo 600 SC 20/8 2021 0,3 2,4 0,00 72 39<br>4.0,35 l Mateno Duo 600 SC 15/9 2021 0,0 1,9 0,10 5 -14<br>5.0,7 l Mateno Duo 600 SC 15/9 2021 0,3 2,4 0,10 -17 -50<br>6.0,35 l Mateno Duo 600 SC<br>0,35 l Mateno Duo 600 SC20/8 2021<br>15/9 2021 0,4 3,4 0,05 24 -16<br>7.0,35 l Mateno Duo 600 SC + 1 l Boxer 20/8 2021 0,1 3,8 0,05 -22 -58<br>8.0,35 l Mateno Duo 600 SC + 1 l Boxer 15/9 2021 0,0 2,4 0,10 65 29<br>9.0,35 l Mateno Duo 600 SC + 0,5 l Boxer<br>0,35 l Mateno Duo 600 SC + 0,5 l Boxer20/8 2021<br>15/9 2021 1,1 2,7 0,05 -18 -74<br>10. 0,35 l Mateno Duo 600 SC + 1 l Boxer<br>0,35 l Mateno Duo 600 SC + 1 l Boxer20/8 2021<br>15/9 2021 1,1 2,6 0,05 -4 -76<br>LSD ns<br>1) Karakter for herbicidskade, 0 = ingen skade og 10 = mest skade<br>FIGUR 3.  Fordeling af frø set på tværs af såmaskinerne.40100160<br>135791113151719212325Indekstal, 100 er gennemsnit<br>Udløbsnummer, set bagfra såmaskinenFordeling af græsfrøudsæd <br>på såudløbene<br> Såmaskine 1<br> Såmaskine 2<br> Såmaskine 3Variationskoefficient <br>(relativ spredning af et datasæt 0- 100%): <br>8%          <br>15%  <br>24%<br>Etablering af forsøg med test af såmaskiner til frø på en flot dag <br>i marts.FOTO: KRISTIAN JURANICH, SEGES INNOVATION</td>\n",
       "    </tr>\n",
       "  </tbody>\n",
       "</table>"
      ],
      "text/plain": [
       "<IPython.core.display.HTML object>"
      ]
     },
     "metadata": {},
     "output_type": "display_data"
    }
   ],
   "source": [
    "visualize_retrieved_nodes(new_nodes)"
   ]
  },
  {
   "cell_type": "markdown",
   "metadata": {},
   "source": [
    "# Step-Back prompting"
   ]
  },
  {
   "cell_type": "code",
   "execution_count": 57,
   "metadata": {},
   "outputs": [],
   "source": [
    "from util.query_engines import VerboseHyDEQueryTransform, VerboseStepBackQueryEngine, RewriteRetrieveReadQueryEngine\n",
    "from typing import Optional\n",
    "\n",
    "from llama_index.llms.openai import OpenAI\n",
    "from llama_index.core import (\n",
    "    SimpleDirectoryReader,\n",
    "    VectorStoreIndex,\n",
    "    PromptTemplate,\n",
    "    Settings,\n",
    ")\n",
    "from llama_index.core.prompts.prompt_type import PromptType\n",
    "from llama_index.core.prompts.base import BasePromptTemplate\n",
    "from llama_index.core.prompts.mixin import PromptDictType\n",
    "from llama_index.core.query_engine import CustomQueryEngine, TransformQueryEngine\n",
    "from llama_index.core.schema import QueryBundle\n",
    "from llama_index.core.indices.query.query_transform.base import BaseQueryTransform\n",
    "from llama_index.core.service_context_elements.llm_predictor import LLMPredictorType"
   ]
  },
  {
   "cell_type": "code",
   "execution_count": 130,
   "metadata": {},
   "outputs": [
    {
     "name": "stdout",
     "output_type": "stream",
     "text": [
      "\n",
      "\n",
      "Step-back Question:\n",
      "\n",
      " What are some general strategies for dealing with pests? \n",
      "\n",
      "\n",
      "\n",
      "\n",
      "Step-back Context:\n",
      "\n",
      " [NodeWithScore(node=TextNode(id_='7d9404fb-05a1-4176-bbd5-c1bc15ee2089', embedding=None, metadata={'page_label': '58', 'file_name': 'planter_landsforsogene_2023.pdf', 'file_path': '/home/jaav/proj/RAG/advanced-rag-examples/data/docs/planter_landsforsogene_2023.pdf', 'file_type': 'application/pdf', 'file_size': 47095474, 'creation_date': '2024-08-05', 'last_modified_date': '2024-07-30'}, excluded_embed_metadata_keys=['file_name', 'file_type', 'file_size', 'creation_date', 'last_modified_date', 'last_accessed_date'], excluded_llm_metadata_keys=['file_name', 'file_type', 'file_size', 'creation_date', 'last_modified_date', 'last_accessed_date'], relationships={<NodeRelationship.SOURCE: '1'>: RelatedNodeInfo(node_id='4c7b2bde-e78a-4406-8404-263fa22fe005', node_type=<ObjectType.DOCUMENT: '4'>, metadata={'page_label': '58', 'file_name': 'planter_landsforsogene_2023.pdf', 'file_path': '/home/jaav/proj/RAG/advanced-rag-examples/data/docs/planter_landsforsogene_2023.pdf', 'file_type': 'application/pdf', 'file_size': 47095474, 'creation_date': '2024-08-05', 'last_modified_date': '2024-07-30'}, hash='3014d0c2842cd2a7c3f90591967fff4b40e993c7d188293594ac53182fd232bf')}, text='57 VINTERHVEDE UKRUDT\\nning. IPM-strategien er udsat såtidspunkt og en kon -\\nkurrencestærk vinterhvedesort\\n2.  Konsulenten vælger at harve og så uden udsæd den \\n15. september som falsk såbed. Parcellen bliver først \\nsået 12. oktober, og de fremspirede agerrævehale \\nnedvisnes med glyphosat inden såning. IPM-strategi -\\nen er falsk såbed og udsat såtidspunkt\\n3.  SEGES Innovation vælger at så vårbyg til foråret efter \\nøverlig forårsopharvning, og udnytter muligheden \\nfor en lang periode med uberørt stub i efteråret til \\nhenfald af ukrudtsfrø. IPM-strategien er vårsæd med \\nmindre ukrudtsfremspiring og at nedbringe frøpuljen \\nbåde via vårsæden og henfaldet i uberørt stub i kom -\\nbination med minimal jordbearbejdning.\\nOvenstående er et eksempel på, at strategierne er for -\\nskellige, men alle udnytter IPM-viden i praksis og til -\\npasset den enkelte ejendom. Arealet har været pløjet i \\nmange år, og derfor er frøene fra agerrævehale til stede \\ni hele pløjelaget. I frøpuljemanagement ved vi, at frøene \\nhelst skal blive under jorden i 3-4 år for at opnå et stort \\nhenfald, og det udnyttes i to af parcellerne, hvor der ikke \\npløjes. Optællinger af agerrævehaleaks før høst er for de \\ntre parceller opgjort til henholdsvis 210, 65 og 16 aks pr. \\nm2. Denne case viser klart, at IPM-strategier med kom -\\nbinationen af falsk såbed og udsat såtidspunkt giver et \\nmarkant mindre græsukrudtstryk, men viser også, at vår -\\nbyggen giver mindst bidrag til vedligehold af frøpuljen.\\nAndre erfaringer er,\\n >at høj konkurrenceevne fra afgrøder er afgørende for \\nat hæmme græsukrudt\\n >at minimal jordbearbejdning begrænset til såstriben \\ngiver minimal fremspiring af græsukrudt\\n >at anvendelse af ukrudtsmidler i alle tilfælde skal \\nvære det sidste værktøj, der bruges og den kemiske \\nbekæmpelse kun bliver en succes, hvis den inden bli -\\nver kombineret med forskellige IPM-tiltag.\\nDer kan læses meget mere om de 10 græsukrudtspione -\\nrer i månedsmagasinet MARK eller på LandbrugsInfo.dk\\nSelvom såtidspunktet er udsat til 7. oktober for vinterhveden i \\nlandmandens parcel, er der stadig en stor fremspiring af ager -\\nrævehale, da frøpuljen er enorm.FOTO: CARSTEN FABRICIUS, SEGES INNOVATION\\nKonsulenten afprøvede falsk såbed og udsatte såtidspunkt for \\nvinterhvede til 12. oktober. Det falske såbed og minimal jord -\\nbearbejdning ved såning gav en markant mindre fremspiring \\naf agerrævehale.FOTO: CARSTEN FABRICIUS, SEGES INNOVATION\\nKonkurrence fra en veletableret afgrøde er afgørende for suc -\\nces mod græsukrudt. I denne usåede plet er der massiv fremspi -\\nring af agerrævehale, mens den veletablerede vårbyg udkon -\\nkurrerer agerrævehale.FOTO: CARSTEN FABRICIUS, SEGES INNOVATION', mimetype='text/plain', start_char_idx=0, end_char_idx=2673, text_template='{metadata_str}\\n\\n{content}', metadata_template='{key}: {value}', metadata_seperator='\\n'), score=0.7926054091929144), NodeWithScore(node=TextNode(id_='2c939a08-17e0-4b3b-a50e-9d6f9c370522', embedding=None, metadata={'page_label': '57', 'file_name': 'planter_landsforsogene_2023.pdf', 'file_path': '/home/jaav/proj/RAG/advanced-rag-examples/data/docs/planter_landsforsogene_2023.pdf', 'file_type': 'application/pdf', 'file_size': 47095474, 'creation_date': '2024-08-05', 'last_modified_date': '2024-07-30'}, excluded_embed_metadata_keys=['file_name', 'file_type', 'file_size', 'creation_date', 'last_modified_date', 'last_accessed_date'], excluded_llm_metadata_keys=['file_name', 'file_type', 'file_size', 'creation_date', 'last_modified_date', 'last_accessed_date'], relationships={<NodeRelationship.SOURCE: '1'>: RelatedNodeInfo(node_id='4575211b-4892-4641-88d9-e8055fcdacf3', node_type=<ObjectType.DOCUMENT: '4'>, metadata={'page_label': '57', 'file_name': 'planter_landsforsogene_2023.pdf', 'file_path': '/home/jaav/proj/RAG/advanced-rag-examples/data/docs/planter_landsforsogene_2023.pdf', 'file_type': 'application/pdf', 'file_size': 47095474, 'creation_date': '2024-08-05', 'last_modified_date': '2024-07-30'}, hash='f0e0ae2067b20c0491158c129e205d89f8103fa43514e55ae317d45328a64325')}, text='56 VINTERHVEDE UKRUDTeffekt. Udfordringerne er for mange så voldsomme, at \\nde har store udbyttetab, og det kan være svært at se en \\nløsning på problemet. Hvis udviklingen skal vendes hos \\nden enkelte landmand, skal alle tiltag og aspekter i IPM \\n(integreret plantebeskyttelse) i anvendelse. De mange \\ntiltag skal ofte kombineres for at opnå en høj effekt og \\nbetyder reelt set for mange en ny tilgang til sædskifte, \\njordbearbejdning og management.\\nI et 3-årigt forløb støttet af Promilleafgiftsfonden for \\nLandbrug deltager 10 landmænd og deres konsulenter. \\nFormålet er at vise nye veje til at løse de massive ukrudts -\\nproblemer, som de udvalgte landmænd står med. Målet \\nmed forløbet er at give alle landbrugere inspiration til, \\nhvordan de kan tage IPM værktøjskassen i brug, gennem \\nstorskala-demonstrationer på arealer med græsukrudt. \\nDer deltager konsulenter fra rådgivningscentrene Fjord -\\nland, VKST, Patriotisk Selskab, Spiras og Velas. T re land -\\nmænd har problemer med agerrævehale og syv land -\\nmænd med italiensk rajgræs.Hos hver landmand bliver der afprøvet tre forskellige \\nstrategier i storskalaparceller på 1-2 hektar for hver par -\\ncel. De tre forskellige strategier fastlægges af henholds -\\nvis landmanden selv, den tilknyttede planteavlskonsu -\\nlent og af SEGES Innovation. Der skal dog tages højde \\nfor arealets jordtype og landmandens produktion, så \\ndet relaterer til praksis. Storparcellerne giver mulighed \\nfor at afprøve forskellige jordbearbejdningsstrategier, \\nforskellige afgrøder og forskellige former for ukrudtsbe -\\nkæmpelse. Vigtigst er at inddrage dyrkningshistorien og \\nfor hver strategi begrunde de valgte løsninger, hvor frø -\\npuljemanagement og IPM-værktøjer er i spil.\\nHos en landmand med udfordringer med agerrævehale \\npå svær lerjord er der i sæsonen 2022-2023 afprøvet tre \\nforskellige strategier:\\n1.  Landmanden vælger at udsætte sit såtidspunkt for \\nhvede med næsten fire uger, så han først har sået 4. \\noktober med traditionel pløjning og rotorharveså -\\nAlm. rajgræs udfylder pladsen mellem afgrøderækkerne i ube -\\nhandlet værneparcel.FOTO: POUL HENNING PETERSEN, SEGES INNOVATION\\nAgerrævehale ses i afgrøderækkerne i ubehandlet værnepar -\\ncel.FOTO: POUL HENNING PETERSEN, SEGES INNOVATION\\nT re gange radrensning har her effektivt bekæmpet alm. rajgræs \\nmellem rækkerne. Rajgræs i rækken er udsat for konkurrence \\nfra afgrøden.FOTO: POUL HENNING PETERSEN, SEGES INNOVATION\\nT re gange radrensning har her effektivt bekæmpet agerræve -\\nhale mellem rækkerne.FOTO: POUL HENNING PETERSEN, SEGES INNOVATION', mimetype='text/plain', start_char_idx=0, end_char_idx=2549, text_template='{metadata_str}\\n\\n{content}', metadata_template='{key}: {value}', metadata_seperator='\\n'), score=0.7892443182476586), NodeWithScore(node=TextNode(id_='63fd16bb-db68-4477-8d96-842e67a6140f', embedding=None, metadata={'page_label': '90', 'file_name': 'planter_landsforsogene_2023.pdf', 'file_path': '/home/jaav/proj/RAG/advanced-rag-examples/data/docs/planter_landsforsogene_2023.pdf', 'file_type': 'application/pdf', 'file_size': 47095474, 'creation_date': '2024-08-05', 'last_modified_date': '2024-07-30'}, excluded_embed_metadata_keys=['file_name', 'file_type', 'file_size', 'creation_date', 'last_modified_date', 'last_accessed_date'], excluded_llm_metadata_keys=['file_name', 'file_type', 'file_size', 'creation_date', 'last_modified_date', 'last_accessed_date'], relationships={<NodeRelationship.SOURCE: '1'>: RelatedNodeInfo(node_id='deda6684-5845-45e9-82ca-f3c389a0d19a', node_type=<ObjectType.DOCUMENT: '4'>, metadata={'page_label': '90', 'file_name': 'planter_landsforsogene_2023.pdf', 'file_path': '/home/jaav/proj/RAG/advanced-rag-examples/data/docs/planter_landsforsogene_2023.pdf', 'file_type': 'application/pdf', 'file_size': 47095474, 'creation_date': '2024-08-05', 'last_modified_date': '2024-07-30'}, hash='f95b819c6d76d59f019f55544881cd450987ad60c0186296e1a4eee2b27b2ef9')}, text='89 VÅRBYG SKADEDYR\\nforsøgene og heller ikke i de fire enkeltforsøg. Tidligere \\nårs forsøg viser relativt store merudbytter for bekæm -\\npelse af tidlige og kraftige angreb af bladlus, men her \\naftog angrebene heller ikke så hurtigt. Der har været nyt -\\ntedyr i forsøgene, men erfaringsvis kan disse ikke alene \\nbekæmpe kraftige angreb.TABEL 11.  Bekæmpelse af skadedyr i vårbyg (F11).\\nVårbygBehandlings-\\ntidspunktBladlus KornbladbillerHkg kerne \\npr. ha\\nPct. strå med Pct. dækning, bladgnav\\nUdb. \\nog \\nmer- \\nudb.Netto- \\nmer-\\nudb.Før første \\nbeh.14 dg efter \\nsidste beh.3 uger efter \\nsidste beh.Før første \\nbeh.14 d efter \\nsidste beh.3 uger efter \\nsidste beh.\\n2/6 22/6 10/7 2/6 22/6 10/7\\n2023. 4 forsøg\\n1.Ubehandlet - 85 3,6 1,3 0,01 4,3 1,9 52,1 -\\n2.0,15 l Mavrik Ved min. 25 pct. angrebne strå - 1,1 1,3 - 1,2 0,6 0,2 -0,9\\n3.0,14 kg T eppeki Ved min. 25 pct. angrebne strå - 1,6 0,8 - 2,4 0,1 -0,6 -2,2\\n4.0,1 kg T eppeki +\\n0,25 l Renol Ved min. 25 pct. angrebne strå - 1,8 1,3 - 2,8 0,6 -0,5 -1,8\\n5.0,15 l Mavrik 2 uger efter beh. led 2-4 - - 0,6 - - 0,1 -1,1 -2,2\\n6.0,14 kg T eppeki 2 uger efter beh. led 2-4 - - 0,1 - - 0,6 -1,8 -3,3\\n7.0,1 kg T eppeki +\\n0,25 l Renol 2 uger efter beh. led 2-4 - - 2,0 - - 1,9 -0,4 -1,8\\nLSD ns\\nDe mange bladlus i vårbyggen i 2023 har også resulteret i \\nmange nyttedyr. Ved kraftigere angreb kan nyttedyrene dog \\nikke holde angrebene nede. Øverst ses mariehønens larve hhv. \\npuppe. Både voksne og larver æder mange bladlus. Nederst \\nses en puppe af svirreflue hhv. en bladlus parasiteret af snyl -\\ntehvepse. Svirrefluelarver æder også bladlus. Skadedyrsmidlet \\nPirimor har kun effekt på bladlus og skåner nyttedyr.FOTOS: GHITA CORDSEN NIELSEN, SEGES INNOVATION', mimetype='text/plain', start_char_idx=0, end_char_idx=1691, text_template='{metadata_str}\\n\\n{content}', metadata_template='{key}: {value}', metadata_seperator='\\n'), score=0.7871778928369497), NodeWithScore(node=TextNode(id_='f367f197-8a41-4673-9d77-efa7a586936a', embedding=None, metadata={'page_label': '351', 'file_name': 'planter_landsforsogene_2022.pdf', 'file_path': '/home/jaav/proj/RAG/advanced-rag-examples/data/docs/planter_landsforsogene_2022.pdf', 'file_type': 'application/pdf', 'file_size': 53911931, 'creation_date': '2024-08-05', 'last_modified_date': '2024-07-30'}, excluded_embed_metadata_keys=['file_name', 'file_type', 'file_size', 'creation_date', 'last_modified_date', 'last_accessed_date'], excluded_llm_metadata_keys=['file_name', 'file_type', 'file_size', 'creation_date', 'last_modified_date', 'last_accessed_date'], relationships={<NodeRelationship.SOURCE: '1'>: RelatedNodeInfo(node_id='344705cf-e555-4146-98e4-8fe06f112c66', node_type=<ObjectType.DOCUMENT: '4'>, metadata={'page_label': '351', 'file_name': 'planter_landsforsogene_2022.pdf', 'file_path': '/home/jaav/proj/RAG/advanced-rag-examples/data/docs/planter_landsforsogene_2022.pdf', 'file_type': 'application/pdf', 'file_size': 53911931, 'creation_date': '2024-08-05', 'last_modified_date': '2024-07-30'}, hash='fa53fcd0e8446c930666449130d5fa2c34c027fac1172111039b83fc9b44c6bf'), <NodeRelationship.PREVIOUS: '2'>: RelatedNodeInfo(node_id='69dce583-1585-4ace-b744-65e8a3f8480a', node_type=<ObjectType.TEXT: '1'>, metadata={'page_label': '351', 'file_name': 'planter_landsforsogene_2022.pdf', 'file_path': '/home/jaav/proj/RAG/advanced-rag-examples/data/docs/planter_landsforsogene_2022.pdf', 'file_type': 'application/pdf', 'file_size': 53911931, 'creation_date': '2024-08-05', 'last_modified_date': '2024-07-30'}, hash='14dc4b1a4256d42a4e758e09b233e7b6ecf82886d3ff3358e710dc7141dcd678')}, text='I forsøgsled 3-7 er der bejdset med Force 20 CS, og effek -\\nten af supplerende sprøjtninger er undersøgt. I forsøgs -\\nled 4-6 er behandling med Lamdex mod tidlige angreb \\naf skadedyr undersøgt med en eller to behandlinger. I \\nforsøgsled 7 er i stedet anvendt pyrethroidet Mavrik, der \\nikke er godkendt i roer.05101520253035\\n161718192021222324252627Pct. planter med angreb\\nUgeMonitering af skadedyr 2022\\n Trips  Jordlopper\\n Runkelroebiller  Bedebladlus\\n  Ferskenbladlus\\nFIGUR 10.  Udviklingen af skadedyr i registreringsnettet på 12 \\nlokaliteter i 2022.\\nI 2022 optrådte der angreb af trips i flere roemarker. T rips  \\nsuger i hjerteskuddet og på bladundersiderne og medfører \\nfortykkede og deforme planter. Her ses også rødfarvning i hjer -\\nteskuddet. I nogle år ses trips også suge på kimstænglen under \\njordoverfladen.FOTO: ANNE LISBET HANSEN, NORDIC BEET RESEARCH', mimetype='text/plain', start_char_idx=2155, end_char_idx=3020, text_template='{metadata_str}\\n\\n{content}', metadata_template='{key}: {value}', metadata_seperator='\\n'), score=0.7864525442119366), NodeWithScore(node=TextNode(id_='ddccee85-2473-4ae7-9200-1b5713035fa4', embedding=None, metadata={'page_label': '113', 'file_name': 'planter_landsforsogene_2022.pdf', 'file_path': '/home/jaav/proj/RAG/advanced-rag-examples/data/docs/planter_landsforsogene_2022.pdf', 'file_type': 'application/pdf', 'file_size': 53911931, 'creation_date': '2024-08-05', 'last_modified_date': '2024-07-30'}, excluded_embed_metadata_keys=['file_name', 'file_type', 'file_size', 'creation_date', 'last_modified_date', 'last_accessed_date'], excluded_llm_metadata_keys=['file_name', 'file_type', 'file_size', 'creation_date', 'last_modified_date', 'last_accessed_date'], relationships={<NodeRelationship.SOURCE: '1'>: RelatedNodeInfo(node_id='94176e4e-1c3d-4f0b-baca-c78c2fc66cbb', node_type=<ObjectType.DOCUMENT: '4'>, metadata={'page_label': '113', 'file_name': 'planter_landsforsogene_2022.pdf', 'file_path': '/home/jaav/proj/RAG/advanced-rag-examples/data/docs/planter_landsforsogene_2022.pdf', 'file_type': 'application/pdf', 'file_size': 53911931, 'creation_date': '2024-08-05', 'last_modified_date': '2024-07-30'}, hash='a4a3ed2fc3548bba93118cebe5af078b2973553d3a1c4399887f1fecc06d16f4'), <NodeRelationship.NEXT: '3'>: RelatedNodeInfo(node_id='9145efc1-252a-4bd1-a9e3-29257f05827f', node_type=<ObjectType.TEXT: '1'>, metadata={}, hash='a032eec46efebf64c37821fde90b15c6e43e06c9267803ed4fa4034423df862e')}, text='111 BÆLGSÆD UKRUDT\\nProteinudbyttet ligger i gennemsnit af de fire forsøg over \\nto år på ca. 4,1 hkg pr. ha, men det har varieret kraftigt \\nfra under 1 til over 7 hkg pr. ha.\\nEn af udfordringerne ved dyrkning af linser er, at det er en \\nforholdsvis spinkel og svag afgrøde, der dels ikke konkur -\\nrerer særlig effektivt mod ukrudt, dels går kraftigt i leje \\nhenimod høst, hvilket både kan gøre den svær at samle \\nop og svær at få tør, hvis høsten bliver præget af regn.\\nDisse to års forsøg viser, at det er muligt at dyrke linser i \\nDanmark med et fornuftigt resultat. Der er dog et stort \\nbehov for at få udviklet og tilpasset både dyrkningstek -\\nnik og sorter til danske dyrkningsbetingelser.\\nUkrudt\\n >POUL HENNING PETERSEN OG  \\nCARSTEN FABRICIUS, SEGES INNOVATION\\nUkrudtsbekæmpelse i hestebønner\\nResultaterne af fem forsøg med forskellige strategier og \\nmidler til bekæmpelse af ukrudt  i hestebønne  er vist i ta -\\nbel 14, hvor også behandlingerne er beskrevet.\\nBehandlingerne før fremspiring i stadie 07-08 har væ -\\nret gennemført mellem 10 og 29 dage og i gennemsnit \\n20 dage efter såning. Behandlingerne i stadie 10-11 er \\nudført mellem 26 og 46 dage og i gennemsnit 36 dage \\nefter såning. Der har i forsøgsled 7 været mellem 7 og \\n13 dage mellem behandlingerne i stadie 10-11 og stadie \\n12-13. Ukrudtsbestandene har med 80 planter pr. m2 i \\ngennemsnit været forholdsvis beskedne, og har været \\ndomineret af agerstedmoder, snerlepileurt, burresnerre, \\nspildraps, fuglegræs, kamille, vejpileurt og ærenpris. I et \\nenkelt forsøg har der været almindelig brandbæger, som \\ni de senere år er set hyppigere som ukrudt. I de enkelte \\nforsøg har nogle få arter været dominerende. I forsøgs -\\nled 9 har der været behandlet efter behov ud fra forven -\\ntet ukrudtsbestand. Strategierne har været følgende: 1: \\n0,5 l Fenix + 0,1 Centium 360 CS efterfulgt af 1 l Fighter \\n480, 2: 0,5 l Fenix + 0,1 l Centium 360 CS efterfulgt af 0,5 \\nl Fighter 480, 3: 1,0 l Roundup Flex + 0,8 l Fenix, 4: 1,5 \\nl Fenix + 0,15 l Centium 360 CS og 5: 0,5 l Fenix + 0,1 l \\nCentium 360 CS efterfulgt af 1 l Fighter 480 pr. ha.\\nEn samlet gennemsnitlig effekt mod tokimbladet ukrudt \\npå mellem 37 og 70 procent af de forskellige løsninger \\ner ret beskeden, og må tilskrives de tørre forhold under fremspiringen og dermed i perioden, hvor behandlinger -\\nne er gennemført. Det understøttes af, at der i strategi -\\nerne primært indgår jordmidler, som virker bedst under \\nfugtige forhold.', mimetype='text/plain', start_char_idx=0, end_char_idx=2454, text_template='{metadata_str}\\n\\n{content}', metadata_template='{key}: {value}', metadata_seperator='\\n'), score=0.7857837701026179)] \n",
      "\n",
      "\n",
      "\n",
      "\n",
      "Normal Context:\n",
      "\n",
      " [NodeWithScore(node=TextNode(id_='bdc801d8-b325-48a0-af29-0eed1fe55000', embedding=None, metadata={'page_label': '128', 'file_name': 'planter_landsforsogene_2022.pdf', 'file_path': '/home/jaav/proj/RAG/advanced-rag-examples/data/docs/planter_landsforsogene_2022.pdf', 'file_type': 'application/pdf', 'file_size': 53911931, 'creation_date': '2024-08-05', 'last_modified_date': '2024-07-30'}, excluded_embed_metadata_keys=['file_name', 'file_type', 'file_size', 'creation_date', 'last_modified_date', 'last_accessed_date'], excluded_llm_metadata_keys=['file_name', 'file_type', 'file_size', 'creation_date', 'last_modified_date', 'last_accessed_date'], relationships={<NodeRelationship.SOURCE: '1'>: RelatedNodeInfo(node_id='60a6243b-ba90-4cf0-b09e-f5b8fa1b1e0f', node_type=<ObjectType.DOCUMENT: '4'>, metadata={'page_label': '128', 'file_name': 'planter_landsforsogene_2022.pdf', 'file_path': '/home/jaav/proj/RAG/advanced-rag-examples/data/docs/planter_landsforsogene_2022.pdf', 'file_type': 'application/pdf', 'file_size': 53911931, 'creation_date': '2024-08-05', 'last_modified_date': '2024-07-30'}, hash='774dc37167e6a07dd01e4209829f86cccc5572599bae096c396706d24a25fa1c'), <NodeRelationship.PREVIOUS: '2'>: RelatedNodeInfo(node_id='c0bb777a-3cf4-43b2-bf73-68777e09a0c7', node_type=<ObjectType.TEXT: '1'>, metadata={'page_label': '128', 'file_name': 'planter_landsforsogene_2022.pdf', 'file_path': '/home/jaav/proj/RAG/advanced-rag-examples/data/docs/planter_landsforsogene_2022.pdf', 'file_type': 'application/pdf', 'file_size': 53911931, 'creation_date': '2024-08-05', 'last_modified_date': '2024-07-30'}, hash='cb690a8645a4d7bdba1fa0760945efb365aaed93af15f17f053c5752cee72e6f')}, text='Den bed -\\nste bekæmpelse af væselhale er opnået i led 3, hvor der \\nhar været anvendt 0,7 l. Mateno Duo 600 SC pr. ha den \\n20. august – altså en tidlig sprøjtning. Indholdet af væ -\\nselhale i frøet i led 3 er dog stadig for højt i forhold til \\ncertificering, men er nedbragt væsentligt sammenlignet \\nmed ubehandlet. Tilsætning af Boxer giver i dette forsøg \\nfærre væselhaler i frøet, men kan grundet fordampning \\naf prosulfocarb ikke anvendes i praksis på de behand -\\nlingstidspunkter, der har været anvendt i dette forsøg. \\nDer har været en god bekæmpelse af alm. rapgræs i \\nSlemning efter kraftig nedbør umiddelbart efter såning giver \\nudfordringer med fremspiringen.FOTO: KRISTIAN JURANICH, SEGES INNOVATION', mimetype='text/plain', start_char_idx=4089, end_char_idx=4798, text_template='{metadata_str}\\n\\n{content}', metadata_template='{key}: {value}', metadata_seperator='\\n'), score=0.8261254989814707), NodeWithScore(node=TextNode(id_='682a028a-c227-47bc-9834-b038601d1abd', embedding=None, metadata={'page_label': '64', 'file_name': 'planter_landsforsogene_2022.pdf', 'file_path': '/home/jaav/proj/RAG/advanced-rag-examples/data/docs/planter_landsforsogene_2022.pdf', 'file_type': 'application/pdf', 'file_size': 53911931, 'creation_date': '2024-08-05', 'last_modified_date': '2024-07-30'}, excluded_embed_metadata_keys=['file_name', 'file_type', 'file_size', 'creation_date', 'last_modified_date', 'last_accessed_date'], excluded_llm_metadata_keys=['file_name', 'file_type', 'file_size', 'creation_date', 'last_modified_date', 'last_accessed_date'], relationships={<NodeRelationship.SOURCE: '1'>: RelatedNodeInfo(node_id='97a4ff9b-522a-4aed-92b3-a43bcab2b95a', node_type=<ObjectType.DOCUMENT: '4'>, metadata={'page_label': '64', 'file_name': 'planter_landsforsogene_2022.pdf', 'file_path': '/home/jaav/proj/RAG/advanced-rag-examples/data/docs/planter_landsforsogene_2022.pdf', 'file_type': 'application/pdf', 'file_size': 53911931, 'creation_date': '2024-08-05', 'last_modified_date': '2024-07-30'}, hash='496e7946bc34134ca77e6315713a0ff13c48c48e5ff5740c100a6397123b9811'), <NodeRelationship.PREVIOUS: '2'>: RelatedNodeInfo(node_id='d5351650-7511-449c-b434-889b8a0893da', node_type=<ObjectType.TEXT: '1'>, metadata={'page_label': '64', 'file_name': 'planter_landsforsogene_2022.pdf', 'file_path': '/home/jaav/proj/RAG/advanced-rag-examples/data/docs/planter_landsforsogene_2022.pdf', 'file_type': 'application/pdf', 'file_size': 53911931, 'creation_date': '2024-08-05', 'last_modified_date': '2024-07-30'}, hash='839506505d8d213d1a77bee05bb64239983ddd57d26b676619256dab49159cee')}, text='Angrebene ligger i 2022 på niveau med 2020, hvor \\nder også var en tør periode i foråret (medio marts-ultimo \\napril).\\nMeldug er kommet relativt sent, og angrebene har over -\\nvejende været svage til moderate. I enkeltmarker har \\ndog været mere udbredte angreb .TABEL 18.  Bekæmpelse af væselhale i vinterhvede om efter -\\nåret. (E16)\\nVinterhvede StadieVæselhale\\nKemi og \\nudbring-\\nning,\\nkr. pr. \\nhaOktober November\\nAntal \\nplanter \\npr. m2Antal \\nplanter \\npr. m2Procent \\neffekt\\n2021-22, 3 forsøg\\n1.Ubehandlet - 602 a 632 a  0 a  \\n2.1,5 l Boxer + 0,05 \\nl DFF 10-11 57 bc 41 b 92 b 360\\n3.0,7 l Mateno Duo + \\n1 l Boxer 10-11 9 de 4 c 99 de 542\\n4.0,5 l Mateno Duo + \\n1 l Boxer 10-11 6 de 2 cd 99 de 459\\n5.0,35 l Mateno Duo + \\n1,5 l Boxer 10-11 10 de 5 c 98 bcd 486\\n6.0,7 l Mateno Duo 10-11 69 bc 61 b 92 bc 362\\n7.0,5 l Mateno Duo + \\n1 l Boxer og\\n0,75 l Atlantis OD10-11\\n12 - 0 d 99 e 775\\n8.0,75 l Atlantis OD 12 - 174 ab 58 a 317\\n9.0,7 l Mateno Duo + \\n1 l Boxer 12 - 6 c 98 cd 542\\nResultater med forskellige bogstaver er signifikant forskellige.\\nOptimalt tidspunkt for bekæmpelse af væselhale med Boxer \\nog Mateno Duo.FOTO: SOFIE HÆSTRUP OLESEN, LANDBONORD', mimetype='text/plain', start_char_idx=1667, end_char_idx=2812, text_template='{metadata_str}\\n\\n{content}', metadata_template='{key}: {value}', metadata_seperator='\\n'), score=0.8118815719307365), NodeWithScore(node=TextNode(id_='8386ccf4-bdd2-47f6-b02e-bddb3971771c', embedding=None, metadata={'page_label': '46', 'file_name': 'planter_landsforsogene_2022.pdf', 'file_path': '/home/jaav/proj/RAG/advanced-rag-examples/data/docs/planter_landsforsogene_2022.pdf', 'file_type': 'application/pdf', 'file_size': 53911931, 'creation_date': '2024-08-05', 'last_modified_date': '2024-07-30'}, excluded_embed_metadata_keys=['file_name', 'file_type', 'file_size', 'creation_date', 'last_modified_date', 'last_accessed_date'], excluded_llm_metadata_keys=['file_name', 'file_type', 'file_size', 'creation_date', 'last_modified_date', 'last_accessed_date'], relationships={<NodeRelationship.SOURCE: '1'>: RelatedNodeInfo(node_id='110c3f91-30bb-4ac6-9022-835793b6e2cc', node_type=<ObjectType.DOCUMENT: '4'>, metadata={'page_label': '46', 'file_name': 'planter_landsforsogene_2022.pdf', 'file_path': '/home/jaav/proj/RAG/advanced-rag-examples/data/docs/planter_landsforsogene_2022.pdf', 'file_type': 'application/pdf', 'file_size': 53911931, 'creation_date': '2024-08-05', 'last_modified_date': '2024-07-30'}, hash='5115c4e278131f15bc5d4015593bd13e5c9d2b89d6f4655518594dd107faed3c'), <NodeRelationship.NEXT: '3'>: RelatedNodeInfo(node_id='d02ff30b-dc5e-4157-a2b4-e87cfecd62c5', node_type=<ObjectType.TEXT: '1'>, metadata={}, hash='64b313afae99fb660ad81e1a614b532fab8ec6545b143d0b1f145640f6292e9d')}, text='44 VINTERHVEDE SORTERVinterhvedesorter med og uden \\nsvampebekæmpelse\\nDer har været registreret relativt svage angreb af Septo -\\nria og svage angreb af de øvrige svampesygdomme i de \\nubehandlede parceller i de fire forsøg, hvor sorterne er \\nafprøvet med og uden bekæmpelse af svampe, det ses \\ni tabel 4. Sorten med det kraftigste angreb af Septoria \\ner KWS Firefly med 29,3 procent dækning, men i knap \\nhalvdelen af sorterne er der registreret mindre end 10 \\nprocent dækning. Merudbyttet for svampebekæmpelse \\ni de mest modtagelige sorter er på 5-10 hkg pr. ha, og i \\nde mindre modtagelige sorter er det på 2-4 hkg pr. ha.\\nI gennemsnit af alle sorter giver svampebekæmpelsen et \\nmerudbytte på 5,1 hkg pr. ha, varierende fra 1,3 hkg pr. ha i Wheat Mix 221 til 8,8 hkg pr. ha i KWS Boatum. Om -\\nkostningerne til svampebekæmpelse har i gennemsnit \\nsvaret til 3,3 hkg pr. ha. Nettomerudbyttet i sorterne, \\nefter omkostninger til svampebekæmpelse er fratrukket, \\nvarierer fra -2,1 hkg pr. ha i Wheat Mix 221 til 5,5 hkg pr. \\nha i KWS Boatum, og i gennemsnit af alle sorter er det \\n1,7 hkg pr. ha. Bekæmpelsen er rentabel i 41 af de 48 \\nafprøvede sorter, men i næsten halvdelen af sorterne er \\nnettomerudbyttet mindre end 1 hkg pr. ha.\\nBlandt de mest dyrkede sorter og sortsblandinger, ud -\\nmærker sortsblandingerne sig ved at indtage tre af de \\nsyv øverste pladser, når det gælder udbytte uden svam -\\npebekæmpelse. Det er et udtryk for sortsblandingernes \\ndyrkningssikkerhed og robusthed.\\nTABEL 4.  Vinterhvedesorter med og uden svampebekæmpelse, 2022. (E4)\\nA: Uden bekæmpelse af bladsvampe  \\nB: 0,15 liter Proline Xpert + 0,15 liter Propulse SE 250 og 0,6 liter Balaya og 0,4 liter Propulse SE 250 + 0,2 liter Orius Max 200 EW pr. \\nha udbragt ad tre gange eller 0,25 liter Orius Max 200 EW og 0,6 liter Balaya og 0,3 liter Propulse SE 250 + 0,3 liter Folicur Xpert pr. ha \\nudbragt ad tre gange eller 0,3 liter Orius Max 200 EW og 0,6 liter Balaya og 0,3 liter Propulse SE 250 + 0,3 liter Orius Max 200 EW pr. ha \\nudbragt ad tre gange eller 0,6 liter Balaya og 0,3 liter Propulse SE 250 + 0,25 liter Folicur Xpert EC 240 pr. ha udbragt ad to gange\\nVinterhvedePct. angreb i A\\nUdbytte,\\nhkg pr. haMerudb.', mimetype='text/plain', start_char_idx=0, end_char_idx=2195, text_template='{metadata_str}\\n\\n{content}', metadata_template='{key}: {value}', metadata_seperator='\\n'), score=0.8082726919197029), NodeWithScore(node=TextNode(id_='1e9ad1f2-7393-473a-a044-b3e6cf68d474', embedding=None, metadata={'page_label': '129', 'file_name': 'planter_landsforsogene_2023.pdf', 'file_path': '/home/jaav/proj/RAG/advanced-rag-examples/data/docs/planter_landsforsogene_2023.pdf', 'file_type': 'application/pdf', 'file_size': 47095474, 'creation_date': '2024-08-05', 'last_modified_date': '2024-07-30'}, excluded_embed_metadata_keys=['file_name', 'file_type', 'file_size', 'creation_date', 'last_modified_date', 'last_accessed_date'], excluded_llm_metadata_keys=['file_name', 'file_type', 'file_size', 'creation_date', 'last_modified_date', 'last_accessed_date'], relationships={<NodeRelationship.SOURCE: '1'>: RelatedNodeInfo(node_id='b3627b0a-dfea-42c7-aba5-b5809d6320b3', node_type=<ObjectType.DOCUMENT: '4'>, metadata={'page_label': '129', 'file_name': 'planter_landsforsogene_2023.pdf', 'file_path': '/home/jaav/proj/RAG/advanced-rag-examples/data/docs/planter_landsforsogene_2023.pdf', 'file_type': 'application/pdf', 'file_size': 47095474, 'creation_date': '2024-08-05', 'last_modified_date': '2024-07-30'}, hash='2a6fdbf57b1fefa02404b0bd687a5f1c2944fa195a2cd1483b264ea285a3da66'), <NodeRelationship.PREVIOUS: '2'>: RelatedNodeInfo(node_id='d339278a-b23c-42ee-8647-5e3c25d0f766', node_type=<ObjectType.TEXT: '1'>, metadata={'page_label': '129', 'file_name': 'planter_landsforsogene_2023.pdf', 'file_path': '/home/jaav/proj/RAG/advanced-rag-examples/data/docs/planter_landsforsogene_2023.pdf', 'file_type': 'application/pdf', 'file_size': 47095474, 'creation_date': '2024-08-05', 'last_modified_date': '2024-07-30'}, hash='c31f49f33d05fbc6f2bcbd0252462bdd86cd10373e908e00a1089397279e266b')}, text='>Ved svampebekæmpelse i vækststadium 65 opnås \\ngod effekt mod knoldbægersvamp og gråskimmel, \\nog der opnås en relativ god effekt på skulpesvamp. \\nDet bedste tidspunkt at bekæmpe skulpesvamp på \\ner ved afblomstring.\\n >Der anbefales omkring 70 procent dosis i vækststa -\\ndium 65.\\n >Effekten af en sprøjtning holder sig cirka 14 dage. \\nFor at forlænge effekten er der de senere år gen -\\nnemført forsøg med to behandlinger under blom -\\nstring. Ved lavt smittetryk har to behandlinger ikke \\nværet bedre end en. I nogle forsøg, men ikke alle \\nmed højt smittetryk af knoldbægersvamp, er der \\nopnået et sikkert højere nettomerudbytte ved at \\nudføre to behandlinger under blomstring. I år med \\nforventet højt smittetryk kan det derfor anbefales at \\nudføre behandling i vækststadium 65 og igen ca. 14 \\ndage senere. Der anbefales 70 procent henholdsvis \\n50 procent dosis ved de to behandlinger. Behandles \\nder kun i vækststadium 71, anbefales 70 procent \\ndosis.\\n >Flere forskellige løsninger under blomstring har re -\\nsulteret i nettomerudbytter på samme niveau.', mimetype='text/plain', start_char_idx=1982, end_char_idx=3033, text_template='{metadata_str}\\n\\n{content}', metadata_template='{key}: {value}', metadata_seperator='\\n'), score=0.8074034576788202), NodeWithScore(node=TextNode(id_='d5351650-7511-449c-b434-889b8a0893da', embedding=None, metadata={'page_label': '64', 'file_name': 'planter_landsforsogene_2022.pdf', 'file_path': '/home/jaav/proj/RAG/advanced-rag-examples/data/docs/planter_landsforsogene_2022.pdf', 'file_type': 'application/pdf', 'file_size': 53911931, 'creation_date': '2024-08-05', 'last_modified_date': '2024-07-30'}, excluded_embed_metadata_keys=['file_name', 'file_type', 'file_size', 'creation_date', 'last_modified_date', 'last_accessed_date'], excluded_llm_metadata_keys=['file_name', 'file_type', 'file_size', 'creation_date', 'last_modified_date', 'last_accessed_date'], relationships={<NodeRelationship.SOURCE: '1'>: RelatedNodeInfo(node_id='97a4ff9b-522a-4aed-92b3-a43bcab2b95a', node_type=<ObjectType.DOCUMENT: '4'>, metadata={'page_label': '64', 'file_name': 'planter_landsforsogene_2022.pdf', 'file_path': '/home/jaav/proj/RAG/advanced-rag-examples/data/docs/planter_landsforsogene_2022.pdf', 'file_type': 'application/pdf', 'file_size': 53911931, 'creation_date': '2024-08-05', 'last_modified_date': '2024-07-30'}, hash='496e7946bc34134ca77e6315713a0ff13c48c48e5ff5740c100a6397123b9811'), <NodeRelationship.NEXT: '3'>: RelatedNodeInfo(node_id='682a028a-c227-47bc-9834-b038601d1abd', node_type=<ObjectType.TEXT: '1'>, metadata={}, hash='f1dd37eab9360763f94b63115ffcfa5e3adb54a1e11587fbab2ce833901fb1fb')}, text='62 VINTERHVEDE SVAMPESYGDOMMEDen største indsats er sket med to behandlinger i forsøgs -\\nled 7, hvor Boxer + Mateno Duo i stadie 10-11 er fulgt op \\nmed Atlantis OD i stadie 12. Det har ikke øget effekten \\ni forhold til forsøgsled 4, hvor der har været samme be -\\nhandling i stadie 10-11. Dette stemmer overens med, at \\nAtlantis OD i forsøgsled 8 har haft svag effekt.\\nEndelig viser en sammenligning af forsøgsled 3 og 9, \\nat det under de gunstige sprøjteforhold ikke har kostet \\nvæsentligt tab af effekt at behandle i stadie 12 frem for \\nstadie 10-11.\\nEffekten har været høj af Boxer og Mateno Duo hver \\nfor sig, og kombinationer har rykket effekten yderligere \\nopad, men også øget omkostningerne. Mateno Duo har \\nogså i forsøg i 2020 sammen med Boxer vist gode effek -\\nter mod væselhale. Men uanset indsatsen, er der stadig \\nvæselhaleplanter tilbage.\\nDet understreger, at kemisk bekæmpelse af væselhale \\nikke kan stå alene, men at bestanden skal bringes ned \\npå et niveau, hvor de tilbageværende væselhale efter \\nkemisk bekæmpelse er få og uden betydning for fortsat \\nopformering og spredning.\\nSvampesygdomme\\n >GHITA CORDSEN NIELSEN, SEGES INNOVATION\\nRegistreringsnet\\nI figur 7-11 ses udviklingen af skadegørere i Planteavls -\\nkonsulenternes registreringsnet i 2022.\\nSeptoria (hvedegråplet) har været den mest udbredte \\nskadegører, men angrebene har været relativt svage og \\nhar først bredt sig sent i sæsonen. Septoria har været \\nhæmmet af det tørre vejr i marts, som blev den mest tør -\\nre, siden målingernes start i 1874, mens april og maj fik \\nlidt under gennemsnitlig nedbør. Mange af de nederste \\nblade med Septoria visnede i marts og forsinkede angre -\\nbene. Angrebene ligger i 2022 på niveau med 2020, hvor \\nder også var en tør periode i foråret (medio marts-ultimo \\napril).\\nMeldug er kommet relativt sent, og angrebene har over -\\nvejende været svage til moderate. I enkeltmarker har \\ndog været mere udbredte angreb .TABEL 18.  Bekæmpelse af væselhale i vinterhvede om efter -\\nåret. (E16)\\nVinterhvede StadieVæselhale\\nKemi og \\nudbring-\\nning,\\nkr. pr. \\nhaOktober November\\nAntal \\nplanter \\npr. m2Antal \\nplanter \\npr.', mimetype='text/plain', start_char_idx=0, end_char_idx=2119, text_template='{metadata_str}\\n\\n{content}', metadata_template='{key}: {value}', metadata_seperator='\\n'), score=0.8048558014178372)] \n",
      "\n",
      "\n"
     ]
    },
    {
     "data": {
      "text/markdown": [
       "Bekæmpelse af væselhale kan være en udfordring, da det er en robust ukrudtsart. Men der er flere metoder, der kan anvendes:\n",
       "\n",
       "1. Kemisk bekæmpelse: I nogle tilfælde kan kemiske herbicider anvendes til at bekæmpe væselhale. I en undersøgelse blev der anvendt forskellige kombinationer af herbicider, herunder Mateno Duo og Boxer, som viste gode resultater i bekæmpelsen af væselhale. Det er dog vigtigt at bemærke, at kemisk bekæmpelse ikke kan stå alene, og at det er nødvendigt at bringe bestanden ned på et niveau, hvor de tilbageværende væselhale efter kemisk bekæmpelse er få og uden betydning for fortsat opformering og spredning.\n",
       "\n",
       "2. Tidlig sprøjtning: Tidlig sprøjtning kan også være effektiv i bekæmpelsen af væselhale. I undersøgelsen blev der opnået bedst bekæmpelse ved tidlig sprøjtning den 20. august.\n",
       "\n",
       "3. Falsk såbed: En anden metode er at skabe et falsk såbed, hvor man lader væselhale spire og derefter ødelægger det ved at harve jorden, inden man sår afgrøden. Dette kan reducere mængden af væselhale, der spirer sammen med afgrøden.\n",
       "\n",
       "4. Konkurrencedygtige afgrøder: At så konkurrencedygtige afgrøder kan også hjælpe med at bekæmpe væselhale, da de kan konkurrere om lys, vand og næringsstoffer.\n",
       "\n",
       "5. Anvendelse af IPM-strategier: Integreret plantebeskyttelse (IPM) strategier, der kombinerer forskellige metoder til bekæmpelse af ukrudt, kan også være effektive. Dette kan omfatte en kombination af kemisk bekæmpelse, falsk såbed, konkurrencedygtige afgrøder og andre metoder.\n",
       "\n",
       "Det er vigtigt at bemærke, at effektiviteten af disse metoder kan variere afhængigt af specifikke dyrkningsforhold og væselhalepopulationer. Derfor kan det være nødvendigt at tilpasse strategierne til de specifikke forhold på din ejendom."
      ],
      "text/plain": [
       "<IPython.core.display.Markdown object>"
      ]
     },
     "metadata": {},
     "output_type": "display_data"
    }
   ],
   "source": [
    "# documents = SimpleDirectoryReader('./data/docs').load_data()\n",
    "# index = VectorStoreIndex.from_documents(documents=documents)\n",
    "step_back_query_engine = VerboseStepBackQueryEngine(retriever=index.as_retriever(similarity_top_k=5), llm=llm, verbose=True)\n",
    "\n",
    "step_back_response = step_back_query_engine.query(\"hvordan bekæmper jeg væselhale?\")\n",
    "display(Markdown(step_back_response['response']))"
   ]
  },
  {
   "cell_type": "code",
   "execution_count": 34,
   "metadata": {},
   "outputs": [
    {
     "name": "stdout",
     "output_type": "stream",
     "text": [
      "Score: 0.8261254989814707\n",
      "Score: 0.8118815719307365\n",
      "Score: 0.8082726919197029\n",
      "Score: 0.8074034576788202\n",
      "Score: 0.8048558014178372\n"
     ]
    }
   ],
   "source": [
    "normal_context = step_back_response['normal_context']\n",
    "\n",
    "for node_with_score in normal_context:\n",
    "    score = node_with_score.score\n",
    "    # text = node_with_score.node.text\n",
    "    print(f\"Score: {score}\")\n",
    "    # print(f\"Text: {text}\")"
   ]
  },
  {
   "cell_type": "code",
   "execution_count": 35,
   "metadata": {},
   "outputs": [
    {
     "name": "stdout",
     "output_type": "stream",
     "text": [
      "Score: 0.7926054091929144\n",
      "Score: 0.7892443182476586\n",
      "Score: 0.7871778928369497\n",
      "Score: 0.7864525442119366\n",
      "Score: 0.7857837701026179\n"
     ]
    }
   ],
   "source": [
    "step_back_context = step_back_response['step_back_context']\n",
    "\n",
    "for node_with_score in step_back_context:\n",
    "    score = node_with_score.score\n",
    "    print(f\"Score: {score}\")"
   ]
  },
  {
   "cell_type": "markdown",
   "metadata": {},
   "source": [
    "# Simple Hybrid Search"
   ]
  },
  {
   "cell_type": "code",
   "execution_count": 9,
   "metadata": {},
   "outputs": [],
   "source": [
    "from llama_index.core import Settings\n",
    "\n",
    "nodes = Settings.node_parser.get_nodes_from_documents(documents)"
   ]
  },
  {
   "cell_type": "code",
   "execution_count": 10,
   "metadata": {},
   "outputs": [],
   "source": [
    "from llama_index.core import StorageContext\n",
    "\n",
    "# initialize storage context (by default it's in-memory)\n",
    "storage_context = StorageContext.from_defaults()\n",
    "storage_context.docstore.add_documents(nodes)"
   ]
  },
  {
   "cell_type": "markdown",
   "metadata": {},
   "source": [
    "### Defining vector index and keyword index over the same data"
   ]
  },
  {
   "cell_type": "code",
   "execution_count": 11,
   "metadata": {},
   "outputs": [],
   "source": [
    "from llama_index.core import SimpleKeywordTableIndex, VectorStoreIndex\n",
    "\n",
    "vector_index = VectorStoreIndex(nodes, storage_context=storage_context)\n",
    "keyword_index = SimpleKeywordTableIndex(nodes, storage_context=storage_context)"
   ]
  },
  {
   "cell_type": "code",
   "execution_count": 39,
   "metadata": {},
   "outputs": [
    {
     "name": "stdout",
     "output_type": "stream",
     "text": [
      "<bound method VectorStoreIndex._get_node_with_embedding of <llama_index.core.indices.vector_store.base.VectorStoreIndex object at 0x7f381aaae990>>\n"
     ]
    }
   ],
   "source": [
    "elements = vector_index._get_node_with_embedding\n",
    "\n",
    "print(elements)"
   ]
  },
  {
   "cell_type": "markdown",
   "metadata": {},
   "source": [
    "### Defining custom retriever"
   ]
  },
  {
   "cell_type": "code",
   "execution_count": 102,
   "metadata": {},
   "outputs": [],
   "source": [
    "# import QueryBundle\n",
    "from llama_index.core import QueryBundle\n",
    "from llama_index.core.query_engine import RetrieverQueryEngine\n",
    "\n",
    "# import NodeWithScore\n",
    "from llama_index.core.schema import NodeWithScore\n",
    "\n",
    "# Retrievers\n",
    "from llama_index.core.retrievers import (\n",
    "    BaseRetriever,\n",
    "    VectorIndexRetriever,\n",
    "    KeywordTableSimpleRetriever,\n",
    "    # KeywordTableGPTRetriever,\n",
    ")\n",
    "\n",
    "from typing import List\n",
    "from langchain_community.retrievers import BM25Retriever"
   ]
  },
  {
   "cell_type": "code",
   "execution_count": 79,
   "metadata": {},
   "outputs": [],
   "source": [
    "class CustomRetriever(BaseRetriever):\n",
    "    \"\"\"Custom retriever that performs both semantic search and hybrid search.\"\"\"\n",
    "\n",
    "    def __init__(\n",
    "        self,\n",
    "        vector_retriever: VectorIndexRetriever,\n",
    "        keyword_retriever: KeywordTableSimpleRetriever,\n",
    "        mode: str = \"AND\",\n",
    "    ) -> None:\n",
    "        \"\"\"Init params.\"\"\"\n",
    "\n",
    "        self._vector_retriever = vector_retriever\n",
    "        self._keyword_retriever = keyword_retriever\n",
    "        if mode not in (\"AND\", \"OR\"):\n",
    "            raise ValueError(\"Invalid mode.\")\n",
    "        self._mode = mode\n",
    "        super().__init__()\n",
    "\n",
    "    def _retrieve(self, query_bundle: QueryBundle) -> List[NodeWithScore]:\n",
    "        \"\"\"Retrieve nodes given query.\"\"\"\n",
    "\n",
    "        vector_nodes = self._vector_retriever.retrieve(query_bundle)\n",
    "        keyword_nodes = self._keyword_retriever.retrieve(query_bundle)\n",
    "\n",
    "        vector_ids = {n.node.node_id for n in vector_nodes}\n",
    "        keyword_ids = {n.node.node_id for n in keyword_nodes}\n",
    "\n",
    "        combined_dict = {n.node.node_id: n for n in vector_nodes}\n",
    "        combined_dict.update({n.node.node_id: n for n in keyword_nodes})\n",
    "\n",
    "        if self._mode == \"AND\":\n",
    "            retrieve_ids = vector_ids.intersection(keyword_ids)\n",
    "        else:\n",
    "            retrieve_ids = vector_ids.union(keyword_ids)\n",
    "\n",
    "        retrieve_nodes = [combined_dict[rid] for rid in retrieve_ids]\n",
    "        return retrieve_nodes\n",
    "        # return{\n",
    "        #     \"retrieve_nodes\": retrieve_nodes,\n",
    "        #     \"vector_nodes\": vector_nodes,\n",
    "        #     \"keyword_nodes\": keyword_nodes\n",
    "        # }"
   ]
  },
  {
   "cell_type": "code",
   "execution_count": 109,
   "metadata": {},
   "outputs": [],
   "source": [
    "class LLMQueryEngine(RetrieverQueryEngine):\n",
    "    def __init__(self,retriever,llm):\n",
    "        super().__init__(retriever=retriever, response_synthesizer=None)\n",
    "        self.llm = llm\n",
    "    \n",
    "    def query(self, query_str: str):\n",
    "        # Retrieve contexts\n",
    "        retrieved_contexts = self.retriever.retrieve(query_str)\n",
    "\n",
    "        # retrieved_nodes = retrieved_contexts['retrieve_nodes']\n",
    "\n",
    "        # vector_nodes = retrieved_contexts['vector_nodes']\n",
    "\n",
    "        # keyword_nodes = retrieved_contexts['keyword_nodes']\n",
    "\n",
    "        # Combine retrieved contexts into a single prompt\n",
    "        combined_context = \"\\n\".join([context.node.get_content() for context in retrieved_contexts])\n",
    "        prompt = f\"Query: {query_str}\\nContext: {combined_context}\\n Response:\"\n",
    "\n",
    "        # Generate response using the LLM\n",
    "        response = self.llm.complete(prompt)\n",
    "\n",
    "        return response\n",
    "        # return{\n",
    "        #     \"response\": str(response),\n",
    "        #     \"context\": combined_context,\n",
    "        #     \"vector_nodes\": vector_nodes,\n",
    "        #     \"keyword_nodes\": keyword_nodes\n",
    "        # }"
   ]
  },
  {
   "cell_type": "code",
   "execution_count": 99,
   "metadata": {},
   "outputs": [],
   "source": [
    "from llama_index.core import get_response_synthesizer\n",
    "from llama_index.core.query_engine import RetrieverQueryEngine\n",
    "\n",
    "# define custom retriever\n",
    "vector_retriever = VectorIndexRetriever(index=vector_index, similarity_top_k=2)\n",
    "keyword_retriever = KeywordTableSimpleRetriever(index=keyword_index)\n",
    "custom_retriever = CustomRetriever(vector_retriever, keyword_retriever, mode='OR')\n",
    "\n",
    "# define response synthesizer\n",
    "response_synthesizer = get_response_synthesizer()\n",
    "\n",
    "# assemble query engine\n",
    "custom_query_engine = RetrieverQueryEngine(\n",
    "    retriever=custom_retriever,\n",
    "    response_synthesizer=response_synthesizer,\n",
    ")\n",
    "\n",
    "# vector query engine\n",
    "vector_query_engine = RetrieverQueryEngine(\n",
    "    retriever=vector_retriever,\n",
    "    response_synthesizer=response_synthesizer,\n",
    ")\n",
    "# keyword query engine\n",
    "keyword_query_engine = RetrieverQueryEngine(\n",
    "    retriever=keyword_retriever,\n",
    "    response_synthesizer=response_synthesizer,\n",
    ")"
   ]
  },
  {
   "cell_type": "code",
   "execution_count": 104,
   "metadata": {},
   "outputs": [
    {
     "name": "stdout",
     "output_type": "stream",
     "text": [
      "[NodeWithScore(node=TextNode(id_='04a870e0-26e0-4798-9b17-d16870e12a51', embedding=None, metadata={'page_label': '134', 'file_name': 'planter_landsforsogene_2022.pdf', 'file_path': '/home/jaav/proj/RAG/advanced-rag-examples/data/docs/planter_landsforsogene_2022.pdf', 'file_type': 'application/pdf', 'file_size': 53911931, 'creation_date': '2024-08-05', 'last_modified_date': '2024-07-30'}, excluded_embed_metadata_keys=['file_name', 'file_type', 'file_size', 'creation_date', 'last_modified_date', 'last_accessed_date'], excluded_llm_metadata_keys=['file_name', 'file_type', 'file_size', 'creation_date', 'last_modified_date', 'last_accessed_date'], relationships={<NodeRelationship.SOURCE: '1'>: RelatedNodeInfo(node_id='b8f9a4e8-d1b4-4614-b42b-295f2e6c4b17', node_type=<ObjectType.DOCUMENT: '4'>, metadata={'page_label': '134', 'file_name': 'planter_landsforsogene_2022.pdf', 'file_path': '/home/jaav/proj/RAG/advanced-rag-examples/data/docs/planter_landsforsogene_2022.pdf', 'file_type': 'application/pdf', 'file_size': 53911931, 'creation_date': '2024-08-05', 'last_modified_date': '2024-07-30'}, hash='0f5dd687e9613cfcf42abd4604206273699cb76746dc143d239512f4e1c4ebc5'), <NodeRelationship.NEXT: '3'>: RelatedNodeInfo(node_id='6a0726ea-6c02-4cb9-b6d4-c6ce26aeb388', node_type=<ObjectType.TEXT: '1'>, metadata={}, hash='666330db152f5ce704f7b55234fd47a2481f6ed2c8a7b4d3e553f58370827ef4')}, text='132 MARKFRØ RØDSVINGELi afgrøden er mindre. Og at opfølgning med Kerb 400 SC \\nbør ske om efteråret i november. Der er opnået tilladelse \\ntil mindre anvendelse af Kerb 400 SC til afskærmet ræk -\\nkesprøjtning, hvilket betyder, at der i 2023 bliver gen -\\nnemført lignende rækkesprøjteforsøg, også i andre ræk -\\nkedyrkede frøafgrøder end alm. rajgræs.\\nFosfor strategi ved etablering af alm. rajgræs\\nI dette forsøg, som er gennemført i samarbejde med DLF, \\nundersøges, om der ved at tilføre fosfor til alm. rajgræs \\nkan opnås et højere udbytte via en bedre etablering ved \\netablering i renbestand om efteråret. Forsøget skal også \\nundersøge effekten af placering ved såning kontra bred -\\nspredning efter såning. Som det fremgår af tabel 9, er der \\nplaceret 18 eller 36 kg kvælstof pr. ha ved såning eller \\nbredspredt samme mængde efter såning. Alle led er i for -\\nåret tildelt 162 kg kvælstof pr. ha og 13 kg fosfor pr. ha \\nbredspredt. Der er i forsøget ikke opnået et signifikant \\nstørre udbytte ved gødningsplacering frem for bred -\\nspredning i stadie 13-15. Forsøget viser dog en udbytte -\\nstigning ved at placere 36 kg kvælstof pr. ha fremfor 18 \\nkg kvælstof pr. ha. Sammenligner man led 3 og 7, hvor der henholdsvis placeres og bredspredes 36 kg kvælstof \\npr. ha og 40 kg fosfor pr. ha, er der i dette forsøg ikke \\nhøstes et merudbytte for at placere gødningen. Forsøget \\ngentages i 2023.\\nRødsvingel\\nBekæmpelse af væselhale i rødsvingel\\nI 2022 er der i samarbejde med DLF gennemført forsøg \\nmed at bekæmpe væselhale i rødsvingel . Der indgår to \\nforsøg i denne forsøgsserie, som begge er udført i 1. års \\nrødsvingel af en type med lange udløbere udlagt i vår -\\nbyg. Væselhale skal bekæmpes så tidligt som muligt, \\nhvilket vil sige kort tid efter høst af dæksæd. For at få \\nbedst mulig effekt af Mateno Duo 600 SC, er det afgø -\\nrende, at der er en vis jordfugt til stede, hvilket kan være \\nen udfordring i august måned. Som det fremgår af tabel \\n10, er der ikke signifikante udbyttetab ved nogle af be -\\nhandlingerne, og der er effekt på indholdet af væselhale \\ni frøanalysen ved behandling med Mateno Duo 600 SC. \\nI det ubehandlede led er der et indhold på 0,15 procent \\nvæselhale i frøet, og i alle behandlingerne er dette redu -\\nceret. Bedste behandling er i led 3, hvor der er behand -\\nlet med 0,7 l. Mateno Duo 600 SC pr. ha den 20. august. \\nHer er der ikke fundet væselhale i frøet, og der er et lille \\nmerudbytte for behandlingen, merudbyttet er dog ikke \\nsignifikant.', mimetype='text/plain', start_char_idx=0, end_char_idx=2475, text_template='{metadata_str}\\n\\n{content}', metadata_template='{key}: {value}', metadata_seperator='\\n'), score=None), NodeWithScore(node=TextNode(id_='6a0726ea-6c02-4cb9-b6d4-c6ce26aeb388', embedding=None, metadata={'page_label': '134', 'file_name': 'planter_landsforsogene_2022.pdf', 'file_path': '/home/jaav/proj/RAG/advanced-rag-examples/data/docs/planter_landsforsogene_2022.pdf', 'file_type': 'application/pdf', 'file_size': 53911931, 'creation_date': '2024-08-05', 'last_modified_date': '2024-07-30'}, excluded_embed_metadata_keys=['file_name', 'file_type', 'file_size', 'creation_date', 'last_modified_date', 'last_accessed_date'], excluded_llm_metadata_keys=['file_name', 'file_type', 'file_size', 'creation_date', 'last_modified_date', 'last_accessed_date'], relationships={<NodeRelationship.SOURCE: '1'>: RelatedNodeInfo(node_id='b8f9a4e8-d1b4-4614-b42b-295f2e6c4b17', node_type=<ObjectType.DOCUMENT: '4'>, metadata={'page_label': '134', 'file_name': 'planter_landsforsogene_2022.pdf', 'file_path': '/home/jaav/proj/RAG/advanced-rag-examples/data/docs/planter_landsforsogene_2022.pdf', 'file_type': 'application/pdf', 'file_size': 53911931, 'creation_date': '2024-08-05', 'last_modified_date': '2024-07-30'}, hash='0f5dd687e9613cfcf42abd4604206273699cb76746dc143d239512f4e1c4ebc5'), <NodeRelationship.PREVIOUS: '2'>: RelatedNodeInfo(node_id='04a870e0-26e0-4798-9b17-d16870e12a51', node_type=<ObjectType.TEXT: '1'>, metadata={'page_label': '134', 'file_name': 'planter_landsforsogene_2022.pdf', 'file_path': '/home/jaav/proj/RAG/advanced-rag-examples/data/docs/planter_landsforsogene_2022.pdf', 'file_type': 'application/pdf', 'file_size': 53911931, 'creation_date': '2024-08-05', 'last_modified_date': '2024-07-30'}, hash='122079d7eb6fb0bb816e97ea0d65523601f9b6b5f613f8ea68ef55e8dadbc363')}, text='Som det fremgår af tabel \\n10, er der ikke signifikante udbyttetab ved nogle af be -\\nhandlingerne, og der er effekt på indholdet af væselhale \\ni frøanalysen ved behandling med Mateno Duo 600 SC. \\nI det ubehandlede led er der et indhold på 0,15 procent \\nvæselhale i frøet, og i alle behandlingerne er dette redu -\\nceret. Bedste behandling er i led 3, hvor der er behand -\\nlet med 0,7 l. Mateno Duo 600 SC pr. ha den 20. august. \\nHer er der ikke fundet væselhale i frøet, og der er et lille \\nmerudbytte for behandlingen, merudbyttet er dog ikke \\nsignifikant. Som det er set i andre forsøg med Mateno \\nDuo 600 SC, giver kombinationen med Boxer en bedre \\nbekæmpelse af væselhale. Dette er dog ikke så udtalt i \\ndette forsøg. Sammenligner man led 2 og led 7, hvor der \\ner tilsat 1 l. Boxer pr. ha, har dette givet en lille reduktion \\npå 0,05 procent væselhale i frøet. Denne forskel havde \\nsandsynligvis været større, hvis der havde været mere \\nforurening med væselhale i forsøget. Konklusionen er, at \\nen tidlig behandling med Mateno Duo 600 SC har effekt \\npå væselhale. Tilsætning af Boxer kan give en bedre be -\\nkæmpelse af væselhale, men er problematisk anvende \\npå det tidlige tidspunkt grundet af fordampningsproble -\\nmatikken omkring prosulfocarb.\\nTest af såmaskiner til etablering af frø\\nI dette etableringsforsøg ses der på etablering af frø og \\ndet udstyr, der skal sikre, at etableringen bliver et stykke \\npræcisionsarbejde. Forsøget skal belyse, om udstyret til \\nfrøsåning er præcist nok i forhold til udsåning både på \\nlangs og på tværs af maskinerne, og om selve etablerin -\\ngen er så nøjagtig, som vi altid håber og tror på, den er. \\nTil at efterprøve det er gennemført et On-Farm forsøg, \\nAfskærmet rækkesprøjtning, et ny værktøj i græsukrudtsbe -\\nkæmpelsen.FOTO: KRISTIAN JURANICH, SEGES INNOVATION\\nTABEL 9.  Fosfor strategi ved etablering af alm. rajgræs (J9)\\nRajgræsKg N \\npr. ha.Kg P \\npr. ha.Kar.1)\\nfor \\nlejesæd \\nd. 23/6Udb. og \\nmerudb., \\nkg frø \\npr. ha\\n2022. 1 forsøg\\n1.Ingen behandling 0 0 4 1.348\\n2.NP 18-20-02)18 20 5 116\\n3.NP 18-20-02)36 40 6 281\\n4.N 272)36 0 5 75\\n5.NPK 21-3-102)18 3 5 163\\n6.NPK 21-3-102)36 5 6 303\\n7.NP 18-20-03)36 40 5 224\\n8.NPK 21-3-103)36 5 6 321\\n9.N 273)36 0 6 328\\nLSD ns\\n1) Skala 0-10, hvor  0 = ingen lejesæd, og 10 = helt i leje.\\n2) Placeret ved såning\\n3) Bredspredt, stadie 13-15', mimetype='text/plain', start_char_idx=1920, end_char_idx=4244, text_template='{metadata_str}\\n\\n{content}', metadata_template='{key}: {value}', metadata_seperator='\\n'), score=None), NodeWithScore(node=TextNode(id_='137df58e-e823-4c27-845c-724a2adde054', embedding=None, metadata={'page_label': '128', 'file_name': 'planter_landsforsogene_2022.pdf', 'file_path': '/home/jaav/proj/RAG/advanced-rag-examples/data/docs/planter_landsforsogene_2022.pdf', 'file_type': 'application/pdf', 'file_size': 53911931, 'creation_date': '2024-08-05', 'last_modified_date': '2024-07-30'}, excluded_embed_metadata_keys=['file_name', 'file_type', 'file_size', 'creation_date', 'last_modified_date', 'last_accessed_date'], excluded_llm_metadata_keys=['file_name', 'file_type', 'file_size', 'creation_date', 'last_modified_date', 'last_accessed_date'], relationships={<NodeRelationship.SOURCE: '1'>: RelatedNodeInfo(node_id='60a6243b-ba90-4cf0-b09e-f5b8fa1b1e0f', node_type=<ObjectType.DOCUMENT: '4'>, metadata={'page_label': '128', 'file_name': 'planter_landsforsogene_2022.pdf', 'file_path': '/home/jaav/proj/RAG/advanced-rag-examples/data/docs/planter_landsforsogene_2022.pdf', 'file_type': 'application/pdf', 'file_size': 53911931, 'creation_date': '2024-08-05', 'last_modified_date': '2024-07-30'}, hash='774dc37167e6a07dd01e4209829f86cccc5572599bae096c396706d24a25fa1c'), <NodeRelationship.PREVIOUS: '2'>: RelatedNodeInfo(node_id='327158ed-b759-4c0b-aec9-6d7dd4053bf2', node_type=<ObjectType.TEXT: '1'>, metadata={'page_label': '128', 'file_name': 'planter_landsforsogene_2022.pdf', 'file_path': '/home/jaav/proj/RAG/advanced-rag-examples/data/docs/planter_landsforsogene_2022.pdf', 'file_type': 'application/pdf', 'file_size': 53911931, 'creation_date': '2024-08-05', 'last_modified_date': '2024-07-30'}, hash='fd6de1ba5faadd9a9e96f049e748a8f25ada95baf147d8c0c8fd81286015e0ee'), <NodeRelationship.NEXT: '3'>: RelatedNodeInfo(node_id='921e9eea-6d6a-445e-acda-43dc47d99a12', node_type=<ObjectType.TEXT: '1'>, metadata={}, hash='242db17e5025fbd9cd107f7f031d88c71df9d28f8436c03878bb93061c4db179')}, text='200, \\n400 og 600 kilo kvælstof pr. ha direkte i båndene med \\nfrøudlægget. Desværre er forsøgsarealet umiddelbart \\nefter såning blevet ramt af nogle særdeles kraftige tor -\\ndenbyger, hvilket har resulteret i skorpedannelse og en \\nvanskelig og meget uens fremspiring. For at kompensere \\nfor dette, er der primo maj måned isået 3,5 kilo engrap -\\ngræs pr. ha med rulleskær direkte oven i sårækken med \\nfrø. Isåningen har betydet, at skorpen er blevet brudt, \\nog fremspiringen af engrapgræsset er blevet forbedret. \\nSommerens tørke har ikke været gavnlig for udlæggets \\nvækst, og de i forvejen udfordrede planter har haft det \\nhårdt, efter dæksæden er blevet høstet. Der er den 24. \\noktober 2022 foretaget droneoverflyvning af forsøget og målt NDVI og NDRE. Disse målinger viser dog ikke \\nsynlige forskelle i parcellerne, sandsynligvis grundet en \\nmeget tør vækstsæson, som har påvirket udviklingen af \\nudlægget. Registreringer viser dog en farveforskel mel -\\nlem parceller uden startgødning og parceller med. Der \\ner dog ikke visuel forskel mellem de forskellige N-mæng -\\nder. Forsøget fortsætter i 2023, hvor der skal udføres \\nhøstforsøg. Her vil det vise sig, om der er udbyttemæssig \\nforskel mellem de forskellige gødningsmængder.\\nBekæmpelse af alm. rapgræs og væselhale i \\n2. års engrapgræs\\nI samarbejde med DLF er der i 2022 gennemført forsøg \\nmed Mateno Duo 600 SC og Boxer til bekæmpelse af \\nalm. rapgræs og væselhale i engrapgræs. Forsøgsarealet \\nhar haft en meget stor forekomst af væselhale, hvilket \\nogså kan ses i tabel 3, hvor der i det ubehandlede led \\nhar været 18,3 procent dækning af jord med væselhale. \\nI forsøget har der været anvendt Mateno Duo 600 SC på \\nto behandlingstidspunkter, en tidlig behandling den 20. \\naugust og en senere behandling den 15. september. Der \\ner i alle forsøgsled merudbytte for at bekæmpe græsuk -\\nrudt, samt nettomerudbytte for behandlingerne.\\nVæselhale skal bekæmpes på så tidligt et stadie som mu -\\nligt, hvilket forsøget også viser. Der er generelt et lavere \\nindhold af væselhale i frøet i de led, hvor der er anvendt \\nMateno Duo 600 SC på det tidlige tidspunkt. Den bed -\\nste bekæmpelse af væselhale er opnået i led 3, hvor der \\nhar været anvendt 0,7 l. Mateno Duo 600 SC pr. ha den \\n20. august – altså en tidlig sprøjtning. Indholdet af væ -\\nselhale i frøet i led 3 er dog stadig for højt i forhold til \\ncertificering, men er nedbragt væsentligt sammenlignet \\nmed ubehandlet. Tilsætning af Boxer giver i dette forsøg \\nfærre væselhaler i frøet, men kan grundet fordampning \\naf prosulfocarb ikke anvendes i praksis på de behand -\\nlingstidspunkter, der har været anvendt i dette forsøg.', mimetype='text/plain', start_char_idx=1978, end_char_idx=4611, text_template='{metadata_str}\\n\\n{content}', metadata_template='{key}: {value}', metadata_seperator='\\n'), score=None), NodeWithScore(node=TextNode(id_='fcf13269-d085-476f-9699-27e9764d4629', embedding=None, metadata={'page_label': '64', 'file_name': 'planter_landsforsogene_2022.pdf', 'file_path': '/home/jaav/proj/RAG/advanced-rag-examples/data/docs/planter_landsforsogene_2022.pdf', 'file_type': 'application/pdf', 'file_size': 53911931, 'creation_date': '2024-08-05', 'last_modified_date': '2024-07-30'}, excluded_embed_metadata_keys=['file_name', 'file_type', 'file_size', 'creation_date', 'last_modified_date', 'last_accessed_date'], excluded_llm_metadata_keys=['file_name', 'file_type', 'file_size', 'creation_date', 'last_modified_date', 'last_accessed_date'], relationships={<NodeRelationship.SOURCE: '1'>: RelatedNodeInfo(node_id='97a4ff9b-522a-4aed-92b3-a43bcab2b95a', node_type=<ObjectType.DOCUMENT: '4'>, metadata={'page_label': '64', 'file_name': 'planter_landsforsogene_2022.pdf', 'file_path': '/home/jaav/proj/RAG/advanced-rag-examples/data/docs/planter_landsforsogene_2022.pdf', 'file_type': 'application/pdf', 'file_size': 53911931, 'creation_date': '2024-08-05', 'last_modified_date': '2024-07-30'}, hash='496e7946bc34134ca77e6315713a0ff13c48c48e5ff5740c100a6397123b9811'), <NodeRelationship.NEXT: '3'>: RelatedNodeInfo(node_id='ba04c6dc-8a52-4815-bef9-aaadda0ae3e2', node_type=<ObjectType.TEXT: '1'>, metadata={}, hash='f1dd37eab9360763f94b63115ffcfa5e3adb54a1e11587fbab2ce833901fb1fb')}, text='62 VINTERHVEDE SVAMPESYGDOMMEDen største indsats er sket med to behandlinger i forsøgs -\\nled 7, hvor Boxer + Mateno Duo i stadie 10-11 er fulgt op \\nmed Atlantis OD i stadie 12. Det har ikke øget effekten \\ni forhold til forsøgsled 4, hvor der har været samme be -\\nhandling i stadie 10-11. Dette stemmer overens med, at \\nAtlantis OD i forsøgsled 8 har haft svag effekt.\\nEndelig viser en sammenligning af forsøgsled 3 og 9, \\nat det under de gunstige sprøjteforhold ikke har kostet \\nvæsentligt tab af effekt at behandle i stadie 12 frem for \\nstadie 10-11.\\nEffekten har været høj af Boxer og Mateno Duo hver \\nfor sig, og kombinationer har rykket effekten yderligere \\nopad, men også øget omkostningerne. Mateno Duo har \\nogså i forsøg i 2020 sammen med Boxer vist gode effek -\\nter mod væselhale. Men uanset indsatsen, er der stadig \\nvæselhaleplanter tilbage.\\nDet understreger, at kemisk bekæmpelse af væselhale \\nikke kan stå alene, men at bestanden skal bringes ned \\npå et niveau, hvor de tilbageværende væselhale efter \\nkemisk bekæmpelse er få og uden betydning for fortsat \\nopformering og spredning.\\nSvampesygdomme\\n >GHITA CORDSEN NIELSEN, SEGES INNOVATION\\nRegistreringsnet\\nI figur 7-11 ses udviklingen af skadegørere i Planteavls -\\nkonsulenternes registreringsnet i 2022.\\nSeptoria (hvedegråplet) har været den mest udbredte \\nskadegører, men angrebene har været relativt svage og \\nhar først bredt sig sent i sæsonen. Septoria har været \\nhæmmet af det tørre vejr i marts, som blev den mest tør -\\nre, siden målingernes start i 1874, mens april og maj fik \\nlidt under gennemsnitlig nedbør. Mange af de nederste \\nblade med Septoria visnede i marts og forsinkede angre -\\nbene. Angrebene ligger i 2022 på niveau med 2020, hvor \\nder også var en tør periode i foråret (medio marts-ultimo \\napril).\\nMeldug er kommet relativt sent, og angrebene har over -\\nvejende været svage til moderate. I enkeltmarker har \\ndog været mere udbredte angreb .TABEL 18.  Bekæmpelse af væselhale i vinterhvede om efter -\\nåret. (E16)\\nVinterhvede StadieVæselhale\\nKemi og \\nudbring-\\nning,\\nkr. pr. \\nhaOktober November\\nAntal \\nplanter \\npr. m2Antal \\nplanter \\npr.', mimetype='text/plain', start_char_idx=0, end_char_idx=2119, text_template='{metadata_str}\\n\\n{content}', metadata_template='{key}: {value}', metadata_seperator='\\n'), score=None)]\n"
     ]
    }
   ],
   "source": [
    "retrieved_chunks = keyword_retriever.retrieve(\"hvordan bekæmper jeg væselhale?\")\n",
    "print(retrieved_chunks)"
   ]
  },
  {
   "cell_type": "code",
   "execution_count": 105,
   "metadata": {},
   "outputs": [
    {
     "name": "stdout",
     "output_type": "stream",
     "text": [
      "['bekæmper', 'jeg', 'hvordan', 'væselhale']\n"
     ]
    }
   ],
   "source": [
    "keywords = keyword_retriever._get_keywords(\"hvordan bekæmper jeg væselhale?\")\n",
    "print(keywords)"
   ]
  },
  {
   "cell_type": "code",
   "execution_count": 122,
   "metadata": {},
   "outputs": [
    {
     "data": {
      "text/markdown": [
       "For at bekæmpe væselhale, kan du anvende Mateno Duo 600 SC. Det er vigtigt at behandle så tidligt som muligt, for eksempel kort tid efter høst af dæksæd. For at opnå den bedste effekt af Mateno Duo 600 SC, er det afgørende, at der er en vis jordfugt til stede. I nogle tilfælde kan kombinationen af Mateno Duo 600 SC med Boxer give en bedre bekæmpelse af væselhale. Dog kan anvendelsen af Boxer være problematisk på det tidlige tidspunkt på grund af fordampningsproblematikken omkring prosulfocarb."
      ],
      "text/plain": [
       "<IPython.core.display.Markdown object>"
      ]
     },
     "metadata": {},
     "output_type": "display_data"
    }
   ],
   "source": [
    "keyword_response = keyword_query_engine.query(\"hvordan bekæmper jeg væselhale?\")\n",
    "display(Markdown(keyword_response.response))"
   ]
  },
  {
   "cell_type": "code",
   "execution_count": 123,
   "metadata": {},
   "outputs": [
    {
     "data": {
      "text/markdown": [
       "For at bekæmpe væselhale kan du anvende 0,7 l. Mateno Duo 600 SC pr. ha. Dette har vist sig at være mest effektivt, når det anvendes tidligt, for eksempel den 20. august. Tilsætning af Boxer kan også reducere mængden af væselhale i frøet, men det kan ikke anvendes i praksis på de behandlingstidspunkter, der er blevet anvendt i dette forsøg, på grund af fordampning af prosulfocarb. Andre muligheder inkluderer brugen af 1,5 l Boxer + 0,05 l DFF, 0,7 l Mateno Duo + 1 l Boxer, 0,5 l Mateno Duo + 1 l Boxer, 0,35 l Mateno Duo + 1,5 l Boxer, 0,7 l Mateno Duo, 0,5 l Mateno Duo + 1 l Boxer og 0,75 l Atlantis OD, eller 0,7 l Mateno Duo + 1 l Boxer. Det optimale tidspunkt for bekæmpelse af væselhale med Boxer og Mateno Duo er ikke specificeret."
      ],
      "text/plain": [
       "<IPython.core.display.Markdown object>"
      ]
     },
     "metadata": {},
     "output_type": "display_data"
    }
   ],
   "source": [
    "vector_response = vector_query_engine.query(\"hvordan bekæmper jeg væselhale?\")\n",
    "display(Markdown(vector_response.response))"
   ]
  },
  {
   "cell_type": "code",
   "execution_count": 124,
   "metadata": {},
   "outputs": [
    {
     "data": {
      "text/markdown": [
       "For at bekæmpe væselhale effektivt, kan du anvende Mateno Duo 600 SC. Den bedste bekæmpelse er opnået ved at anvende 0,7 l. Mateno Duo 600 SC pr. ha den 20. august, hvilket betyder en tidlig sprøjtning. Tilsætning af Boxer kan også give færre væselhaler i frøet, men det kan være problematisk at anvende på det tidlige tidspunkt på grund af fordampningsproblemer med prosulfocarb. Det er vigtigt at bemærke, at væselhale skal bekæmpes så tidligt som muligt for at opnå den bedste effekt."
      ],
      "text/plain": [
       "<IPython.core.display.Markdown object>"
      ]
     },
     "metadata": {},
     "output_type": "display_data"
    }
   ],
   "source": [
    "custom_response = custom_query_engine.query('Hvordan bekæmper jeg væselhale?')\n",
    "display(Markdown(custom_response.response))"
   ]
  },
  {
   "cell_type": "code",
   "execution_count": 110,
   "metadata": {},
   "outputs": [],
   "source": [
    "from llama_index.core import get_response_synthesizer\n",
    "from llama_index.core.query_engine import RetrieverQueryEngine\n",
    "\n",
    "# define custom retriever\n",
    "vector_retriever = VectorIndexRetriever(index=vector_index, similarity_top_k=2)\n",
    "keyword_retriever = KeywordTableSimpleRetriever(index=keyword_index)\n",
    "custom_retriever = CustomRetriever(vector_retriever, keyword_retriever, mode='OR')\n",
    "\n",
    "# define response synthesizer\n",
    "llm = AzureOpenAI(\n",
    "    model='gpt-4',\n",
    "    deployment_name=\"gpt4\",\n",
    "    api_key=os.getenv(\"OPENAI_API_KEY\"),\n",
    "    api_version=os.getenv(\"OPENAI_API_VERSION\"),\n",
    "    azure_endpoint=os.getenv(\"AZURE_OPENAI_ENDPOINT\")\n",
    ")\n",
    "\n",
    "# assemble query engine\n",
    "hybrid_query_engine = LLMQueryEngine(\n",
    "    retriever=custom_retriever,\n",
    "    llm=llm,\n",
    ")"
   ]
  },
  {
   "cell_type": "code",
   "execution_count": 111,
   "metadata": {},
   "outputs": [
    {
     "data": {
      "text/plain": [
       "<__main__.LLMQueryEngine at 0x7f3819ffc0d0>"
      ]
     },
     "execution_count": 111,
     "metadata": {},
     "output_type": "execute_result"
    }
   ],
   "source": [
    "hybrid_query_engine"
   ]
  },
  {
   "cell_type": "code",
   "execution_count": 112,
   "metadata": {},
   "outputs": [],
   "source": [
    "hybrid_response = hybrid_query_engine.query(\n",
    "    \"Hvordan bekæmper jeg væselhale?\"\n",
    ")"
   ]
  },
  {
   "cell_type": "code",
   "execution_count": 127,
   "metadata": {},
   "outputs": [
    {
     "data": {
      "text/markdown": [
       "For at bekæmpe væselhale kan du bruge Mateno Duo 600 SC. Det er vigtigt at sprøjte så tidligt som muligt, helst kort tid efter høst af dæksæd. For at opnå den bedste effekt af Mateno Duo 600 SC, skal der være en vis jordfugt til stede. Tilsætning af Boxer kan give en bedre bekæmpelse af væselhale, men det kan være problematisk at anvende på et tidligt tidspunkt på grund af fordampningsproblemer med prosulfocarb. Det er også vigtigt at bemærke, at kemisk bekæmpelse af væselhale ikke kan stå alene, men at bestanden skal bringes ned på et niveau, hvor de tilbageværende væselhale efter kemisk bekæmpelse er få og uden betydning for fortsat opformering og spredning."
      ],
      "text/plain": [
       "<IPython.core.display.Markdown object>"
      ]
     },
     "metadata": {},
     "output_type": "display_data"
    }
   ],
   "source": [
    "display(Markdown(hybrid_response.text))"
   ]
  }
 ],
 "metadata": {
  "kernelspec": {
   "display_name": "advanced-rag-env",
   "language": "python",
   "name": "python3"
  },
  "language_info": {
   "codemirror_mode": {
    "name": "ipython",
    "version": 3
   },
   "file_extension": ".py",
   "mimetype": "text/x-python",
   "name": "python",
   "nbconvert_exporter": "python",
   "pygments_lexer": "ipython3",
   "version": "3.11.6"
  }
 },
 "nbformat": 4,
 "nbformat_minor": 2
}
